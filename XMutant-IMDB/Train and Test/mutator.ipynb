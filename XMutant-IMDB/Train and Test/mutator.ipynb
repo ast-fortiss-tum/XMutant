{
 "cells": [
  {
   "cell_type": "code",
   "execution_count": 1,
   "metadata": {},
   "outputs": [
    {
     "name": "stdout",
     "output_type": "stream",
     "text": [
      "/home/xchen/Projects/XMutant/XMutant-IMDB/Train and Test\n"
     ]
    }
   ],
   "source": [
    "import os\n",
    "print(os.getcwd())\n",
    "os.chdir(\"../\")"
   ]
  },
  {
   "cell_type": "code",
   "execution_count": 2,
   "metadata": {},
   "outputs": [
    {
     "name": "stderr",
     "output_type": "stream",
     "text": [
      "2024-09-04 11:26:20.272425: E tensorflow/stream_executor/cuda/cuda_driver.cc:271] failed call to cuInit: CUDA_ERROR_UNKNOWN: unknown error\n"
     ]
    },
    {
     "name": "stdout",
     "output_type": "stream",
     "text": [
      "Loaded model from disk models/imdb_lstm_model.h5\n"
     ]
    }
   ],
   "source": [
    "from predictor import Predictor\n",
    "predictor = Predictor()"
   ]
  },
  {
   "cell_type": "code",
   "execution_count": 3,
   "metadata": {},
   "outputs": [
    {
     "name": "stderr",
     "output_type": "stream",
     "text": [
      "/home/xchen/miniconda3/envs/deepjanus-pri/lib/python3.8/site-packages/tqdm/auto.py:21: TqdmWarning: IProgress not found. Please update jupyter and ipywidgets. See https://ipywidgets.readthedocs.io/en/stable/user_install.html\n",
      "  from .autonotebook import tqdm as notebook_tqdm\n"
     ]
    },
    {
     "name": "stdout",
     "output_type": "stream",
     "text": [
      "Loaded model from disk models/imdb_lstm_model.h5\n"
     ]
    }
   ],
   "source": [
    "from mutation_manager import *\n",
    "from population import *\n",
    "from individual import Individual\n",
    "from xai_imdb import *\n",
    "from utils import *"
   ]
  },
  {
   "cell_type": "code",
   "execution_count": 14,
   "metadata": {},
   "outputs": [
    {
     "name": "stdout",
     "output_type": "stream",
     "text": [
      "start\n",
      "<start> this is by far the worst movie i rich person ever seen its been a few years since i saw it and nothing has come close since then and i doubt that there ever will be a movie produced that is as bad as this it tries to make fun of a variety of different movies for example and instead of funny its just pathetic whatever you do don't rent or by this garbage and if someone throws it at you turn around and run the other way\n",
      "0\n"
     ]
    }
   ],
   "source": [
    "print(ID_TO_WORD[380]) \n",
    "\n",
    "idlist = [ 1,14, 9,34,230, 4,249, 20, 13, 1026,415,126,110, 94, 77,6,171,153,237, 13,219, 12,5,164, 47,216,491,237,\n",
    "          95,5, 13,824, 15, 50,126, 80, 30,6, 20 ,1055, 15,9, 17, 78, 17, 14, 12,497,8, 97,253,7,6, 2593,7,275,\n",
    "          102, 18,463,5,305,7,163, 94, 43, 1235,845, 25, 81, 92,851, 42, 34, 14, 1244,5, 48,294 ,2884, 12, 33, 25,471,187,\n",
    "          5,521,4, 85, 96]\n",
    "print(indices2words(idlist))\n",
    "\n",
    "import difflib\n",
    "\n",
    "def find_word_location(sentence, word):\n",
    "    # Split the sentence into words\n",
    "    words = sentence.split()\n",
    "    \n",
    "    # Use difflib to find the closest match in the sentence\n",
    "    closest_matches = difflib.get_close_matches(word, words, n=1, cutoff=0.8)\n",
    "    \n",
    "    # If a close match is found, return its position\n",
    "    if closest_matches:\n",
    "        return words.index(closest_matches[0])\n",
    "    else:\n",
    "        return -1\n",
    "    \n",
    "print(find_word_location(indices2words(idlist), ID_TO_WORD[380]))"
   ]
  },
  {
   "cell_type": "code",
   "execution_count": 20,
   "metadata": {},
   "outputs": [
    {
     "name": "stdout",
     "output_type": "stream",
     "text": [
      "ll\n",
      "george\n",
      "start\n",
      "can\n",
      "s\n",
      "ll\n"
     ]
    }
   ],
   "source": [
    "print(ID_TO_WORD[8728]) \n",
    "print(ID_TO_WORD[742]) \n",
    "print(ID_TO_WORD[380]) \n",
    "print(ID_TO_WORD[70]) \n",
    "print(ID_TO_WORD[590]) \n",
    "print(ID_TO_WORD[8728]) \n"
   ]
  },
  {
   "cell_type": "code",
   "execution_count": 22,
   "metadata": {},
   "outputs": [
    {
     "name": "stdout",
     "output_type": "stream",
     "text": [
      "5\n"
     ]
    }
   ],
   "source": [
    "print(WORD_TO_ID['and'])"
   ]
  },
  {
   "cell_type": "code",
   "execution_count": 4,
   "metadata": {},
   "outputs": [
    {
     "ename": "TypeError",
     "evalue": "evaluate_population() missing 1 required positional argument: 'folder'",
     "output_type": "error",
     "traceback": [
      "\u001b[0;31m---------------------------------------------------------------------------\u001b[0m",
      "\u001b[0;31mTypeError\u001b[0m                                 Traceback (most recent call last)",
      "Cell \u001b[0;32mIn[4], line 2\u001b[0m\n\u001b[1;32m      1\u001b[0m pop \u001b[38;5;241m=\u001b[39m Population(pop_size\u001b[38;5;241m=\u001b[39m\u001b[38;5;241m10\u001b[39m, xai_method\u001b[38;5;241m=\u001b[39m\u001b[38;5;124m\"\u001b[39m\u001b[38;5;124mVanillaSaliency\u001b[39m\u001b[38;5;124m\"\u001b[39m)\n\u001b[0;32m----> 2\u001b[0m \u001b[43mpop\u001b[49m\u001b[38;5;241;43m.\u001b[39;49m\u001b[43mevaluate_population\u001b[49m\u001b[43m(\u001b[49m\u001b[43mgen_number\u001b[49m\u001b[38;5;241;43m=\u001b[39;49m\u001b[38;5;241;43m0\u001b[39;49m\u001b[43m)\u001b[49m\n\u001b[1;32m      4\u001b[0m pop_sm \u001b[38;5;241m=\u001b[39m Population(pop_size\u001b[38;5;241m=\u001b[39m\u001b[38;5;241m10\u001b[39m, xai_method\u001b[38;5;241m=\u001b[39m\u001b[38;5;124m\"\u001b[39m\u001b[38;5;124mSmoothGrad\u001b[39m\u001b[38;5;124m\"\u001b[39m)\n\u001b[1;32m      5\u001b[0m pop_sm\u001b[38;5;241m.\u001b[39mevaluate_population(gen_number\u001b[38;5;241m=\u001b[39m\u001b[38;5;241m0\u001b[39m)\n",
      "\u001b[0;31mTypeError\u001b[0m: evaluate_population() missing 1 required positional argument: 'folder'"
     ]
    }
   ],
   "source": [
    "import folder\n",
    "\n",
    "\n",
    "pop = Population(pop_size=10, xai_method=\"VanillaSaliency\")\n",
    "pop.evaluate_population(gen_number=0, )\n",
    "\n",
    "pop_sm = Population(pop_size=10, xai_method=\"SmoothGrad\")\n",
    "pop_sm.evaluate_population(gen_number=0)\n",
    "\n",
    "pop_ig = Population(pop_size=10, xai_method=\"IntegratedGradients\")\n",
    "pop_ig.evaluate_population(gen_number=0)"
   ]
  },
  {
   "cell_type": "code",
   "execution_count": null,
   "metadata": {},
   "outputs": [
    {
     "name": "stdout",
     "output_type": "stream",
     "text": [
      "1\n",
      "700\n",
      "+ ranked word  (291, 'year', 0.0013853635) 699\n",
      "+ ranked word  (7, 'of', 0.00030016858) 697\n",
      "+ ranked word  (4, 'the', 0.00024768023) 698\n",
      "+ ranked word  (20, 'movie', 0.00022223161) 696\n",
      "+ ranked word  (118, 'best', 0.00019779257) 695\n",
      "+ ranked word  (17, 'as', 0.00017268411) 691\n",
      "+ ranked word  (2794, 'encounter', 0.00016696408) 686\n",
      "+ ranked word  (31, 'one', 0.00016116945) 692\n",
      "+ ranked word  (4, 'the', 0.00014026341) 694\n",
      "+ ranked word  (7, 'of', 0.00013743641) 693\n",
      "+ ranked word  (14, 'this', 0.00013596832) 690\n",
      "+ ranked word  (112, 'being', 0.00012458983) 684\n",
      "+ ranked word  (39, 'from', 0.00011996478) 683\n",
      "+ ranked word  (12744, 'specialist', 0.00011957777) 687\n",
      "+ ranked word  (13, 'i', 0.00011077604) 688\n",
      "+ ranked word  (1141, 'common', 0.000107036205) 677\n",
      "+ ranked word  (15406, 'patekar', 0.00010344756) 653\n",
      "+ ranked word  (327, 'nice', 9.754354e-05) 610\n",
      "+ ranked word  (87, 'great', 9.687738e-05) 613\n",
      "+ ranked word  (10509, 'nana', 9.677308e-05) 652\n",
      "-----------------------------------------------\n",
      "1\n",
      "700\n",
      "+ ranked word  (12, 'it', 0.012803733) 699\n",
      "+ ranked word  (25, 'you', 0.0039027282) 696\n",
      "+ ranked word  (67, 'see', 0.003876316) 698\n",
      "+ ranked word  (470, '4', 0.0036278737) 686\n",
      "+ ranked word  (1224, 'brain', 0.0033108103) 694\n",
      "+ ranked word  (8, 'to', 0.0032295734) 697\n",
      "+ ranked word  (16632, 'levinson', 0.0032018507) 611\n",
      "+ ranked word  (386, 'recommend', 0.0031665955) 664\n",
      "+ ranked word  (212, 'comedy', 0.003092719) 671\n",
      "+ ranked word  (19, 'with', 0.0030159196) 695\n",
      "+ ranked word  (24, 'not', 0.0028974977) 689\n",
      "+ ranked word  (1972, 'morning', 0.002800822) 617\n",
      "+ ranked word  (129, 'your', 0.0027250566) 693\n",
      "+ ranked word  (25, 'you', 0.0026138728) 691\n",
      "+ ranked word  (586, \"wouldn't\", 0.0025486243) 649\n",
      "+ ranked word  (20, 'movie', 0.0024180643) 685\n",
      "+ ranked word  (9, 'is', 0.0024110163) 688\n",
      "+ ranked word  (193, 'take', 0.0022845054) 692\n",
      "+ ranked word  (591, 'please', 0.0022701325) 678\n",
      "+ ranked word  (3409, 'rush', 0.0022612265) 653\n",
      "-----------------------------------------------\n",
      "0\n",
      "700\n",
      "+ ranked word  (158, '10', 3.9773797e-05) 699\n",
      "+ ranked word  (925, 'dream', 2.7765238e-05) 697\n",
      "+ ranked word  (412, 'live', 2.6263448e-05) 695\n",
      "+ ranked word  (129, 'your', 2.366076e-05) 696\n",
      "+ ranked word  (25, 'you', 1.9905126e-05) 694\n",
      "+ ranked word  (80, 'will', 1.824295e-05) 692\n",
      "+ ranked word  (342, '3', 1.6730464e-05) 698\n",
      "+ ranked word  (387, 'let', 1.500116e-05) 693\n",
      "+ ranked word  (10075, 'elementary', 1.402882e-05) 651\n",
      "+ ranked word  (473, 'wanted', 1.389496e-05) 683\n",
      "+ ranked word  (20, 'movie', 1.3477468e-05) 691\n",
      "+ ranked word  (1345, 'pass', 1.216332e-05) 688\n",
      "+ ranked word  (11072, 'dicaprio', 1.1551763e-05) 630\n",
      "+ ranked word  (1352, 'costumes', 1.1454497e-05) 649\n",
      "+ ranked word  (2551, 'gas', 1.1350618e-05) 689\n",
      "+ ranked word  (14, 'this', 1.1144202e-05) 690\n",
      "+ ranked word  (482, 'guess', 1.0093158e-05) 678\n",
      "+ ranked word  (2449, 'till', 9.966658e-06) 665\n",
      "+ ranked word  (67, 'see', 9.3860435e-06) 685\n",
      "+ ranked word  (78, 'bad', 9.052959e-06) 616\n",
      "-----------------------------------------------\n",
      "1\n",
      "700\n",
      "+ ranked word  (1183, 'fit', 0.024202086) 699\n",
      "+ ranked word  (7812, 'imho', 0.010574456) 697\n",
      "+ ranked word  (16588, 'fraser', 0.009420635) 695\n",
      "+ ranked word  (2857, 'basis', 0.0091670025) 686\n",
      "+ ranked word  (1988, 'regular', 0.008307689) 685\n",
      "+ ranked word  (469, 'throughout', 0.008267876) 687\n",
      "+ ranked word  (3021, 'laura', 0.008166245) 694\n",
      "+ ranked word  (37, 'who', 0.0075364467) 696\n",
      "+ ranked word  (18, 'for', 0.007220081) 693\n",
      "+ ranked word  (9, 'is', 0.0071380334) 698\n",
      "+ ranked word  (447, 'loved', 0.0071173143) 691\n",
      "+ ranked word  (12, 'it', 0.005708998) 692\n",
      "+ ranked word  (13, 'i', 0.0055258535) 690\n",
      "+ ranked word  (23, 'on', 0.005017288) 683\n",
      "+ ranked word  (151, 'though', 0.004607252) 689\n",
      "+ ranked word  (6, 'a', 0.0043993713) 684\n",
      "+ ranked word  (1276, 'personally', 0.004323605) 688\n",
      "+ ranked word  (1104, 'laughing', 0.004297905) 682\n",
      "+ ranked word  (386, 'recommend', 0.0037127861) 651\n",
      "+ ranked word  (9379, 'transformers', 0.0032005361) 644\n",
      "-----------------------------------------------\n"
     ]
    }
   ],
   "source": [
    "def view_attribution_ranking(idx, pop):\n",
    "    ind = pop.population_to_mutate[idx]\n",
    "    indices0 = ind.indices\n",
    "    explanation0 =  ind.attention\n",
    "    print(ind.predicted_label)\n",
    "\n",
    "    print(len(indices0))\n",
    "    indices, gradients, ranked_indices = top_k_attributions(indices0, explanation0)\n",
    "    for id, grad, loc in zip(indices, gradients, ranked_indices):\n",
    "        if grad > 0:\n",
    "            print(f\"+ ranked word \", (id, utils.ID_TO_WORD[id], grad), loc)\n",
    "        else:\n",
    "            print(f\"- ranked word \", (id, utils.ID_TO_WORD[id], grad), loc)\n",
    "\n",
    "for i in range(4):\n",
    "    view_attribution_ranking(i, pop)\n",
    "    print(\"-----------------------------------------------\")"
   ]
  },
  {
   "cell_type": "code",
   "execution_count": null,
   "metadata": {},
   "outputs": [
    {
     "name": "stdout",
     "output_type": "stream",
     "text": [
      "1\n",
      "700\n",
      "+ ranked word  (291, 'year', 0.0004223892) 699\n",
      "+ ranked word  (7, 'of', 9.314263e-05) 697\n",
      "+ ranked word  (4, 'the', 7.6749886e-05) 698\n",
      "+ ranked word  (20, 'movie', 6.415913e-05) 696\n",
      "+ ranked word  (118, 'best', 5.7167133e-05) 695\n",
      "+ ranked word  (17, 'as', 4.3338347e-05) 691\n",
      "+ ranked word  (31, 'one', 4.299565e-05) 692\n",
      "+ ranked word  (4, 'the', 4.166082e-05) 694\n",
      "+ ranked word  (7, 'of', 3.9781873e-05) 693\n",
      "+ ranked word  (2794, 'encounter', 3.7703692e-05) 686\n",
      "+ ranked word  (14, 'this', 3.434806e-05) 690\n",
      "+ ranked word  (39, 'from', 3.2243166e-05) 683\n",
      "+ ranked word  (112, 'being', 3.2177235e-05) 684\n",
      "+ ranked word  (12744, 'specialist', 3.0968287e-05) 687\n",
      "+ ranked word  (967, 'rate', 3.0458821e-05) 689\n",
      "+ ranked word  (972, 'apart', 2.7641205e-05) 682\n",
      "+ ranked word  (13, 'i', 2.5889685e-05) 688\n",
      "+ ranked word  (35, 'an', 2.3884184e-05) 685\n",
      "+ ranked word  (327, 'nice', 2.3466435e-05) 610\n",
      "+ ranked word  (10509, 'nana', 2.2520195e-05) 652\n",
      "-----------------------------------------------\n",
      "1\n",
      "700\n",
      "+ ranked word  (12, 'it', 0.14316428) 699\n",
      "+ ranked word  (212, 'comedy', 0.07184388) 671\n",
      "+ ranked word  (1224, 'brain', 0.062520586) 694\n",
      "+ ranked word  (25, 'you', 0.061785802) 696\n",
      "+ ranked word  (67, 'see', 0.056688044) 698\n",
      "+ ranked word  (8, 'to', 0.056597278) 697\n",
      "+ ranked word  (470, '4', 0.051374927) 686\n",
      "+ ranked word  (24, 'not', 0.051143445) 689\n",
      "+ ranked word  (129, 'your', 0.04769456) 693\n",
      "+ ranked word  (16632, 'levinson', 0.04766693) 611\n",
      "+ ranked word  (386, 'recommend', 0.044718746) 664\n",
      "+ ranked word  (586, \"wouldn't\", 0.04244473) 649\n",
      "+ ranked word  (19, 'with', 0.041546226) 695\n",
      "+ ranked word  (9, 'is', 0.041200727) 688\n",
      "+ ranked word  (87, 'great', 0.03923312) 625\n",
      "+ ranked word  (3409, 'rush', 0.03891857) 653\n",
      "+ ranked word  (102, 'movies', 0.036645733) 682\n",
      "+ ranked word  (25, 'you', 0.036245234) 691\n",
      "+ ranked word  (18, 'for', 0.035894725) 690\n",
      "+ ranked word  (1175, 'chemistry', 0.03576091) 626\n",
      "-----------------------------------------------\n",
      "0\n",
      "700\n",
      "+ ranked word  (158, '10', 0.00024308053) 699\n",
      "+ ranked word  (412, 'live', 0.0002004419) 695\n",
      "+ ranked word  (925, 'dream', 0.00016885804) 697\n",
      "+ ranked word  (25, 'you', 0.00015905728) 694\n",
      "+ ranked word  (129, 'your', 0.00015768595) 696\n",
      "+ ranked word  (80, 'will', 0.000115598166) 692\n",
      "+ ranked word  (20, 'movie', 0.00011045912) 691\n",
      "+ ranked word  (342, '3', 0.000107231834) 698\n",
      "+ ranked word  (387, 'let', 0.00010720083) 693\n",
      "+ ranked word  (14, 'this', 9.997896e-05) 690\n",
      "+ ranked word  (473, 'wanted', 9.924277e-05) 683\n",
      "+ ranked word  (2551, 'gas', 9.81305e-05) 689\n",
      "+ ranked word  (10075, 'elementary', 8.8101806e-05) 651\n",
      "+ ranked word  (11072, 'dicaprio', 8.691193e-05) 630\n",
      "+ ranked word  (1352, 'costumes', 8.562534e-05) 649\n",
      "+ ranked word  (1939, 'monsters', 8.353692e-05) 637\n",
      "+ ranked word  (1345, 'pass', 8.244275e-05) 688\n",
      "+ ranked word  (482, 'guess', 8.000339e-05) 678\n",
      "+ ranked word  (12, 'it', 7.652908e-05) 664\n",
      "+ ranked word  (227, 'bit', 7.219608e-05) 670\n",
      "-----------------------------------------------\n",
      "1\n",
      "700\n",
      "+ ranked word  (1183, 'fit', 0.11285632) 699\n",
      "+ ranked word  (7812, 'imho', 0.0666539) 697\n",
      "+ ranked word  (1988, 'regular', 0.053573303) 685\n",
      "+ ranked word  (16588, 'fraser', 0.051073216) 695\n",
      "+ ranked word  (9, 'is', 0.04694584) 698\n",
      "+ ranked word  (2857, 'basis', 0.046190903) 686\n",
      "+ ranked word  (37, 'who', 0.04230196) 696\n",
      "+ ranked word  (469, 'throughout', 0.041889504) 687\n",
      "+ ranked word  (3021, 'laura', 0.039611332) 694\n",
      "+ ranked word  (151, 'though', 0.039108835) 689\n",
      "+ ranked word  (438, 'cinema', 0.032822955) 679\n",
      "+ ranked word  (447, 'loved', 0.032125838) 691\n",
      "+ ranked word  (22, 'film', 0.030249592) 647\n",
      "+ ranked word  (18, 'for', 0.029861238) 693\n",
      "+ ranked word  (1104, 'laughing', 0.02871954) 682\n",
      "+ ranked word  (372, 'women', 0.02830288) 659\n",
      "+ ranked word  (1276, 'personally', 0.02732733) 688\n",
      "+ ranked word  (12, 'it', 0.027250474) 692\n",
      "+ ranked word  (6, 'a', 0.0261973) 684\n",
      "+ ranked word  (386, 'recommend', 0.025110656) 651\n",
      "-----------------------------------------------\n"
     ]
    }
   ],
   "source": [
    "for i in range(4):\n",
    "    view_attribution_ranking(i, pop_sm)\n",
    "    print(\"-----------------------------------------------\")"
   ]
  },
  {
   "cell_type": "code",
   "execution_count": null,
   "metadata": {},
   "outputs": [
    {
     "name": "stdout",
     "output_type": "stream",
     "text": [
      "<pad> <pad> <pad> <pad> <pad> <pad> <pad> <pad> <pad> <pad> <pad> <pad> <pad> <pad> <pad> <pad> <pad> <pad> <pad> <pad> <pad> <pad> <pad> <pad> <pad> <pad> <pad> <pad> <pad> <pad> <pad> <pad> <pad> <pad> <pad> <pad> <pad> <pad> <pad> <pad> <pad> <pad> <pad> <pad> <pad> <pad> <pad> <pad> <pad> <pad> <pad> <pad> <pad> <pad> <pad> <pad> <pad> <pad> <pad> <pad> <pad> <pad> <pad> <pad> <pad> <pad> <pad> <pad> <pad> <pad> <pad> <pad> <pad> <pad> <pad> <pad> <pad> <pad> <pad> <pad> <pad> <pad> <pad> <pad> <pad> <pad> <pad> <pad> <pad> <pad> <pad> <pad> <pad> <pad> <pad> <pad> <pad> <pad> <pad> <pad> <pad> <pad> <pad> <pad> <pad> <pad> <pad> <pad> <pad> <pad> <pad> <pad> <pad> <pad> <pad> <pad> <pad> <pad> <pad> <pad> <pad> <pad> <pad> <pad> <pad> <pad> <pad> <pad> <pad> <pad> <pad> <pad> <pad> <pad> <pad> <pad> <pad> <pad> <pad> <pad> <pad> <pad> <pad> <pad> <pad> <pad> <pad> <pad> <pad> <pad> <pad> <pad> <pad> <pad> <pad> <pad> <pad> <pad> <pad> <pad> <pad> <pad> <pad> <pad> <pad> <pad> <pad> <pad> <pad> <pad> <pad> <pad> <pad> <pad> <pad> <pad> <pad> <pad> <pad> <pad> <pad> <pad> <pad> <pad> <pad> <pad> <pad> <pad> <pad> <pad> <pad> <pad> <pad> <pad> <pad> <pad> <pad> <pad> <pad> <pad> <pad> <pad> <pad> <pad> <pad> <pad> <pad> <pad> <pad> <pad> <pad> <pad> <pad> <pad> <pad> <pad> <pad> <pad> <pad> <pad> <pad> <pad> <pad> <pad> <pad> <pad> <pad> <pad> <pad> <pad> <pad> <pad> <pad> <pad> <pad> <pad> <pad> <pad> <pad> <pad> <pad> <pad> <pad> <pad> <pad> <pad> <pad> <pad> <pad> <pad> <pad> <pad> <pad> <pad> <pad> <pad> <pad> <pad> <pad> <pad> <pad> <pad> <pad> <pad> <pad> <pad> <pad> <pad> <pad> <pad> <pad> <pad> <pad> <pad> <pad> <pad> <pad> <pad> <pad> <pad> <pad> <pad> <pad> <pad> <pad> <pad> <pad> <pad> <pad> <pad> <pad> <pad> <pad> <pad> <pad> <pad> <pad> <pad> <pad> <pad> <pad> <pad> <pad> <pad> <pad> <pad> <pad> <pad> <pad> <pad> <pad> <pad> <pad> <pad> <pad> <pad> <pad> <pad> <pad> <pad> <pad> <pad> <pad> <pad> <pad> <pad> <pad> <pad> <pad> <pad> <pad> <pad> <pad> <pad> <pad> <pad> <pad> <pad> <pad> <pad> <pad> <pad> <pad> <pad> <pad> <pad> <pad> <pad> <pad> <pad> <pad> <pad> <pad> <pad> <pad> <pad> <pad> <pad> <pad> <pad> <pad> <pad> <pad> <pad> <pad> <pad> <pad> <pad> <pad> <pad> <pad> <pad> <pad> <pad> <pad> <pad> <pad> <pad> <pad> <pad> <pad> <pad> <pad> <pad> <pad> <pad> <pad> <pad> <pad> <pad> <pad> <pad> <pad> <pad> <pad> <pad> <pad> <pad> <pad> <pad> <pad> <pad> <pad> <pad> <pad> <pad> <pad> <pad> <pad> <pad> <pad> <pad> <pad> <pad> <pad> <pad> <pad> <pad> <pad> <pad> <pad> <pad> <pad> <pad> <pad> <pad> <pad> <pad> <pad> <pad> <pad> <pad> <pad> <pad> <pad> <pad> <pad> <pad> <pad> <pad> <pad> <pad> <pad> <pad> <pad> <pad> <pad> <pad> <pad> <pad> <pad> <pad> <pad> <pad> <pad> <pad> <pad> <pad> <pad> <pad> <pad> <pad> <pad> <pad> <pad> <pad> <pad> <pad> <pad> <pad> <pad> <pad> <pad> <pad> <pad> <pad> <pad> <pad> <pad> <pad> <pad> <pad> <pad> <pad> <pad> <pad> <pad> <pad> <pad> <pad> <pad> <pad> <pad> <pad> <pad> <pad> <pad> <pad> <pad> <pad> <pad> <pad> <pad> <pad> <pad> <pad> <pad> <pad> <pad> <pad> <pad> <pad> <pad> <pad> <pad> <pad> <pad> <pad> <pad> <pad> <pad> <pad> <pad> <pad> <pad> <pad> <pad> <pad> <pad> <pad> <pad> <pad> <pad> <pad> <pad> <pad> <pad> <pad> <pad> <pad> <pad> <pad> <pad> <pad> <pad> <pad> <pad> <pad> <pad> <pad> <pad> <pad> <pad> <pad> <pad> <pad> <pad> <pad> <pad> <pad> <pad> <pad> <pad> <pad> <pad> <pad> <pad> <pad> <pad> <pad> <pad> <pad> <pad> <pad> <pad> <pad> <pad> <pad> <pad> <pad> <pad> <pad> <pad> <pad> <start> i almost stopped watching hindi movies because of the mediocre quality and story lines one exception for this is <unk> <unk> movies this is a nice movie with great performances from the star cast this is must see movie for those who are sick of watching stupid dancing and love stories the adaptation of the story and characterization was exceptional good you should watch this movie for nana patekar based on the life of mumbai cop this movie deals in a more realistic way the film delves into the life of the common man which he has apart from being an encounter specialist i rate this as one of the best movie of the year\n",
      "1\n",
      "700\n",
      "+ ranked word  (291, 'year', 2.292474398947714e-05) 699\n",
      "- ranked word  (1501, 'mediocre', -1.6503037113316585e-05) 594\n",
      "+ ranked word  (118, 'best', 1.6360347168005057e-05) 695\n",
      "+ ranked word  (1141, 'common', 1.1229086602402633e-05) 677\n",
      "- ranked word  (6374, 'hindi', -8.85342163861949e-06) 589\n",
      "- ranked word  (2230, 'stopped', -8.781950964030322e-06) 587\n",
      "+ ranked word  (3160, 'exceptional', 8.361054008072947e-06) 644\n",
      "+ ranked word  (15406, 'patekar', 7.820843427100105e-06) 653\n",
      "- ranked word  (4, 'the', -7.484097280009261e-06) 698\n",
      "- ranked word  (967, 'rate', -6.431007622048707e-06) 689\n",
      "+ ranked word  (10509, 'nana', 6.268761017157219e-06) 652\n",
      "- ranked word  (379, 'stupid', -6.042576605861694e-06) 631\n",
      "- ranked word  (2794, 'encounter', -5.8584642228488404e-06) 686\n",
      "+ ranked word  (354, 'performances', 5.588837051195184e-06) 614\n",
      "+ ranked word  (87, 'great', 5.4679237271115966e-06) 613\n",
      "+ ranked word  (821, 'realistic', 5.055549107139241e-06) 667\n",
      "+ ranked word  (119, 'love', 5.026205901113733e-06) 634\n",
      "+ ranked word  (327, 'nice', 4.925648472609695e-06) 610\n",
      "- ranked word  (7, 'of', -4.750839261041244e-06) 697\n",
      "- ranked word  (112, 'being', -4.690802522760864e-06) 684\n",
      "-----------------------------------------------\n",
      "1\n",
      "700\n",
      "- ranked word  (1224, 'brain', -6.549054007113217e-05) 694\n",
      "- ranked word  (470, '4', -6.539724075130776e-05) 686\n",
      "- ranked word  (16632, 'levinson', -5.9096085123293076e-05) 611\n",
      "+ ranked word  (12, 'it', 4.82284329999454e-05) 699\n",
      "+ ranked word  (1529, 'funniest', 3.846418936906171e-05) 595\n",
      "+ ranked word  (67, 'see', 3.723706469449619e-05) 698\n",
      "- ranked word  (3409, 'rush', -3.263476792770451e-05) 653\n",
      "- ranked word  (586, \"wouldn't\", -3.0975924876409766e-05) 649\n",
      "- ranked word  (24, 'not', -2.9564273189291515e-05) 689\n",
      "- ranked word  (9091, 'mockery', -2.2870032670994585e-05) 584\n",
      "+ ranked word  (129, 'your', 1.951238480290805e-05) 693\n",
      "+ ranked word  (87, 'great', 1.8959802734556763e-05) 625\n",
      "+ ranked word  (261, 'although', 1.8649249812622347e-05) 647\n",
      "+ ranked word  (87, 'great', 1.8390636124609925e-05) 676\n",
      "+ ranked word  (1052, 'office', 1.8321515397690512e-05) 587\n",
      "+ ranked word  (118, 'best', 1.609427927912748e-05) 599\n",
      "- ranked word  (1972, 'morning', -1.463869091746156e-05) 617\n",
      "+ ranked word  (25, 'you', 1.4391550383396165e-05) 696\n",
      "+ ranked word  (102, 'movies', 1.4245295879613158e-05) 682\n",
      "- ranked word  (193, 'take', -1.4067846644668904e-05) 692\n",
      "-----------------------------------------------\n",
      "0\n",
      "700\n",
      "+ ranked word  (1345, 'pass', 0.05589269674278737) 688\n",
      "+ ranked word  (342, '3', 0.03832563954971596) 698\n",
      "+ ranked word  (527, 'horrible', 0.02995743971668262) 582\n",
      "- ranked word  (925, 'dream', -0.02028358415516583) 697\n",
      "+ ranked word  (78, 'bad', 0.01697395374660617) 616\n",
      "+ ranked word  (473, 'wanted', 0.016149763878882957) 683\n",
      "+ ranked word  (387, 'let', 0.015591770251417471) 693\n",
      "+ ranked word  (11072, 'dicaprio', 0.014597195393649995) 630\n",
      "+ ranked word  (10075, 'elementary', 0.013817011487057891) 651\n",
      "- ranked word  (5866, 'schools', -0.01188973988333903) 652\n",
      "+ ranked word  (706, 'cheap', 0.010823796911041675) 633\n",
      "+ ranked word  (1352, 'costumes', 0.010509085838822695) 649\n",
      "- ranked word  (486, 'humor', -0.009691819470761753) 672\n",
      "- ranked word  (67, 'see', -0.009203823600648971) 685\n",
      "- ranked word  (412, 'live', -0.00852849516398907) 695\n",
      "- ranked word  (80, 'will', -0.008448213733362317) 692\n",
      "+ ranked word  (482, 'guess', 0.008167443744789483) 678\n",
      "+ ranked word  (2471, 'chose', 0.008153949004469238) 598\n",
      "+ ranked word  (289, 'three', 0.008034286656342635) 602\n",
      "+ ranked word  (5237, 'tacky', 0.0074524281842875875) 621\n",
      "-----------------------------------------------\n",
      "1\n",
      "700\n",
      "- ranked word  (16588, 'fraser', -0.0006973012860395139) 695\n",
      "+ ranked word  (447, 'loved', 0.0004577446083291674) 691\n",
      "+ ranked word  (469, 'throughout', 0.00034744648635560234) 687\n",
      "- ranked word  (3021, 'laura', -0.0003041494275226901) 694\n",
      "+ ranked word  (1988, 'regular', 0.00024487225596183905) 685\n",
      "+ ranked word  (7812, 'imho', 0.000175258890901131) 697\n",
      "- ranked word  (57, 'no', -0.00014788540181221298) 643\n",
      "+ ranked word  (9379, 'transformers', 0.0001457201256328352) 644\n",
      "- ranked word  (472, 'unfortunately', -0.00013336808703183955) 640\n",
      "- ranked word  (289, 'three', -0.00013162512546196096) 638\n",
      "+ ranked word  (1104, 'laughing', 0.0001239240919585528) 682\n",
      "- ranked word  (64, 'only', -0.00012069197853399277) 653\n",
      "- ranked word  (372, 'women', -9.825784029574197e-05) 659\n",
      "- ranked word  (23, 'on', -9.005540650885668e-05) 683\n",
      "+ ranked word  (73, 'well', 7.98297043938741e-05) 629\n",
      "- ranked word  (18, 'for', -6.854765625719088e-05) 693\n",
      "+ ranked word  (9, 'is', 6.0643989512717135e-05) 698\n",
      "+ ranked word  (124, 'know', 5.997941673347754e-05) 669\n",
      "- ranked word  (1107, 'value', -5.9067164047396336e-05) 656\n",
      "- ranked word  (18, 'for', -5.2873507071348886e-05) 635\n",
      "-----------------------------------------------\n"
     ]
    }
   ],
   "source": [
    "print(pop.population_to_mutate[0].text)\n",
    "for i in range(4):\n",
    "    view_attribution_ranking(i, pop_ig)\n",
    "    print(\"-----------------------------------------------\")\n",
    "\n"
   ]
  },
  {
   "cell_type": "code",
   "execution_count": null,
   "metadata": {},
   "outputs": [
    {
     "name": "stdout",
     "output_type": "stream",
     "text": [
      "target_class tf.Tensor(\n",
      "[[1]\n",
      " [1]\n",
      " [0]\n",
      " [1]\n",
      " [1]\n",
      " [1]\n",
      " [0]], shape=(7, 1), dtype=int32)\n",
      "predictions tf.Tensor(\n",
      "[[9.9997807e-01]\n",
      " [9.9981910e-01]\n",
      " [6.9482212e-07]\n",
      " [9.9959129e-01]\n",
      " [9.9973136e-01]\n",
      " [9.3898791e-01]\n",
      " [4.6939591e-01]], shape=(7, 1), dtype=float32)\n"
     ]
    },
    {
     "name": "stdout",
     "output_type": "stream",
     "text": [
      "Saliency map calculated successfully.\n",
      "(7, 700, 128)\n"
     ]
    }
   ],
   "source": [
    "ind = pop.population_to_mutate[0]\n",
    "indices0 = ind.indices\n",
    "\n",
    "model = predictor.model\n",
    "input_tensor = np.array([ind.indices for ind in pop.population_to_mutate])\n",
    "target_class = [ind.expected_label for ind in pop.population_to_mutate]\n",
    "\n",
    "# Ensure input_indices is a TensorFlow tensor and has batch dimension\n",
    "if not isinstance(input_tensor, tf.Tensor):\n",
    "    input_tensor = tf.convert_to_tensor(input_tensor)\n",
    "if len(input_tensor.shape) == 1:\n",
    "    input_tensor = tf.expand_dims(input_tensor, 0)  # Add batch dimension\n",
    "input_tensor = tf.cast(input_tensor, tf.int32)\n",
    "\n",
    "if not isinstance(target_class, tf.Tensor):\n",
    "    target_class = tf.convert_to_tensor(target_class)\n",
    "if len(target_class.shape) == 1:\n",
    "    target_class = tf.expand_dims(target_class, 1)  # Add batch dimension\n",
    "target_class = tf.cast(target_class, tf.int32)\n",
    "\n",
    "# Extract the embedding layer\n",
    "embedding_layer = model.get_layer(index=0)\n",
    "\n",
    "# Get the embeddings by passing through the embedding layer\n",
    "embeddings = embedding_layer(input_tensor)\n",
    "# print(embeddings)\n",
    "\n",
    "# Compute embeddings for the given index_list\n",
    "with tf.GradientTape() as tape:\n",
    "    # Watch the embedding layer output\n",
    "    tape.watch(embeddings)\n",
    "\n",
    "    # Pass embeddings through the rest of the model\n",
    "    x = embeddings\n",
    "    for layer in model.layers[1:]:\n",
    "        x = layer(x)\n",
    "    predictions = x\n",
    "\n",
    "    print(\"target_class\", target_class)\n",
    "    print(\"predictions\", predictions)\n",
    "    \n",
    "    # Since it's a binary classification, `preds` is already the probability of the positive class (class 1).\n",
    "    # If target_class is None, we'll assume we're focusing on class 1.\n",
    "    if target_class is None:\n",
    "        # If the predicted probability is > 0.5, assume class 1; else class 0.\n",
    "        target_class = 1 if predictions[0] > 0.5 else 0\n",
    "\n",
    "    # Calculate the loss based on the target class\n",
    "    loss = tf.where(target_class == 1, predictions, 1 - predictions)\n",
    "    bce_loss = tf.keras.losses.binary_crossentropy(target_class, predictions)\n",
    "# Compute the gradients with respect to the embeddings\n",
    "grads = tape.gradient(loss, embeddings)\n",
    "\n",
    "\n",
    "print(\"Saliency map calculated successfully.\")\n",
    "print(grads.shape)\n"
   ]
  },
  {
   "cell_type": "code",
   "execution_count": null,
   "metadata": {},
   "outputs": [],
   "source": [
    "saliency_map = back_propagate_embedding(grads, method=\"sum\")\n",
    "saliency_map = np.reshape(saliency_map, (-1, MAX_SEQUENCE_LENGTH))"
   ]
  },
  {
   "cell_type": "code",
   "execution_count": null,
   "metadata": {},
   "outputs": [
    {
     "name": "stdout",
     "output_type": "stream",
     "text": [
      "1\n",
      "116 584\n",
      "116\n",
      "<start> i almost stopped watching hindi movies because of the mediocre quality and story lines one exception for this is <unk> <unk> movies this is a nice movie with great performances from the star cast this is must see movie for those who are sick of watching stupid dancing and love stories the adaptation of the story and characterization was exceptional good you should watch this movie for nana patekar based on the life of mumbai cop this movie deals in a more realistic way the film delves into the life of the common man which he has apart from being an encounter specialist i rate this as one of the best movie of the year\n",
      "+ ranked word  (291, 'year', 0.0013853635, 115)\n",
      "+ ranked word  (7, 'of', 0.00030016858, 113)\n",
      "+ ranked word  (4, 'the', 0.00024768023, 114)\n",
      "+ ranked word  (20, 'movie', 0.00022223161, 112)\n",
      "+ ranked word  (118, 'best', 0.00019779257, 111)\n",
      "+ ranked word  (17, 'as', 0.00017268411, 107)\n",
      "+ ranked word  (2794, 'encounter', 0.00016696408, 102)\n",
      "+ ranked word  (31, 'one', 0.00016116945, 108)\n",
      "+ ranked word  (4, 'the', 0.00014026341, 110)\n",
      "+ ranked word  (7, 'of', 0.00013743641, 109)\n",
      "+ ranked word  (14, 'this', 0.00013596832, 106)\n",
      "+ ranked word  (112, 'being', 0.00012458983, 100)\n",
      "+ ranked word  (39, 'from', 0.00011996478, 99)\n",
      "+ ranked word  (12744, 'specialist', 0.00011957777, 103)\n",
      "+ ranked word  (13, 'i', 0.00011077604, 104)\n",
      "+ ranked word  (1141, 'common', 0.000107036205, 93)\n",
      "+ ranked word  (15406, 'patekar', 0.00010344756, 69)\n",
      "+ ranked word  (327, 'nice', 9.754354e-05, 26)\n",
      "+ ranked word  (87, 'great', 9.687738e-05, 29)\n",
      "+ ranked word  (10509, 'nana', 9.677308e-05, 68)\n"
     ]
    }
   ],
   "source": [
    "ind = pop_sm.population_to_mutate[0]\n",
    "indices0 = ind.indices\n",
    "explanation0 =  ind.attention\n",
    "print(ind.predicted_label)\n",
    "\n",
    "\n",
    "# print(pop.population_to_mutate[0].indices)\n",
    "pad_indices = ind.indices\n",
    "# print(pad_indices)\n",
    "\n",
    "unpad_indices, pad_length = remove_padding(ind.indices)\n",
    "# print(unpad_indices)\n",
    "\n",
    "unpad_explanation = pop.population_to_mutate[0].attention[pad_length:]\n",
    "print(len(unpad_indices), pad_length)\n",
    "# print(unpad_explanation)\n",
    "print(len(unpad_explanation))\n",
    "print(utils.indices2words(unpad_indices))\n",
    "\n",
    "indices, gradients , ranked_indices= top_k_attributions(unpad_indices, unpad_explanation)\n",
    "words = [utils.ID_TO_WORD[id] for id in indices]\n",
    "\n",
    "for id, grad, loc in zip(indices, gradients, ranked_indices):\n",
    "    if grad > 0:\n",
    "        print(f\"+ ranked word \", (id, utils.ID_TO_WORD[id], grad, loc))\n",
    "    else:\n",
    "        print(f\"- ranked word \", (id, utils.ID_TO_WORD[id], grad, loc))\n"
   ]
  },
  {
   "cell_type": "code",
   "execution_count": null,
   "metadata": {},
   "outputs": [
    {
     "data": {
      "text/plain": [
       "69"
      ]
     },
     "execution_count": 41,
     "metadata": {},
     "output_type": "execute_result"
    }
   ],
   "source": [
    "[utils.ID_TO_WORD[id] for id in unpad_indices].index('patekar')\n",
    "\n"
   ]
  },
  {
   "cell_type": "code",
   "execution_count": null,
   "metadata": {},
   "outputs": [
    {
     "name": "stderr",
     "output_type": "stream",
     "text": [
      "[nltk_data] Downloading package averaged_perceptron_tagger_eng to\n",
      "[nltk_data]     /home/xchen/nltk_data...\n",
      "[nltk_data]   Package averaged_perceptron_tagger_eng is already up-to-\n",
      "[nltk_data]       date!\n"
     ]
    },
    {
     "data": {
      "text/plain": [
       "['year',\n",
       " 'of',\n",
       " 'the',\n",
       " 'movie',\n",
       " 'best',\n",
       " 'as',\n",
       " 'one',\n",
       " 'the',\n",
       " 'of',\n",
       " 'encounter',\n",
       " 'this',\n",
       " 'from',\n",
       " 'being',\n",
       " 'specialist',\n",
       " 'rate',\n",
       " 'apart',\n",
       " 'i',\n",
       " 'an',\n",
       " 'nice',\n",
       " 'nana']"
      ]
     },
     "execution_count": 16,
     "metadata": {},
     "output_type": "execute_result"
    }
   ],
   "source": [
    "nltk.download('averaged_perceptron_tagger_eng')\n",
    "words"
   ]
  },
  {
   "cell_type": "code",
   "execution_count": null,
   "metadata": {},
   "outputs": [
    {
     "name": "stdout",
     "output_type": "stream",
     "text": [
      "[('year', 'NN'), ('of', 'IN'), ('the', 'DT'), ('movie', 'NN'), ('best', 'RBS'), ('as', 'IN'), ('one', 'CD'), ('the', 'DT'), ('of', 'IN'), ('encounter', 'NN'), ('this', 'DT'), ('from', 'IN'), ('being', 'VBG'), ('specialist', 'JJ'), ('rate', 'NN'), ('apart', 'NN'), ('i', 'IN'), ('an', 'DT'), ('nice', 'JJ'), ('nana', 'NN')]\n"
     ]
    },
    {
     "data": {
      "text/plain": [
       "(['best', 'specialist', 'nice'], [4, 13, 18])"
      ]
     },
     "execution_count": 17,
     "metadata": {},
     "output_type": "execute_result"
    }
   ],
   "source": [
    "\n",
    "find_adj_adv(words_list=words)"
   ]
  },
  {
   "cell_type": "code",
   "execution_count": null,
   "metadata": {},
   "outputs": [
    {
     "data": {
      "text/plain": [
       "'squeamish'"
      ]
     },
     "execution_count": 18,
     "metadata": {},
     "output_type": "execute_result"
    }
   ],
   "source": [
    "\n",
    "\n",
    "get_synonym(\"nice\")"
   ]
  },
  {
   "cell_type": "code",
   "execution_count": null,
   "metadata": {},
   "outputs": [
    {
     "data": {
      "text/plain": [
       "array([  291,     7,     4,    20,   118,    17,    31,     4,     7,\n",
       "        2794,    14,    39,   112, 12744,   967,   972,    13,    35,\n",
       "         327, 10509], dtype=int32)"
      ]
     },
     "execution_count": 19,
     "metadata": {},
     "output_type": "execute_result"
    }
   ],
   "source": [
    "indices\n"
   ]
  },
  {
   "cell_type": "code",
   "execution_count": null,
   "metadata": {},
   "outputs": [
    {
     "data": {
      "text/plain": [
       "array([4.2238919e-04, 9.3142633e-05, 7.6749886e-05, 6.4159132e-05,\n",
       "       5.7167133e-05, 4.3338347e-05, 4.2995649e-05, 4.1660820e-05,\n",
       "       3.9781873e-05, 3.7703692e-05, 3.4348061e-05, 3.2243166e-05,\n",
       "       3.2177235e-05, 3.0968287e-05, 3.0458821e-05, 2.7641205e-05,\n",
       "       2.5889685e-05, 2.3884184e-05, 2.3466435e-05, 2.2520195e-05],\n",
       "      dtype=float32)"
      ]
     },
     "execution_count": 20,
     "metadata": {},
     "output_type": "execute_result"
    }
   ],
   "source": [
    "gradients"
   ]
  },
  {
   "cell_type": "code",
   "execution_count": null,
   "metadata": {},
   "outputs": [],
   "source": []
  }
 ],
 "metadata": {
  "kernelspec": {
   "display_name": "deepjanus-pri",
   "language": "python",
   "name": "python3"
  },
  "language_info": {
   "codemirror_mode": {
    "name": "ipython",
    "version": 3
   },
   "file_extension": ".py",
   "mimetype": "text/x-python",
   "name": "python",
   "nbconvert_exporter": "python",
   "pygments_lexer": "ipython3",
   "version": "3.8.18"
  }
 },
 "nbformat": 4,
 "nbformat_minor": 2
}
