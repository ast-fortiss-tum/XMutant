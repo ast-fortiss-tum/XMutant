{
 "cells": [
  {
   "cell_type": "code",
   "execution_count": 6,
   "id": "304cb241-5e1b-436a-a745-768ca5e252b7",
   "metadata": {},
   "outputs": [
    {
     "name": "stdout",
     "output_type": "stream",
     "text": [
      "/home/xchen/Projects/XMutant/XMutant-LK-ADS\n",
      "modified Monday, April 15, 2024 03:16:45\n",
      "created Monday, April 15, 2024 03:16:45\n"
     ]
    }
   ],
   "source": [
    "import os\n",
    "from datetime import datetime\n",
    "datetime.fromtimestamp(1485714600).strftime(\"%A, %B %d, %Y %I:%M:%S\")\n",
    "\n",
    "\n",
    "print(os.getcwd())\n",
    "path = \"envs\"\n",
    "\n",
    "print(\"modified\", datetime.fromtimestamp(os.path.getmtime(path)).strftime(\"%A, %B %d, %Y %I:%M:%S\"))\n",
    "\n",
    "print(\"created\",  datetime.fromtimestamp(os.path.getctime(path)).strftime(\"%A, %B %d, %Y %I:%M:%S\"))"
   ]
  },
  {
   "cell_type": "code",
   "execution_count": null,
   "id": "1929a89c-50d7-4c8b-b12e-65c12dd1f2a9",
   "metadata": {},
   "outputs": [],
   "source": []
  },
  {
   "cell_type": "code",
   "execution_count": null,
   "id": "865bb167-605f-4248-86f7-d5f294cc4eee",
   "metadata": {},
   "outputs": [],
   "source": []
  }
 ],
 "metadata": {
  "kernelspec": {
   "display_name": "Python 3 (ipykernel)",
   "language": "python",
   "name": "python3"
  },
  "language_info": {
   "codemirror_mode": {
    "name": "ipython",
    "version": 3
   },
   "file_extension": ".py",
   "mimetype": "text/x-python",
   "name": "python",
   "nbconvert_exporter": "python",
   "pygments_lexer": "ipython3",
   "version": "3.8.18"
  }
 },
 "nbformat": 4,
 "nbformat_minor": 5
}
