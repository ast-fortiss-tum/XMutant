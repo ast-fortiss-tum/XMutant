{
 "cells": [
  {
   "cell_type": "markdown",
   "metadata": {},
   "source": [
    "# Integrated gradients for MNIST"
   ]
  },
  {
   "cell_type": "markdown",
   "metadata": {},
   "source": [
    "In this notebook we apply the integrated gradients method to a convolutional network trained on the MNIST dataset. \n",
    "Integrated gradients defines an attribution value for each feature of the input instance (in this case for each pixel in the image) by integrating the model's gradients with respect to the input along a straight path from a baseline instance $x^\\prime$ to the input instance $x.$\n",
    "\n",
    "A more detailed description of the method can be found [here](https://docs.seldon.io/projects/alibi/en/stable/methods/IntegratedGradients.html). Integrated gradients was originally proposed in Sundararajan et al., [\"Axiomatic Attribution for Deep Networks\"](https://arxiv.org/abs/1703.01365)."
   ]
  },
  {
   "cell_type": "markdown",
   "metadata": {},
   "source": [
    "<div class=\"alert alert-info\">\n",
    "Note\n",
    "    \n",
    "To enable support for IntegratedGradients, you may need to run\n",
    "    \n",
    "```bash\n",
    "pip install alibi[tensorflow]\n",
    "```\n",
    "\n",
    "</div>"
   ]
  },
  {
   "cell_type": "code",
   "execution_count": 1,
   "metadata": {
    "scrolled": true
   },
   "outputs": [
    {
     "name": "stderr",
     "output_type": "stream",
     "text": [
      "2023-11-29 16:57:53.287592: I tensorflow/core/util/port.cc:110] oneDNN custom operations are on. You may see slightly different numerical results due to floating-point round-off errors from different computation orders. To turn them off, set the environment variable `TF_ENABLE_ONEDNN_OPTS=0`.\n",
      "2023-11-29 16:57:53.359077: I tensorflow/core/platform/cpu_feature_guard.cc:182] This TensorFlow binary is optimized to use available CPU instructions in performance-critical operations.\n",
      "To enable the following instructions: AVX2 AVX_VNNI FMA, in other operations, rebuild TensorFlow with the appropriate compiler flags.\n",
      "2023-11-29 16:57:54.342482: W tensorflow/compiler/tf2tensorrt/utils/py_utils.cc:38] TF-TRT Warning: Could not find TensorRT\n",
      "/home/xchen/miniconda3/envs/deepjanus-pri/lib/python3.8/site-packages/tqdm/auto.py:21: TqdmWarning: IProgress not found. Please update jupyter and ipywidgets. See https://ipywidgets.readthedocs.io/en/stable/user_install.html\n",
      "  from .autonotebook import tqdm as notebook_tqdm\n"
     ]
    },
    {
     "name": "stdout",
     "output_type": "stream",
     "text": [
      "TF version:  2.12.1\n",
      "Eager execution enabled:  True\n"
     ]
    }
   ],
   "source": [
    "import numpy as np\n",
    "import os\n",
    "import tensorflow as tf\n",
    "from tensorflow.keras.layers import Activation, Conv2D, Dense, Dropout\n",
    "from tensorflow.keras.layers import Flatten, Input, Reshape, MaxPooling2D\n",
    "from tensorflow.keras.models import Model\n",
    "from tensorflow.keras.utils import to_categorical\n",
    "from alibi.explainers import IntegratedGradients\n",
    "import matplotlib.pyplot as plt\n",
    "print('TF version: ', tf.__version__)\n",
    "print('Eager execution enabled: ', tf.executing_eagerly()) # True"
   ]
  },
  {
   "cell_type": "markdown",
   "metadata": {},
   "source": [
    "## Load data"
   ]
  },
  {
   "cell_type": "markdown",
   "metadata": {},
   "source": [
    "Loading and preparing the MNIST data set."
   ]
  },
  {
   "cell_type": "code",
   "execution_count": 2,
   "metadata": {},
   "outputs": [
    {
     "name": "stdout",
     "output_type": "stream",
     "text": [
      "(60000, 28, 28, 1) (60000, 10) (10000, 28, 28, 1) (10000, 10)\n"
     ]
    }
   ],
   "source": [
    "train, test = tf.keras.datasets.mnist.load_data()\n",
    "X_train, y_train = train\n",
    "X_test, y_test = test\n",
    "test_labels = y_test.copy()\n",
    "train_labels = y_train.copy()\n",
    "                         \n",
    "X_train = X_train.reshape(-1, 28, 28, 1).astype('float64') / 255\n",
    "X_test = X_test.reshape(-1, 28, 28, 1).astype('float64') / 255\n",
    "y_train = to_categorical(y_train, 10)\n",
    "y_test = to_categorical(y_test, 10)\n",
    "print(X_train.shape, y_train.shape, X_test.shape, y_test.shape)"
   ]
  },
  {
   "cell_type": "markdown",
   "metadata": {},
   "source": [
    "## Train model"
   ]
  },
  {
   "cell_type": "markdown",
   "metadata": {},
   "source": [
    "Train a convolutional neural network on the MNIST dataset. The model includes 2 convolutional layers and it reaches a test accuracy of 0.98. If `save_model = True`, a local folder `./model_mnist` will be created and the trained model will be saved in that folder. If the model was previously saved, it can be loaded by setting `load_mnist_model = True`."
   ]
  },
  {
   "cell_type": "code",
   "execution_count": 3,
   "metadata": {},
   "outputs": [],
   "source": [
    "load_mnist_model = False\n",
    "save_model = True"
   ]
  },
  {
   "cell_type": "code",
   "execution_count": 4,
   "metadata": {},
   "outputs": [
    {
     "data": {
      "text/plain": [
       "\"filepath = './model_mnist/'  # change to directory where model is saved\\nif load_mnist_model:\\n    model = tf.keras.models.load_model(os.path.join(filepath, 'model.h5'))\\nelse:\\n    # define model\\n    inputs = Input(shape=(X_train.shape[1:]), dtype=tf.float64)\\n    x = Conv2D(64, 2, padding='same', activation='relu')(inputs)\\n    x = MaxPooling2D(pool_size=2)(x)\\n    x = Dropout(.3)(x)\\n    \\n    x = Conv2D(32, 2, padding='same', activation='relu')(x)\\n    x = MaxPooling2D(pool_size=2)(x)\\n    x = Dropout(.3)(x)\\n    \\n    x = Flatten()(x)\\n    x = Dense(256, activation='relu')(x)\\n    x = Dropout(.5)(x)\\n    logits = Dense(10, name='logits')(x)\\n    outputs = Activation('softmax', name='softmax')(logits)\\n    model = Model(inputs=inputs, outputs=outputs)\\n    model.compile(loss='categorical_crossentropy',\\n                  optimizer='adam',\\n                  metrics=['accuracy'])\\n    \\n    # train model\\n    model.fit(X_train,\\n              y_train,\\n              epochs=6,\\n              batch_size=256,\\n              verbose=1,\\n              validation_data=(X_test, y_test)\\n              )\\n    if save_model:\\n        if not os.path.exists(filepath):\\n            os.makedirs(filepath)\\n        model.save(os.path.join(filepath, 'model.h5'))\""
      ]
     },
     "execution_count": 4,
     "metadata": {},
     "output_type": "execute_result"
    }
   ],
   "source": [
    "\"\"\"filepath = './model_mnist/'  # change to directory where model is saved\n",
    "if load_mnist_model:\n",
    "    model = tf.keras.models.load_model(os.path.join(filepath, 'model.h5'))\n",
    "else:\n",
    "    # define model\n",
    "    inputs = Input(shape=(X_train.shape[1:]), dtype=tf.float64)\n",
    "    x = Conv2D(64, 2, padding='same', activation='relu')(inputs)\n",
    "    x = MaxPooling2D(pool_size=2)(x)\n",
    "    x = Dropout(.3)(x)\n",
    "    \n",
    "    x = Conv2D(32, 2, padding='same', activation='relu')(x)\n",
    "    x = MaxPooling2D(pool_size=2)(x)\n",
    "    x = Dropout(.3)(x)\n",
    "    \n",
    "    x = Flatten()(x)\n",
    "    x = Dense(256, activation='relu')(x)\n",
    "    x = Dropout(.5)(x)\n",
    "    logits = Dense(10, name='logits')(x)\n",
    "    outputs = Activation('softmax', name='softmax')(logits)\n",
    "    model = Model(inputs=inputs, outputs=outputs)\n",
    "    model.compile(loss='categorical_crossentropy',\n",
    "                  optimizer='adam',\n",
    "                  metrics=['accuracy'])\n",
    "    \n",
    "    # train model\n",
    "    model.fit(X_train,\n",
    "              y_train,\n",
    "              epochs=6,\n",
    "              batch_size=256,\n",
    "              verbose=1,\n",
    "              validation_data=(X_test, y_test)\n",
    "              )\n",
    "    if save_model:\n",
    "        if not os.path.exists(filepath):\n",
    "            os.makedirs(filepath)\n",
    "        model.save(os.path.join(filepath, 'model.h5'))\"\"\""
   ]
  },
  {
   "cell_type": "markdown",
   "metadata": {},
   "source": [
    "## Calculate integrated gradients"
   ]
  },
  {
   "cell_type": "markdown",
   "metadata": {},
   "source": [
    "The IntegratedGradients class implements the integrated gradients attribution method. A description of the method can be found [here](https://docs.seldon.io/projects/alibi/en/stable/methods/IntegratedGradients.html).\n",
    "\n",
    "In the following example, the baselines (i.e. the starting points of the path integral) are black images (all pixel values are set to zero). This means that black areas of the image will always have zero attribution.\n",
    "The path integral is defined as a straight line from the baseline to the input image. The path is approximated by choosing 50 discrete steps according to the Gauss-Legendre method."
   ]
  },
  {
   "cell_type": "code",
   "execution_count": 5,
   "metadata": {},
   "outputs": [
    {
     "name": "stderr",
     "output_type": "stream",
     "text": [
      "2023-11-29 16:57:59.735836: E tensorflow/compiler/xla/stream_executor/cuda/cuda_driver.cc:266] failed call to cuInit: CUDA_ERROR_UNKNOWN: unknown error\n",
      "2023-11-29 16:57:59.735880: I tensorflow/compiler/xla/stream_executor/cuda/cuda_diagnostics.cc:168] retrieving CUDA diagnostic information for host: for2855lnx\n",
      "2023-11-29 16:57:59.735888: I tensorflow/compiler/xla/stream_executor/cuda/cuda_diagnostics.cc:175] hostname: for2855lnx\n",
      "2023-11-29 16:57:59.736172: I tensorflow/compiler/xla/stream_executor/cuda/cuda_diagnostics.cc:199] libcuda reported version is: 535.129.3\n",
      "2023-11-29 16:57:59.736199: I tensorflow/compiler/xla/stream_executor/cuda/cuda_diagnostics.cc:203] kernel reported version is: 535.129.3\n",
      "2023-11-29 16:57:59.736204: I tensorflow/compiler/xla/stream_executor/cuda/cuda_diagnostics.cc:309] kernel version seems to match DSO: 535.129.3\n"
     ]
    }
   ],
   "source": [
    "# Initialize IntegratedGradients instance\n",
    "import keras\n",
    "n_steps = 20\n",
    "model = keras.models.load_model('models/cnnClassifier.h5')\n",
    "method = \"gausslegendre\"\n",
    "ig  = IntegratedGradients(model,\n",
    "                          n_steps=n_steps, \n",
    "                          method=method)"
   ]
  },
  {
   "cell_type": "code",
   "execution_count": 6,
   "metadata": {},
   "outputs": [
    {
     "name": "stdout",
     "output_type": "stream",
     "text": [
      "1\n",
      "2\n"
     ]
    },
    {
     "name": "stderr",
     "output_type": "stream",
     "text": [
      "2023-11-29 16:58:00.137689: I tensorflow/core/common_runtime/executor.cc:1197] [/device:CPU:0] (DEBUG INFO) Executor start aborting (this does not indicate an error and you can ignore this message): INVALID_ARGUMENT: You must feed a value for placeholder tensor 'Placeholder/_1' with dtype int64 and shape [200]\n",
      "\t [[{{node Placeholder/_1}}]]\n"
     ]
    }
   ],
   "source": [
    "# Calculate attributions for the first 10 images in the test set\n",
    "nb_samples = 10\n",
    "X_test_sample = X_test[:nb_samples]\n",
    "print(1)\n",
    "predictions = model(X_test_sample).numpy().argmax(axis=1)\n",
    "print(2)\n",
    "explanation = ig.explain(X_test_sample, \n",
    "                         baselines=None, \n",
    "                         target=predictions)"
   ]
  },
  {
   "cell_type": "code",
   "execution_count": 7,
   "metadata": {},
   "outputs": [
    {
     "data": {
      "text/plain": [
       "{'name': 'IntegratedGradients',\n",
       " 'type': ['whitebox'],\n",
       " 'explanations': ['local'],\n",
       " 'params': {'target_fn': None,\n",
       "  'method': 'gausslegendre',\n",
       "  'n_steps': 20,\n",
       "  'internal_batch_size': 100,\n",
       "  'layer': 'unspecified'},\n",
       " 'version': '0.9.4'}"
      ]
     },
     "execution_count": 7,
     "metadata": {},
     "output_type": "execute_result"
    }
   ],
   "source": [
    "# Metadata from the explanation object\n",
    "explanation.meta"
   ]
  },
  {
   "cell_type": "code",
   "execution_count": 8,
   "metadata": {},
   "outputs": [
    {
     "data": {
      "text/plain": [
       "dict_keys(['attributions', 'X', 'forward_kwargs', 'baselines', 'predictions', 'deltas', 'target'])"
      ]
     },
     "execution_count": 8,
     "metadata": {},
     "output_type": "execute_result"
    }
   ],
   "source": [
    "# Data fields from the explanation object\n",
    "explanation.data.keys()"
   ]
  },
  {
   "cell_type": "code",
   "execution_count": 9,
   "metadata": {},
   "outputs": [],
   "source": [
    "# Get attributions values from the explanation object\n",
    "attrs = explanation.attributions[0]"
   ]
  },
  {
   "cell_type": "markdown",
   "metadata": {},
   "source": [
    "## Visualize attributions"
   ]
  },
  {
   "cell_type": "markdown",
   "metadata": {},
   "source": [
    "Sample images from the test dataset and their attributions.\n",
    "\n",
    "* The first column shows the original image. \n",
    "* The second column shows the values of the attributions.\n",
    "* The third column shows the positive valued attributions.\n",
    "* The fourth column shows the negative valued attributions.\n",
    "\n",
    "The attributions are calculated using the black image as a baseline for all samples."
   ]
  },
  {
   "cell_type": "code",
   "execution_count": 10,
   "metadata": {},
   "outputs": [
    {
     "data": {
      "image/png": "[encoded data removed]",
      "text/plain": [
       "<Figure size 1000x700 with 13 Axes>"
      ]
     },
     "metadata": {},
     "output_type": "display_data"
    }
   ],
   "source": [
    "fig, ax = plt.subplots(nrows=3, ncols=4, figsize=(10, 7))\n",
    "image_ids = [0, 1, 9]\n",
    "cmap_bound = np.abs(attrs[[0, 1, 9]]).max()\n",
    "# attrs = attrs.clip(0, 1)\n",
    "for row, image_id in enumerate(image_ids):\n",
    "    # original images\n",
    "    ax[row, 0].imshow(X_test[image_id].squeeze(), cmap='gray')\n",
    "    ax[row, 0].set_title(f'Prediction: {predictions[image_id]}')\n",
    "    \n",
    "    # attributions\n",
    "    attr = attrs[image_id]\n",
    "    im = ax[row, 1].imshow(attr.squeeze(), vmin=-cmap_bound, vmax=cmap_bound, cmap='PiYG')\n",
    "    \n",
    "    # positive attributions\n",
    "    attr_pos = attr.clip(0, 1)\n",
    "    im_pos = ax[row, 2].imshow(attr_pos.squeeze(), vmin=-cmap_bound, vmax=cmap_bound, cmap='PiYG')\n",
    "    \n",
    "    # negative attributions\n",
    "    attr_neg = attr.clip(-1, 0)\n",
    "    im_neg = ax[row, 3].imshow(attr_neg.squeeze(), vmin=-cmap_bound, vmax=cmap_bound, cmap='PiYG')\n",
    "    \n",
    "ax[0, 1].set_title('Attributions');\n",
    "ax[0, 2].set_title('Positive attributions');\n",
    "ax[0, 3].set_title('Negative attributions');\n",
    "\n",
    "for ax in fig.axes:\n",
    "    ax.axis('off')\n",
    "\n",
    "fig.colorbar(im, cax=fig.add_axes([0.95, 0.25, 0.03, 0.5]));"
   ]
  },
  {
   "cell_type": "code",
   "execution_count": 11,
   "metadata": {},
   "outputs": [
    {
     "name": "stdout",
     "output_type": "stream",
     "text": [
      "Loaded model from disk\n",
      "[5, 5, 5, 5, 5, 5, 5, 5, 5, 5]\n"
     ]
    },
    {
     "name": "stderr",
     "output_type": "stream",
     "text": [
      "2023-11-29 16:58:02.607845: I tensorflow/core/common_runtime/executor.cc:1197] [/device:CPU:0] (DEBUG INFO) Executor start aborting (this does not indicate an error and you can ignore this message): INVALID_ARGUMENT: You must feed a value for placeholder tensor 'Placeholder/_1' with dtype int64 and shape [100]\n",
      "\t [[{{node Placeholder/_1}}]]\n"
     ]
    },
    {
     "name": "stdout",
     "output_type": "stream",
     "text": [
      "{'name': 'IntegratedGradients', 'type': ['whitebox'], 'explanations': ['local'], 'params': {'target_fn': None, 'method': 'gausslegendre', 'n_steps': 10, 'internal_batch_size': 100, 'layer': 'unspecified'}, 'version': '0.9.4'}\n",
      "(10, 28, 28)\n"
     ]
    },
    {
     "data": {
      "image/png": "[encoded data removed]",
      "text/plain": [
       "<Figure size 1200x600 with 15 Axes>"
      ]
     },
     "metadata": {},
     "output_type": "display_data"
    }
   ],
   "source": [
    "from population import load_mnist_test\n",
    "import seaborn as sns\n",
    "%matplotlib inline\n",
    "# data\n",
    "test_x, test_y = load_mnist_test(popsize=10, number=5)\n",
    "\n",
    "X_test = test_x.reshape(-1, 28, 28, 1).astype('float64') / 255\n",
    "y_test = to_categorical(test_y, 10)\n",
    "\n",
    "import keras\n",
    "n_steps = 10\n",
    "model = keras.models.load_model('models/cnnClassifier.h5')\n",
    "method = \"gausslegendre\"\n",
    "ig = IntegratedGradients(model,\n",
    "                          n_steps=n_steps,\n",
    "                          method=method)\n",
    "\n",
    "# Calculate attributions for the first 10 images in the test set\n",
    "nb_samples = 50\n",
    "X_test_sample = X_test[:nb_samples]\n",
    "predictions = [5, 5, 5, 5, 5, 5, 5, 5 ,5, 5]#model(X_test_sample).numpy().argmax(axis=1)\n",
    "print(predictions)\n",
    "explanation = ig.explain(X_test_sample,\n",
    "                         baselines=None,\n",
    "                         target=predictions)\n",
    "\n",
    "print(explanation.meta)\n",
    "\"\"\"\n",
    "Metadata from the explanation object\n",
    "{'name': 'IntegratedGradients',\n",
    " 'type': ['whitebox'],\n",
    " 'explanations': ['local'],\n",
    " 'params': {'target_fn': None,\n",
    "  'method': 'gausslegendre',\n",
    "  'n_steps': 50,\n",
    "  'internal_batch_size': 100,\n",
    "  'layer': 'unspecified'},\n",
    " 'version': '0.9.4'}\n",
    "\"\"\"\n",
    "attrs = np.array(explanation.attributions[0])\n",
    "#attrs = attrs.clip(0, 1)\n",
    "attrs = np.abs(attrs)\n",
    "attrs = attrs.squeeze()\n",
    "print(attrs.shape)\n",
    "\n",
    "\n",
    "\n",
    "# Normalization\n",
    "try:\n",
    "    normalized_attributions = (attrs - np.min(attrs)) / (np.max(attrs) - np.min(attrs))\n",
    "except ZeroDivisionError:\n",
    "    print(\"Error: Cannot divide by zero\")\n",
    "    \n",
    "\n",
    "import seaborn as sns\n",
    "\n",
    "rows = 2\n",
    "popsize = 5\n",
    "f, ax = plt.subplots(nrows=rows, ncols=popsize, figsize=(12, 6))\n",
    "\n",
    "row = 0\n",
    "for i in range(popsize):\n",
    "    sns.heatmap(normalized_attributions[i], ax=ax[row, i], square=True, cmap=\"jet\")\n",
    "    #ax[row, i].imshow(saliency_map[i], cmap=\"jet\")\n",
    "    ax[row, i].axis('off')\n",
    "\n",
    "row += 1\n",
    "for i in range(popsize):\n",
    "\n",
    "    ax[row, i].imshow(X_test_sample[i])\n",
    "    #ax[row, i].imshow(normalized_attributions[i], cmap='jet', alpha=0.6)\n",
    "    ax[row, i].axis('off')"
   ]
  },
  {
   "cell_type": "code",
   "execution_count": 12,
   "metadata": {},
   "outputs": [],
   "source": [
    "def cluster_attention_map(map, control_points, weight_threshold=0.1):\n",
    "    control_points = np.array(control_points)\n",
    "    centroids = np.zeros(control_points.shape)\n",
    "    centroids[:, 0] = control_points[:, 1]\n",
    "    centroids[:, 1] = control_points[:, 0]\n",
    "\n",
    "    num_rows = 28\n",
    "    num_cols = 28\n",
    "    points = np.array([(i, j) for i in range(num_rows) for j in range(num_cols)])\n",
    "    weights = map.flatten()\n",
    "    # print(weights)\n",
    "\n",
    "    # use euclidean distance to cluster heatmap\n",
    "    distances = np.sqrt(((points - centroids[:, np.newaxis]) ** 2).sum(axis=2))\n",
    "    distances_to_centroid = np.min(distances, axis=0)\n",
    "    clustered_points = np.argmin(distances, axis=0)\n",
    "    clustered_points[weights<weight_threshold] = -1\n",
    "    # points = np.array([(i,j) for i in range(num_rows) for j in range(num_cols)])\n",
    "    # clustered_points = clustered_points.reshape(num_rows, num_rows)\n",
    "\n",
    "    # compute the weights\n",
    "    centroids_weight = np.zeros(centroids.shape[0])\n",
    "    for i in range(centroids.shape[0]):\n",
    "        #points_in_cluster = points[clustered_points == i]\n",
    "        weights_in_cluster = weights[clustered_points == i]\n",
    "        distances_in_cluster = distances_to_centroid[clustered_points == i]\n",
    "\n",
    "        distances_in_cluster[distances_in_cluster < 1] = 1\n",
    "\n",
    "        weights_in_cluster = np.multiply(weights_in_cluster, 1. / np.power(distances_in_cluster, 1))\n",
    "\n",
    "        centroids_weight[i] = np.sum(weights_in_cluster)\n",
    "        # print(f\"centroids_weight {i} {centroids_weight[i]}\")\n",
    "\n",
    "        # softmax\n",
    "    weight_list = np.exp(centroids_weight / np.sum((centroids_weight), axis=0) *30)\n",
    "    return clustered_points, weight_list, \n",
    "\n"
   ]
  },
  {
   "cell_type": "code",
   "execution_count": 15,
   "metadata": {},
   "outputs": [
    {
     "name": "stdout",
     "output_type": "stream",
     "text": [
      " M 8.75,23.437105578417807 C 7.1215778808902055,21.76430589132656 8.217947734929686,21.35254099139044 13.25,21.747035349940127 C 22.880366210904377,22.50202058078535 24.92234593314281,17.771107611395383 16.72766356184794,13.689891849080123 C 13.82916148972152,12.246344459701977 12.661352830321068,12.1108709480941 10.960925288485566,13.02091215097013 C 8.35225600337347,14.417029583628615 7.262450864412855,13.593618628868288 8.979944022854609,11.524165974079091 C 10.000540762324071,10.294422134004336 9.99762049328393,9.702059157063337 8.9648263594996,8.457618355942568 C 7.067861970529823,6.171916097683931 8.851788095223686,5.014176984414586 15.076575328499523,4.491192429471496 L 20.5,4.035535515942037 L 15.75,5.5758920842011275 C 12.242879952177784,6.713200589745567 11.0,7.624357777628708 11.0,9.058124326230109 C 11.0,10.430234277419965 11.690134561635576,11.0 13.352116780208236,11.0 C 15.98144312057753,10.999999999999998 21.736769739671676,14.574719985670994 23.392290561431142,17.2361030486566 C 25.174351853928187,20.10091011040852 21.33783324718224,23.008341953623525 14.917229018390753,23.65876544891594 C 11.937753058275838,23.960593921605096 9.1625,23.860846979880936 8.75,23.437105578417807 Z\n"
     ]
    }
   ],
   "source": [
    "from population import generate_digit, load_mnist_test\n",
    "from mutation_manager import end_or_middle_points\n",
    "from digit_mutator import DigitMutator\n",
    "\n",
    "id = 1\n",
    "number = 5\n",
    "ind = generate_digit(id, test_x[id], number)\n",
    "mutator = DigitMutator(ind)\n",
    "\n",
    "# gather all candidates to be mutated\n",
    "control_points = end_or_middle_points(mutator.svg_path, \"end\")\n",
    "\n",
    "control_points = np.array(control_points)\n",
    "print(mutator.svg_path)"
   ]
  },
  {
   "cell_type": "code",
   "execution_count": null,
   "metadata": {},
   "outputs": [],
   "source": []
  }
 ],
 "metadata": {
  "kernelspec": {
   "display_name": "Python 3 (ipykernel)",
   "language": "python",
   "name": "python3"
  },
  "language_info": {
   "codemirror_mode": {
    "name": "ipython",
    "version": 3
   },
   "file_extension": ".py",
   "mimetype": "text/x-python",
   "name": "python",
   "nbconvert_exporter": "python",
   "pygments_lexer": "ipython3",
   "version": "3.8.18"
  }
 },
 "nbformat": 4,
 "nbformat_minor": 4
}
