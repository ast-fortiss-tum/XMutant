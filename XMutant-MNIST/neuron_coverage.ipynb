{
 "cells": [
  {
   "cell_type": "code",
   "id": "initial_id",
   "metadata": {
    "collapsed": true,
    "ExecuteTime": {
     "end_time": "2024-12-02T21:50:52.212941Z",
     "start_time": "2024-12-02T21:50:46.082614Z"
    }
   },
   "source": [
    "import os.path\n",
    "from itertools import count\n",
    "\n",
    "from tensorboard.plugins.image.summary import image\n",
    "\n",
    "from utils import set_all_seeds\n",
    "from data_anaylsis.neuron_coverage import model_neuron_coverage\n",
    "from population import load_mnist_test\n",
    "from config import POPSIZE\n",
    "from predictor import Predictor\n",
    "from glob import glob\n",
    "import os\n",
    "import numpy as np\n",
    "\n",
    "pop_size = POPSIZE\n",
    "model = Predictor.model"
   ],
   "outputs": [
    {
     "name": "stderr",
     "output_type": "stream",
     "text": [
      "2024-12-02 22:50:46.532377: I tensorflow/core/util/port.cc:110] oneDNN custom operations are on. You may see slightly different numerical results due to floating-point round-off errors from different computation orders. To turn them off, set the environment variable `TF_ENABLE_ONEDNN_OPTS=0`.\n",
      "2024-12-02 22:50:46.589052: I tensorflow/core/platform/cpu_feature_guard.cc:182] This TensorFlow binary is optimized to use available CPU instructions in performance-critical operations.\n",
      "To enable the following instructions: AVX2 AVX_VNNI FMA, in other operations, rebuild TensorFlow with the appropriate compiler flags.\n",
      "2024-12-02 22:50:47.387800: W tensorflow/compiler/tf2tensorrt/utils/py_utils.cc:38] TF-TRT Warning: Could not find TensorRT\n"
     ]
    },
    {
     "name": "stdout",
     "output_type": "stream",
     "text": [
      "/home/xchen/Projects/XMutant/XMutant-MNIST\n"
     ]
    },
    {
     "name": "stderr",
     "output_type": "stream",
     "text": [
      "/home/xchen/miniconda3/envs/xmutant-backup/lib/python3.8/site-packages/transformers/utils/generic.py:441: UserWarning: torch.utils._pytree._register_pytree_node is deprecated. Please use torch.utils._pytree.register_pytree_node instead.\n",
      "  _torch_pytree._register_pytree_node(\n"
     ]
    },
    {
     "name": "stdout",
     "output_type": "stream",
     "text": [
      "Loaded model from disk\n"
     ]
    },
    {
     "name": "stderr",
     "output_type": "stream",
     "text": [
      "2024-12-02 22:50:51.146646: I tensorflow/compiler/xla/stream_executor/cuda/cuda_gpu_executor.cc:996] successful NUMA node read from SysFS had negative value (-1), but there must be at least one NUMA node, so returning NUMA node zero. See more at https://github.com/torvalds/linux/blob/v6.0/Documentation/ABI/testing/sysfs-bus-pci#L344-L355\n",
      "2024-12-02 22:50:51.184761: I tensorflow/compiler/xla/stream_executor/cuda/cuda_gpu_executor.cc:996] successful NUMA node read from SysFS had negative value (-1), but there must be at least one NUMA node, so returning NUMA node zero. See more at https://github.com/torvalds/linux/blob/v6.0/Documentation/ABI/testing/sysfs-bus-pci#L344-L355\n",
      "2024-12-02 22:50:51.185061: I tensorflow/compiler/xla/stream_executor/cuda/cuda_gpu_executor.cc:996] successful NUMA node read from SysFS had negative value (-1), but there must be at least one NUMA node, so returning NUMA node zero. See more at https://github.com/torvalds/linux/blob/v6.0/Documentation/ABI/testing/sysfs-bus-pci#L344-L355\n",
      "2024-12-02 22:50:51.187288: I tensorflow/compiler/xla/stream_executor/cuda/cuda_gpu_executor.cc:996] successful NUMA node read from SysFS had negative value (-1), but there must be at least one NUMA node, so returning NUMA node zero. See more at https://github.com/torvalds/linux/blob/v6.0/Documentation/ABI/testing/sysfs-bus-pci#L344-L355\n",
      "2024-12-02 22:50:51.187573: I tensorflow/compiler/xla/stream_executor/cuda/cuda_gpu_executor.cc:996] successful NUMA node read from SysFS had negative value (-1), but there must be at least one NUMA node, so returning NUMA node zero. See more at https://github.com/torvalds/linux/blob/v6.0/Documentation/ABI/testing/sysfs-bus-pci#L344-L355\n",
      "2024-12-02 22:50:51.188015: I tensorflow/compiler/xla/stream_executor/cuda/cuda_gpu_executor.cc:996] successful NUMA node read from SysFS had negative value (-1), but there must be at least one NUMA node, so returning NUMA node zero. See more at https://github.com/torvalds/linux/blob/v6.0/Documentation/ABI/testing/sysfs-bus-pci#L344-L355\n",
      "2024-12-02 22:50:51.988906: I tensorflow/compiler/xla/stream_executor/cuda/cuda_gpu_executor.cc:996] successful NUMA node read from SysFS had negative value (-1), but there must be at least one NUMA node, so returning NUMA node zero. See more at https://github.com/torvalds/linux/blob/v6.0/Documentation/ABI/testing/sysfs-bus-pci#L344-L355\n",
      "2024-12-02 22:50:51.989159: I tensorflow/compiler/xla/stream_executor/cuda/cuda_gpu_executor.cc:996] successful NUMA node read from SysFS had negative value (-1), but there must be at least one NUMA node, so returning NUMA node zero. See more at https://github.com/torvalds/linux/blob/v6.0/Documentation/ABI/testing/sysfs-bus-pci#L344-L355\n",
      "2024-12-02 22:50:51.989293: I tensorflow/compiler/xla/stream_executor/cuda/cuda_gpu_executor.cc:996] successful NUMA node read from SysFS had negative value (-1), but there must be at least one NUMA node, so returning NUMA node zero. See more at https://github.com/torvalds/linux/blob/v6.0/Documentation/ABI/testing/sysfs-bus-pci#L344-L355\n",
      "2024-12-02 22:50:51.989402: I tensorflow/core/common_runtime/gpu/gpu_device.cc:1635] Created device /job:localhost/replica:0/task:0/device:GPU:0 with 1797 MB memory:  -> device: 0, name: NVIDIA RTX A500 Laptop GPU, pci bus id: 0000:03:00.0, compute capability: 8.6\n"
     ]
    }
   ],
   "execution_count": 1
  },
  {
   "metadata": {
    "ExecuteTime": {
     "end_time": "2024-12-02T21:45:11.712060Z",
     "start_time": "2024-12-02T21:45:09.680950Z"
    }
   },
   "cell_type": "code",
   "source": [
    "\n",
    "\n",
    "for digit in range(10): # range(10):\n",
    "    set_all_seeds(digit)\n",
    "    x_test, y_test = load_mnist_test(pop_size, digit)\n",
    "    coverage = model_neuron_coverage(model, x_test, threshold=10)\n",
    "    print(f\"Digit {digit} Original Test Set Model Neuron Coverage: {coverage:.2f}\")\n"
   ],
   "id": "29c84b6a65174933",
   "outputs": [
    {
     "name": "stdout",
     "output_type": "stream",
     "text": [
      "7/7 [==============================] - 0s 18ms/step\n",
      "Digit 0 Original Test Set Model Neuron Coverage: 0.22\n",
      "7/7 [==============================] - 0s 1ms/step\n",
      "Digit 1 Original Test Set Model Neuron Coverage: 0.21\n",
      "7/7 [==============================] - 0s 1ms/step\n",
      "Digit 2 Original Test Set Model Neuron Coverage: 0.21\n",
      "7/7 [==============================] - 0s 1ms/step\n",
      "Digit 3 Original Test Set Model Neuron Coverage: 0.21\n",
      "7/7 [==============================] - 0s 1ms/step\n",
      "Digit 4 Original Test Set Model Neuron Coverage: 0.21\n",
      "7/7 [==============================] - 0s 1ms/step\n",
      "Digit 5 Original Test Set Model Neuron Coverage: 0.21\n",
      "7/7 [==============================] - 0s 1ms/step\n",
      "Digit 6 Original Test Set Model Neuron Coverage: 0.21\n",
      "7/7 [==============================] - 0s 1ms/step\n",
      "Digit 7 Original Test Set Model Neuron Coverage: 0.20\n",
      "7/7 [==============================] - 0s 1ms/step\n",
      "Digit 8 Original Test Set Model Neuron Coverage: 0.22\n",
      "7/7 [==============================] - 0s 1ms/step\n",
      "Digit 9 Original Test Set Model Neuron Coverage: 0.21\n"
     ]
    }
   ],
   "execution_count": 19
  },
  {
   "metadata": {
    "ExecuteTime": {
     "end_time": "2024-12-02T21:45:11.724690Z",
     "start_time": "2024-12-02T21:45:11.720148Z"
    }
   },
   "cell_type": "code",
   "source": "x_test.shape",
   "id": "4b677367000b8231",
   "outputs": [
    {
     "data": {
      "text/plain": [
       "(200, 28, 28)"
      ]
     },
     "execution_count": 20,
     "metadata": {},
     "output_type": "execute_result"
    }
   ],
   "execution_count": 20
  },
  {
   "metadata": {
    "ExecuteTime": {
     "end_time": "2024-12-02T21:45:14.605937Z",
     "start_time": "2024-12-02T21:45:11.781871Z"
    }
   },
   "cell_type": "code",
   "source": [
    "baseline_path = \"./result/digits/_R_R\"\n",
    "print(os.getcwd())\n",
    "assert os.path.exists(\"./result/digits/_R_R/digit_0_id_0.npy\")\n",
    "for digit in range(10): # range(10):\n",
    "    set_all_seeds(digit)\n",
    "    x_test, y_test = load_mnist_test(pop_size, digit)\n",
    "    generated_x = glob(baseline_path + \"/digit_\" + str(digit) + \"_*.npy\")\n",
    "    print(f\"number of generated {digit} is {len(generated_x)}\")\n",
    "    # merge x_test and generated_x\n",
    "    for gen_x in generated_x:\n",
    "        x_test = np.concatenate((x_test, np.load(generated_x[0]).squeeze(-1)))\n",
    "    print(\"x_test extended number\", x_test.shape[0])\n",
    "    coverage = model_neuron_coverage(model, x_test, threshold=0.2)\n",
    "    print(f\"Digit {digit} Original Test Set Model Neuron Coverage: {coverage:.2f}\")\n",
    "    \n",
    "    \n",
    "    "
   ],
   "id": "720ddca8cb650720",
   "outputs": [
    {
     "name": "stdout",
     "output_type": "stream",
     "text": [
      "/home/xchen/Projects/XMutant/XMutant-MNIST\n",
      "number of generated 0 is 152\n",
      "x_test extended number 352\n",
      "11/11 [==============================] - 0s 1ms/step\n",
      "Digit 0 Original Test Set Model Neuron Coverage: 0.24\n",
      "number of generated 1 is 184\n",
      "x_test extended number 384\n",
      "12/12 [==============================] - 0s 1ms/step\n",
      "Digit 1 Original Test Set Model Neuron Coverage: 0.17\n",
      "number of generated 2 is 96\n",
      "x_test extended number 296\n",
      "10/10 [==============================] - 0s 987us/step\n",
      "Digit 2 Original Test Set Model Neuron Coverage: 0.24\n",
      "number of generated 3 is 114\n",
      "x_test extended number 314\n",
      "10/10 [==============================] - 0s 8ms/step\n",
      "Digit 3 Original Test Set Model Neuron Coverage: 0.22\n",
      "number of generated 4 is 128\n",
      "x_test extended number 328\n",
      "11/11 [==============================] - 0s 991us/step\n",
      "Digit 4 Original Test Set Model Neuron Coverage: 0.22\n",
      "number of generated 5 is 101\n",
      "x_test extended number 301\n",
      "10/10 [==============================] - 0s 7ms/step\n",
      "Digit 5 Original Test Set Model Neuron Coverage: 0.23\n",
      "number of generated 6 is 135\n",
      "x_test extended number 335\n",
      "11/11 [==============================] - 0s 6ms/step\n",
      "Digit 6 Original Test Set Model Neuron Coverage: 0.21\n",
      "number of generated 7 is 149\n",
      "x_test extended number 349\n",
      "11/11 [==============================] - 0s 7ms/step\n",
      "Digit 7 Original Test Set Model Neuron Coverage: 0.20\n",
      "number of generated 8 is 163\n",
      "x_test extended number 363\n",
      "12/12 [==============================] - 0s 6ms/step\n",
      "Digit 8 Original Test Set Model Neuron Coverage: 0.24\n",
      "number of generated 9 is 189\n",
      "x_test extended number 389\n",
      "13/13 [==============================] - 0s 6ms/step\n",
      "Digit 9 Original Test Set Model Neuron Coverage: 0.21\n"
     ]
    }
   ],
   "execution_count": 21
  },
  {
   "metadata": {
    "ExecuteTime": {
     "end_time": "2024-12-02T21:45:14.736374Z",
     "start_time": "2024-12-02T21:45:14.614566Z"
    }
   },
   "cell_type": "code",
   "source": [
    "baseline_path = \"./result/digits/_C_C_sm\"\n",
    "print(os.getcwd())\n",
    "\n",
    "for digit in range(10): # range(10):\n",
    "    set_all_seeds(digit)\n",
    "    x_test, y_test = load_mnist_test(pop_size, digit)\n",
    "    generated_x = glob(baseline_path + \"/digit_\" + str(digit) + \"_*.npy\")\n",
    "    print(f\"number of generated {digit} is {len(generated_x)}\")\n",
    "    # merge x_test and generated_x\n",
    "    for gen_x in generated_x:\n",
    "        x_test = np.concatenate((x_test, np.load(generated_x[0]).squeeze(-1)))\n",
    "    print(\"x_test extended number\", x_test.shape[0])\n",
    "    coverage = model_neuron_coverage(model, x_test, threshold=0.1)\n",
    "    print(f\"Digit {digit} Original Test Set Model Neuron Coverage: {coverage:.2f}\")"
   ],
   "id": "3300624fdab07ae7",
   "outputs": [
    {
     "name": "stdout",
     "output_type": "stream",
     "text": [
      "/home/xchen/Projects/XMutant/XMutant-MNIST\n"
     ]
    },
    {
     "ename": "KeyboardInterrupt",
     "evalue": "",
     "output_type": "error",
     "traceback": [
      "\u001B[0;31m---------------------------------------------------------------------------\u001B[0m",
      "\u001B[0;31mKeyboardInterrupt\u001B[0m                         Traceback (most recent call last)",
      "Cell \u001B[0;32mIn[22], line 6\u001B[0m\n\u001B[1;32m      4\u001B[0m \u001B[38;5;28;01mfor\u001B[39;00m digit \u001B[38;5;129;01min\u001B[39;00m \u001B[38;5;28mrange\u001B[39m(\u001B[38;5;241m10\u001B[39m): \u001B[38;5;66;03m# range(10):\u001B[39;00m\n\u001B[1;32m      5\u001B[0m     set_all_seeds(digit)\n\u001B[0;32m----> 6\u001B[0m     x_test, y_test \u001B[38;5;241m=\u001B[39m \u001B[43mload_mnist_test\u001B[49m\u001B[43m(\u001B[49m\u001B[43mpop_size\u001B[49m\u001B[43m,\u001B[49m\u001B[43m \u001B[49m\u001B[43mdigit\u001B[49m\u001B[43m)\u001B[49m\n\u001B[1;32m      7\u001B[0m     generated_x \u001B[38;5;241m=\u001B[39m glob(baseline_path \u001B[38;5;241m+\u001B[39m \u001B[38;5;124m\"\u001B[39m\u001B[38;5;124m/digit_\u001B[39m\u001B[38;5;124m\"\u001B[39m \u001B[38;5;241m+\u001B[39m \u001B[38;5;28mstr\u001B[39m(digit) \u001B[38;5;241m+\u001B[39m \u001B[38;5;124m\"\u001B[39m\u001B[38;5;124m_*.npy\u001B[39m\u001B[38;5;124m\"\u001B[39m)\n\u001B[1;32m      8\u001B[0m     \u001B[38;5;28mprint\u001B[39m(\u001B[38;5;124mf\u001B[39m\u001B[38;5;124m\"\u001B[39m\u001B[38;5;124mnumber of generated \u001B[39m\u001B[38;5;132;01m{\u001B[39;00mdigit\u001B[38;5;132;01m}\u001B[39;00m\u001B[38;5;124m is \u001B[39m\u001B[38;5;132;01m{\u001B[39;00m\u001B[38;5;28mlen\u001B[39m(generated_x)\u001B[38;5;132;01m}\u001B[39;00m\u001B[38;5;124m\"\u001B[39m)\n",
      "File \u001B[0;32m~/Projects/XMutant/XMutant-MNIST/population.py:37\u001B[0m, in \u001B[0;36mload_mnist_test\u001B[0;34m(popsize, number)\u001B[0m\n\u001B[1;32m     35\u001B[0m \u001B[38;5;28;01mwith\u001B[39;00m gzip\u001B[38;5;241m.\u001B[39mopen(file_test_x, \u001B[38;5;124m'\u001B[39m\u001B[38;5;124mrb\u001B[39m\u001B[38;5;124m'\u001B[39m) \u001B[38;5;28;01mas\u001B[39;00m f:\n\u001B[1;32m     36\u001B[0m     _ \u001B[38;5;241m=\u001B[39m np\u001B[38;5;241m.\u001B[39mfrombuffer(f\u001B[38;5;241m.\u001B[39mread(\u001B[38;5;241m16\u001B[39m), dtype\u001B[38;5;241m=\u001B[39mnp\u001B[38;5;241m.\u001B[39muint8, count\u001B[38;5;241m=\u001B[39m\u001B[38;5;241m4\u001B[39m)\n\u001B[0;32m---> 37\u001B[0m     images \u001B[38;5;241m=\u001B[39m np\u001B[38;5;241m.\u001B[39mfrombuffer(\u001B[43mf\u001B[49m\u001B[38;5;241;43m.\u001B[39;49m\u001B[43mread\u001B[49m\u001B[43m(\u001B[49m\u001B[43m)\u001B[49m, dtype\u001B[38;5;241m=\u001B[39mnp\u001B[38;5;241m.\u001B[39muint8)\n\u001B[1;32m     38\u001B[0m     test_x \u001B[38;5;241m=\u001B[39m images\u001B[38;5;241m.\u001B[39mreshape(\u001B[38;5;241m-\u001B[39m\u001B[38;5;241m1\u001B[39m, \u001B[38;5;241m28\u001B[39m, \u001B[38;5;241m28\u001B[39m)\n\u001B[1;32m     40\u001B[0m \u001B[38;5;28;01mwith\u001B[39;00m gzip\u001B[38;5;241m.\u001B[39mopen(file_test_y, \u001B[38;5;124m'\u001B[39m\u001B[38;5;124mrb\u001B[39m\u001B[38;5;124m'\u001B[39m) \u001B[38;5;28;01mas\u001B[39;00m f:\n",
      "File \u001B[0;32m~/miniconda3/envs/xmutant-backup/lib/python3.8/gzip.py:292\u001B[0m, in \u001B[0;36mGzipFile.read\u001B[0;34m(self, size)\u001B[0m\n\u001B[1;32m    290\u001B[0m     \u001B[38;5;28;01mimport\u001B[39;00m \u001B[38;5;21;01merrno\u001B[39;00m\n\u001B[1;32m    291\u001B[0m     \u001B[38;5;28;01mraise\u001B[39;00m \u001B[38;5;167;01mOSError\u001B[39;00m(errno\u001B[38;5;241m.\u001B[39mEBADF, \u001B[38;5;124m\"\u001B[39m\u001B[38;5;124mread() on write-only GzipFile object\u001B[39m\u001B[38;5;124m\"\u001B[39m)\n\u001B[0;32m--> 292\u001B[0m \u001B[38;5;28;01mreturn\u001B[39;00m \u001B[38;5;28;43mself\u001B[39;49m\u001B[38;5;241;43m.\u001B[39;49m\u001B[43m_buffer\u001B[49m\u001B[38;5;241;43m.\u001B[39;49m\u001B[43mread\u001B[49m\u001B[43m(\u001B[49m\u001B[43msize\u001B[49m\u001B[43m)\u001B[49m\n",
      "File \u001B[0;32m~/miniconda3/envs/xmutant-backup/lib/python3.8/gzip.py:487\u001B[0m, in \u001B[0;36m_GzipReader.read\u001B[0;34m(self, size)\u001B[0m\n\u001B[1;32m    484\u001B[0m \u001B[38;5;66;03m# Read a chunk of data from the file\u001B[39;00m\n\u001B[1;32m    485\u001B[0m buf \u001B[38;5;241m=\u001B[39m \u001B[38;5;28mself\u001B[39m\u001B[38;5;241m.\u001B[39m_fp\u001B[38;5;241m.\u001B[39mread(io\u001B[38;5;241m.\u001B[39mDEFAULT_BUFFER_SIZE)\n\u001B[0;32m--> 487\u001B[0m uncompress \u001B[38;5;241m=\u001B[39m \u001B[38;5;28;43mself\u001B[39;49m\u001B[38;5;241;43m.\u001B[39;49m\u001B[43m_decompressor\u001B[49m\u001B[38;5;241;43m.\u001B[39;49m\u001B[43mdecompress\u001B[49m\u001B[43m(\u001B[49m\u001B[43mbuf\u001B[49m\u001B[43m,\u001B[49m\u001B[43m \u001B[49m\u001B[43msize\u001B[49m\u001B[43m)\u001B[49m\n\u001B[1;32m    488\u001B[0m \u001B[38;5;28;01mif\u001B[39;00m \u001B[38;5;28mself\u001B[39m\u001B[38;5;241m.\u001B[39m_decompressor\u001B[38;5;241m.\u001B[39munconsumed_tail \u001B[38;5;241m!=\u001B[39m \u001B[38;5;124mb\u001B[39m\u001B[38;5;124m\"\u001B[39m\u001B[38;5;124m\"\u001B[39m:\n\u001B[1;32m    489\u001B[0m     \u001B[38;5;28mself\u001B[39m\u001B[38;5;241m.\u001B[39m_fp\u001B[38;5;241m.\u001B[39mprepend(\u001B[38;5;28mself\u001B[39m\u001B[38;5;241m.\u001B[39m_decompressor\u001B[38;5;241m.\u001B[39munconsumed_tail)\n",
      "\u001B[0;31mKeyboardInterrupt\u001B[0m: "
     ]
    }
   ],
   "execution_count": 22
  },
  {
   "metadata": {},
   "cell_type": "markdown",
   "source": "DLfuzz",
   "id": "ae9edbf89accf287"
  },
  {
   "metadata": {
    "ExecuteTime": {
     "end_time": "2024-12-02T21:45:14.740999041Z",
     "start_time": "2024-12-02T21:18:02.954133Z"
    }
   },
   "cell_type": "code",
   "source": [
    "from PIL import Image\n",
    "import os\n",
    "from tqdm import tqdm\n",
    "\n",
    "from tensorflow.keras.layers import Input, Activation\n",
    "from tensorflow.keras import backend as K\n",
    "\n",
    "from adversarial_methods.DLFuzz.dlfuzz import DLFuzz\n",
    "from adversarial_methods.DLFuzz.utils import clear_up_dir, load_image, deprocess_image, get_signature\n"
   ],
   "id": "e9e2a273158d906d",
   "outputs": [],
   "execution_count": 2
  },
  {
   "metadata": {
    "ExecuteTime": {
     "end_time": "2024-12-02T21:45:14.741500154Z",
     "start_time": "2024-12-02T21:19:48.575023Z"
    }
   },
   "cell_type": "code",
   "source": [
    "model = Predictor.model\n",
    "digit = 0 # range(10):\n",
    "set_all_seeds(digit)\n",
    "x_test, y_test = load_mnist_test(pop_size, digit)\n",
    "save_dir = './result/dlfuzz/digit_' + str(digit)\n",
    "clear_up_dir(save_dir)\n",
    "\n",
    "# prepare\n",
    "K.set_learning_phase(False)\n",
    "\n",
    "dlfuzz = DLFuzz(model)\n",
    "    # for x_ in x_test:\n",
    "    #     # calculate fuzz image\n",
    "    #     gen_img = dlfuzz.generate_fuzzy_image(x_)\n",
    "    # \n",
    "    #     # save image\n",
    "    #     # mannual_label = int(img_name.split('_')[1])\n",
    "    #     gen_img_deprocessed = deprocess_image(gen_img.numpy())\n",
    "    #     img_name = img_paths[i].split('.')[0]\n",
    "    #     save_img = save_dir + img_name + '_' + str(get_signature()) + '.png'\n",
    "    #     Image.fromarray(gen_img_deprocessed).save(save_img)"
   ],
   "id": "12497c20bd43fcf3",
   "outputs": [],
   "execution_count": 7
  },
  {
   "metadata": {
    "ExecuteTime": {
     "end_time": "2024-12-02T21:45:14.741766361Z",
     "start_time": "2024-12-02T21:19:51.290811Z"
    }
   },
   "cell_type": "code",
   "source": "gen_img = dlfuzz.generate_adversarial_image(x_test[0])",
   "id": "5c564abc27d3eacc",
   "outputs": [
    {
     "ename": "ValueError",
     "evalue": "Exception encountered when calling layer 'sequential' (type Sequential).\n\nInput 0 of layer \"conv2d\" is incompatible with the layer: expected min_ndim=4, found ndim=3. Full shape received: (1, 28, 28)\n\nCall arguments received by layer 'sequential' (type Sequential):\n  • inputs=<tf.Variable 'Variable:0' shape=(1, 28, 28) dtype=float32, numpy=\narray([[[  0.,   0.,   0.,   0.,   0.,   0.,   0.,   0.,   0.,   0.,\n           0.,   0.,   0.,   0.,   0.,   0.,   0.,   0.,   0.,   0.,\n           0.,   0.,   0.,   0.,   0.,   0.,   0.,   0.],\n        [  0.,   0.,   0.,   0.,   0.,   0.,   0.,   0.,   0.,   0.,\n           0.,   0.,   0.,   0.,   0.,   0.,   0.,   0.,   0.,   0.,\n           0.,   0.,   0.,   0.,   0.,   0.,   0.,   0.],\n        [  0.,   0.,   0.,   0.,   0.,   0.,   0.,   0.,   0.,   0.,\n           0.,   0.,   0.,   0.,   0.,   0.,   0.,   0.,   0.,   0.,\n           0.,   0.,   0.,   0.,   0.,   0.,   0.,   0.],\n        [  0.,   0.,   0.,   0.,   0.,   0.,   0.,   0.,   0.,   0.,\n           0.,   0.,   0.,   0.,   0.,   0.,   0.,   0.,   0.,   0.,\n           0.,   0.,   0.,   0.,   0.,   0.,   0.,   0.],\n        [  0.,   0.,   0.,   0.,   0.,   0.,   0.,   0.,   0.,   0.,\n           0.,   0.,   0.,   0.,   0.,   0.,   0.,   0.,   0.,   0.,\n           0.,   0.,   0.,   0.,   0.,   0.,   0.,   0.],\n        [  0.,   0.,   0.,   0.,   0.,   0.,   0.,   0.,   0.,   0.,\n           0.,   0.,  17.,  66., 138., 255., 253., 169., 138.,  23.,\n           0.,   0.,   0.,   0.,   0.,   0.,   0.,   0.],\n        [  0.,   0.,   0.,   0.,   0.,   0.,   0.,   0.,   0.,   0.,\n           5., 120., 228., 252., 252., 253., 252., 252., 252., 158.,\n           0.,   0.,   0.,   0.,   0.,   0.,   0.,   0.],\n        [  0.,   0.,   0.,   0.,   0.,   0.,   0.,   0.,   0.,   0.,\n         108., 252., 252., 252., 252., 190., 252., 252., 252., 252.,\n           0.,   0.,   0.,   0.,   0.,   0.,   0.,   0.],\n        [  0.,   0.,   0.,   0.,   0.,   0.,   0.,   0.,   0.,  43.,\n         233., 252., 252., 252., 116.,   5., 135., 252., 252., 252.,\n           0.,   0.,   0.,   0.,   0.,   0.,   0.,   0.],\n        [  0.,   0.,   0.,   0.,   0.,   0.,   0.,   0.,  43., 178.,\n         253., 252., 221.,  43.,   2.,   0.,   5.,  54., 232., 252.,\n         210.,   0.,   0.,   0.,   0.,   0.,   0.,   0.],\n        [  0.,   0.,   0.,   0.,   0.,   0.,   0.,   0.,  93., 253.,\n         255., 249., 115.,   0.,   0.,   0.,   0.,   0., 136., 251.,\n         255., 154.,   0.,   0.,   0.,   0.,   0.,   0.],\n        [  0.,   0.,   0.,   0.,   0.,   0.,   0.,   0., 166., 252.,\n         253., 185.,   0.,   0.,   0.,   0.,   0.,   0.,   0., 209.,\n         253., 206.,   0.,   0.,   0.,   0.,   0.,   0.],\n        [  0.,   0.,   0.,   0.,   0.,   0.,   0.,  19., 220., 252.,\n         253.,  92.,   0.,   0.,   0.,   0.,   0.,   0.,   0., 116.,\n         253., 206.,   0.,   0.,   0.,   0.,   0.,   0.],\n        [  0.,   0.,   0.,   0.,   0.,   0.,   0.,  70., 252., 252.,\n         192.,  17.,   0.,   0.,   0.,   0.,   0.,   0.,   0., 116.,\n         253., 223.,  25.,   0.,   0.,   0.,   0.,   0.],\n        [  0.,   0.,   0.,   0.,   0.,   0.,   0., 122., 252., 252.,\n          63.,   0.,   0.,   0.,   0.,   0.,   0.,   0.,   0., 116.,\n         253., 252.,  69.,   0.,   0.,   0.,   0.,   0.],\n        [  0.,   0.,   0.,   0.,   0.,   0.,   0., 132., 253., 253.,\n           0.,   0.,   0.,   0.,   0.,   0.,   0.,   0.,   0., 116.,\n         255., 253.,  69.,   0.,   0.,   0.,   0.,   0.],\n        [  0.,   0.,   0.,   0.,   0.,   0.,   0., 184., 252., 252.,\n           0.,   0.,   0.,   0.,   0.,   0.,   0.,   0.,   0., 116.,\n         253., 252.,  69.,   0.,   0.,   0.,   0.,   0.],\n        [  0.,   0.,   0.,   0.,   0.,   0.,   0., 184., 252., 252.,\n           0.,   0.,   0.,   0.,   0.,   0.,   0.,   0.,   0., 116.,\n         253., 240.,  50.,   0.,   0.,   0.,   0.,   0.],\n        [  0.,   0.,   0.,   0.,   0.,   0.,   0., 184., 252., 252.,\n           0.,   0.,   0.,   0.,   0.,   0.,   0.,   0.,   0., 210.,\n         253., 112.,   0.,   0.,   0.,   0.,   0.,   0.],\n        [  0.,   0.,   0.,   0.,   0.,   0.,   0.,  48., 232., 252.,\n         158.,   0.,   0.,   0.,   0.,   0.,   0.,   0.,   0., 230.,\n         232.,   8.,   0.,   0.,   0.,   0.,   0.,   0.],\n        [  0.,   0.,   0.,   0.,   0.,   0.,   0.,   0.,  93., 253.,\n         244.,  50.,   0.,   0.,   0.,   0.,   0.,   0., 155., 253.,\n         168.,   0.,   0.,   0.,   0.,   0.,   0.,   0.],\n        [  0.,   0.,   0.,   0.,   0.,   0.,   0.,   0.,  34., 164.,\n         253., 113.,   0.,   0.,   0.,   0.,   0.,  66., 236., 231.,\n          42.,   0.,   0.,   0.,   0.,   0.,   0.,   0.],\n        [  0.,   0.,   0.,   0.,   0.,   0.,   0.,   0.,   0.,  32.,\n         222., 240., 134.,   0.,   0.,  38.,  91., 234., 252., 137.,\n           0.,   0.,   0.,   0.,   0.,   0.,   0.,   0.],\n        [  0.,   0.,   0.,   0.,   0.,   0.,   0.,   0.,   0.,   0.,\n          25., 177., 240., 207., 103., 233., 252., 252., 176.,  35.,\n           0.,   0.,   0.,   0.,   0.,   0.,   0.,   0.],\n        [  0.,   0.,   0.,   0.,   0.,   0.,   0.,   0.,   0.,   0.,\n           0.,  15.,  54., 179., 252., 137., 137.,  54.,   4.,   0.,\n           0.,   0.,   0.,   0.,   0.,   0.,   0.,   0.],\n        [  0.,   0.,   0.,   0.,   0.,   0.,   0.,   0.,   0.,   0.,\n           0.,   0.,   0.,   0.,   0.,   0.,   0.,   0.,   0.,   0.,\n           0.,   0.,   0.,   0.,   0.,   0.,   0.,   0.],\n        [  0.,   0.,   0.,   0.,   0.,   0.,   0.,   0.,   0.,   0.,\n           0.,   0.,   0.,   0.,   0.,   0.,   0.,   0.,   0.,   0.,\n           0.,   0.,   0.,   0.,   0.,   0.,   0.,   0.],\n        [  0.,   0.,   0.,   0.,   0.,   0.,   0.,   0.,   0.,   0.,\n           0.,   0.,   0.,   0.,   0.,   0.,   0.,   0.,   0.,   0.,\n           0.,   0.,   0.,   0.,   0.,   0.,   0.,   0.]]], dtype=float32)>\n  • training=False\n  • mask=None",
     "output_type": "error",
     "traceback": [
      "\u001B[0;31m---------------------------------------------------------------------------\u001B[0m",
      "\u001B[0;31mValueError\u001B[0m                                Traceback (most recent call last)",
      "Cell \u001B[0;32mIn[8], line 1\u001B[0m\n\u001B[0;32m----> 1\u001B[0m gen_img \u001B[38;5;241m=\u001B[39m \u001B[43mdlfuzz\u001B[49m\u001B[38;5;241;43m.\u001B[39;49m\u001B[43mgenerate_adversarial_image\u001B[49m\u001B[43m(\u001B[49m\u001B[43mx_test\u001B[49m\u001B[43m[\u001B[49m\u001B[38;5;241;43m0\u001B[39;49m\u001B[43m]\u001B[49m\u001B[43m)\u001B[49m\n",
      "File \u001B[0;32m~/Projects/XMutant/XMutant-MNIST/adversarial_methods/DLFuzz/dlfuzz.py:405\u001B[0m, in \u001B[0;36mDLFuzz.generate_adversarial_image\u001B[0;34m(self, tmp_img)\u001B[0m\n\u001B[1;32m    403\u001B[0m \u001B[38;5;28;01mwhile\u001B[39;00m \u001B[38;5;28mlen\u001B[39m(process_queue_for_the_img) \u001B[38;5;241m>\u001B[39m \u001B[38;5;241m0\u001B[39m:\n\u001B[1;32m    404\u001B[0m     gen_img \u001B[38;5;241m=\u001B[39m process_queue_for_the_img\u001B[38;5;241m.\u001B[39mpop(\u001B[38;5;241m0\u001B[39m)\n\u001B[0;32m--> 405\u001B[0m     \u001B[38;5;28;43mself\u001B[39;49m\u001B[38;5;241;43m.\u001B[39;49m\u001B[43mloss_function\u001B[49m\u001B[43m(\u001B[49m\u001B[43mgen_img\u001B[49m\u001B[43m)\u001B[49m\n\u001B[1;32m    407\u001B[0m     \u001B[38;5;66;03m# we run gradient ascent for 3 steps\u001B[39;00m\n\u001B[1;32m    408\u001B[0m     \u001B[38;5;28;01mfor\u001B[39;00m \u001B[38;5;28miter\u001B[39m \u001B[38;5;129;01min\u001B[39;00m \u001B[38;5;28mrange\u001B[39m(\u001B[38;5;28mself\u001B[39m\u001B[38;5;241m.\u001B[39miteration_times):\n",
      "File \u001B[0;32m~/Projects/XMutant/XMutant-MNIST/adversarial_methods/DLFuzz/dlfuzz.py:335\u001B[0m, in \u001B[0;36mDLFuzz.loss_function\u001B[0;34m(self, image_data)\u001B[0m\n\u001B[1;32m    333\u001B[0m \u001B[38;5;28;01mwith\u001B[39;00m tf\u001B[38;5;241m.\u001B[39mGradientTape() \u001B[38;5;28;01mas\u001B[39;00m tape:\n\u001B[1;32m    334\u001B[0m     tape\u001B[38;5;241m.\u001B[39mwatch(input_tensor)\n\u001B[0;32m--> 335\u001B[0m     pred1 \u001B[38;5;241m=\u001B[39m \u001B[38;5;28;43mself\u001B[39;49m\u001B[38;5;241;43m.\u001B[39;49m\u001B[43mmodel\u001B[49m\u001B[43m(\u001B[49m\u001B[43minput_tensor\u001B[49m\u001B[43m)\u001B[49m\n\u001B[1;32m    336\u001B[0m     \u001B[38;5;66;03m# orig_pred = pred1\u001B[39;00m\n\u001B[1;32m    338\u001B[0m     DLFuzz\u001B[38;5;241m.\u001B[39mupdate_coverage_value(image_data, \u001B[38;5;28mself\u001B[39m\u001B[38;5;241m.\u001B[39mmodel, \u001B[38;5;28mself\u001B[39m\u001B[38;5;241m.\u001B[39mmodel_layer_value1)\n",
      "File \u001B[0;32m~/miniconda3/envs/xmutant-backup/lib/python3.8/site-packages/keras/utils/traceback_utils.py:70\u001B[0m, in \u001B[0;36mfilter_traceback.<locals>.error_handler\u001B[0;34m(*args, **kwargs)\u001B[0m\n\u001B[1;32m     67\u001B[0m     filtered_tb \u001B[38;5;241m=\u001B[39m _process_traceback_frames(e\u001B[38;5;241m.\u001B[39m__traceback__)\n\u001B[1;32m     68\u001B[0m     \u001B[38;5;66;03m# To get the full stack trace, call:\u001B[39;00m\n\u001B[1;32m     69\u001B[0m     \u001B[38;5;66;03m# `tf.debugging.disable_traceback_filtering()`\u001B[39;00m\n\u001B[0;32m---> 70\u001B[0m     \u001B[38;5;28;01mraise\u001B[39;00m e\u001B[38;5;241m.\u001B[39mwith_traceback(filtered_tb) \u001B[38;5;28;01mfrom\u001B[39;00m \u001B[38;5;28;01mNone\u001B[39;00m\n\u001B[1;32m     71\u001B[0m \u001B[38;5;28;01mfinally\u001B[39;00m:\n\u001B[1;32m     72\u001B[0m     \u001B[38;5;28;01mdel\u001B[39;00m filtered_tb\n",
      "File \u001B[0;32m~/miniconda3/envs/xmutant-backup/lib/python3.8/site-packages/keras/engine/input_spec.py:253\u001B[0m, in \u001B[0;36massert_input_compatibility\u001B[0;34m(input_spec, inputs, layer_name)\u001B[0m\n\u001B[1;32m    251\u001B[0m     ndim \u001B[38;5;241m=\u001B[39m x\u001B[38;5;241m.\u001B[39mshape\u001B[38;5;241m.\u001B[39mrank\n\u001B[1;32m    252\u001B[0m     \u001B[38;5;28;01mif\u001B[39;00m ndim \u001B[38;5;129;01mis\u001B[39;00m \u001B[38;5;129;01mnot\u001B[39;00m \u001B[38;5;28;01mNone\u001B[39;00m \u001B[38;5;129;01mand\u001B[39;00m ndim \u001B[38;5;241m<\u001B[39m spec\u001B[38;5;241m.\u001B[39mmin_ndim:\n\u001B[0;32m--> 253\u001B[0m         \u001B[38;5;28;01mraise\u001B[39;00m \u001B[38;5;167;01mValueError\u001B[39;00m(\n\u001B[1;32m    254\u001B[0m             \u001B[38;5;124mf\u001B[39m\u001B[38;5;124m'\u001B[39m\u001B[38;5;124mInput \u001B[39m\u001B[38;5;132;01m{\u001B[39;00minput_index\u001B[38;5;132;01m}\u001B[39;00m\u001B[38;5;124m of layer \u001B[39m\u001B[38;5;124m\"\u001B[39m\u001B[38;5;132;01m{\u001B[39;00mlayer_name\u001B[38;5;132;01m}\u001B[39;00m\u001B[38;5;124m\"\u001B[39m\u001B[38;5;124m \u001B[39m\u001B[38;5;124m'\u001B[39m\n\u001B[1;32m    255\u001B[0m             \u001B[38;5;124m\"\u001B[39m\u001B[38;5;124mis incompatible with the layer: \u001B[39m\u001B[38;5;124m\"\u001B[39m\n\u001B[1;32m    256\u001B[0m             \u001B[38;5;124mf\u001B[39m\u001B[38;5;124m\"\u001B[39m\u001B[38;5;124mexpected min_ndim=\u001B[39m\u001B[38;5;132;01m{\u001B[39;00mspec\u001B[38;5;241m.\u001B[39mmin_ndim\u001B[38;5;132;01m}\u001B[39;00m\u001B[38;5;124m, \u001B[39m\u001B[38;5;124m\"\u001B[39m\n\u001B[1;32m    257\u001B[0m             \u001B[38;5;124mf\u001B[39m\u001B[38;5;124m\"\u001B[39m\u001B[38;5;124mfound ndim=\u001B[39m\u001B[38;5;132;01m{\u001B[39;00mndim\u001B[38;5;132;01m}\u001B[39;00m\u001B[38;5;124m. \u001B[39m\u001B[38;5;124m\"\u001B[39m\n\u001B[1;32m    258\u001B[0m             \u001B[38;5;124mf\u001B[39m\u001B[38;5;124m\"\u001B[39m\u001B[38;5;124mFull shape received: \u001B[39m\u001B[38;5;132;01m{\u001B[39;00m\u001B[38;5;28mtuple\u001B[39m(shape)\u001B[38;5;132;01m}\u001B[39;00m\u001B[38;5;124m\"\u001B[39m\n\u001B[1;32m    259\u001B[0m         )\n\u001B[1;32m    260\u001B[0m \u001B[38;5;66;03m# Check dtype.\u001B[39;00m\n\u001B[1;32m    261\u001B[0m \u001B[38;5;28;01mif\u001B[39;00m spec\u001B[38;5;241m.\u001B[39mdtype \u001B[38;5;129;01mis\u001B[39;00m \u001B[38;5;129;01mnot\u001B[39;00m \u001B[38;5;28;01mNone\u001B[39;00m:\n",
      "\u001B[0;31mValueError\u001B[0m: Exception encountered when calling layer 'sequential' (type Sequential).\n\nInput 0 of layer \"conv2d\" is incompatible with the layer: expected min_ndim=4, found ndim=3. Full shape received: (1, 28, 28)\n\nCall arguments received by layer 'sequential' (type Sequential):\n  • inputs=<tf.Variable 'Variable:0' shape=(1, 28, 28) dtype=float32, numpy=\narray([[[  0.,   0.,   0.,   0.,   0.,   0.,   0.,   0.,   0.,   0.,\n           0.,   0.,   0.,   0.,   0.,   0.,   0.,   0.,   0.,   0.,\n           0.,   0.,   0.,   0.,   0.,   0.,   0.,   0.],\n        [  0.,   0.,   0.,   0.,   0.,   0.,   0.,   0.,   0.,   0.,\n           0.,   0.,   0.,   0.,   0.,   0.,   0.,   0.,   0.,   0.,\n           0.,   0.,   0.,   0.,   0.,   0.,   0.,   0.],\n        [  0.,   0.,   0.,   0.,   0.,   0.,   0.,   0.,   0.,   0.,\n           0.,   0.,   0.,   0.,   0.,   0.,   0.,   0.,   0.,   0.,\n           0.,   0.,   0.,   0.,   0.,   0.,   0.,   0.],\n        [  0.,   0.,   0.,   0.,   0.,   0.,   0.,   0.,   0.,   0.,\n           0.,   0.,   0.,   0.,   0.,   0.,   0.,   0.,   0.,   0.,\n           0.,   0.,   0.,   0.,   0.,   0.,   0.,   0.],\n        [  0.,   0.,   0.,   0.,   0.,   0.,   0.,   0.,   0.,   0.,\n           0.,   0.,   0.,   0.,   0.,   0.,   0.,   0.,   0.,   0.,\n           0.,   0.,   0.,   0.,   0.,   0.,   0.,   0.],\n        [  0.,   0.,   0.,   0.,   0.,   0.,   0.,   0.,   0.,   0.,\n           0.,   0.,  17.,  66., 138., 255., 253., 169., 138.,  23.,\n           0.,   0.,   0.,   0.,   0.,   0.,   0.,   0.],\n        [  0.,   0.,   0.,   0.,   0.,   0.,   0.,   0.,   0.,   0.,\n           5., 120., 228., 252., 252., 253., 252., 252., 252., 158.,\n           0.,   0.,   0.,   0.,   0.,   0.,   0.,   0.],\n        [  0.,   0.,   0.,   0.,   0.,   0.,   0.,   0.,   0.,   0.,\n         108., 252., 252., 252., 252., 190., 252., 252., 252., 252.,\n           0.,   0.,   0.,   0.,   0.,   0.,   0.,   0.],\n        [  0.,   0.,   0.,   0.,   0.,   0.,   0.,   0.,   0.,  43.,\n         233., 252., 252., 252., 116.,   5., 135., 252., 252., 252.,\n           0.,   0.,   0.,   0.,   0.,   0.,   0.,   0.],\n        [  0.,   0.,   0.,   0.,   0.,   0.,   0.,   0.,  43., 178.,\n         253., 252., 221.,  43.,   2.,   0.,   5.,  54., 232., 252.,\n         210.,   0.,   0.,   0.,   0.,   0.,   0.,   0.],\n        [  0.,   0.,   0.,   0.,   0.,   0.,   0.,   0.,  93., 253.,\n         255., 249., 115.,   0.,   0.,   0.,   0.,   0., 136., 251.,\n         255., 154.,   0.,   0.,   0.,   0.,   0.,   0.],\n        [  0.,   0.,   0.,   0.,   0.,   0.,   0.,   0., 166., 252.,\n         253., 185.,   0.,   0.,   0.,   0.,   0.,   0.,   0., 209.,\n         253., 206.,   0.,   0.,   0.,   0.,   0.,   0.],\n        [  0.,   0.,   0.,   0.,   0.,   0.,   0.,  19., 220., 252.,\n         253.,  92.,   0.,   0.,   0.,   0.,   0.,   0.,   0., 116.,\n         253., 206.,   0.,   0.,   0.,   0.,   0.,   0.],\n        [  0.,   0.,   0.,   0.,   0.,   0.,   0.,  70., 252., 252.,\n         192.,  17.,   0.,   0.,   0.,   0.,   0.,   0.,   0., 116.,\n         253., 223.,  25.,   0.,   0.,   0.,   0.,   0.],\n        [  0.,   0.,   0.,   0.,   0.,   0.,   0., 122., 252., 252.,\n          63.,   0.,   0.,   0.,   0.,   0.,   0.,   0.,   0., 116.,\n         253., 252.,  69.,   0.,   0.,   0.,   0.,   0.],\n        [  0.,   0.,   0.,   0.,   0.,   0.,   0., 132., 253., 253.,\n           0.,   0.,   0.,   0.,   0.,   0.,   0.,   0.,   0., 116.,\n         255., 253.,  69.,   0.,   0.,   0.,   0.,   0.],\n        [  0.,   0.,   0.,   0.,   0.,   0.,   0., 184., 252., 252.,\n           0.,   0.,   0.,   0.,   0.,   0.,   0.,   0.,   0., 116.,\n         253., 252.,  69.,   0.,   0.,   0.,   0.,   0.],\n        [  0.,   0.,   0.,   0.,   0.,   0.,   0., 184., 252., 252.,\n           0.,   0.,   0.,   0.,   0.,   0.,   0.,   0.,   0., 116.,\n         253., 240.,  50.,   0.,   0.,   0.,   0.,   0.],\n        [  0.,   0.,   0.,   0.,   0.,   0.,   0., 184., 252., 252.,\n           0.,   0.,   0.,   0.,   0.,   0.,   0.,   0.,   0., 210.,\n         253., 112.,   0.,   0.,   0.,   0.,   0.,   0.],\n        [  0.,   0.,   0.,   0.,   0.,   0.,   0.,  48., 232., 252.,\n         158.,   0.,   0.,   0.,   0.,   0.,   0.,   0.,   0., 230.,\n         232.,   8.,   0.,   0.,   0.,   0.,   0.,   0.],\n        [  0.,   0.,   0.,   0.,   0.,   0.,   0.,   0.,  93., 253.,\n         244.,  50.,   0.,   0.,   0.,   0.,   0.,   0., 155., 253.,\n         168.,   0.,   0.,   0.,   0.,   0.,   0.,   0.],\n        [  0.,   0.,   0.,   0.,   0.,   0.,   0.,   0.,  34., 164.,\n         253., 113.,   0.,   0.,   0.,   0.,   0.,  66., 236., 231.,\n          42.,   0.,   0.,   0.,   0.,   0.,   0.,   0.],\n        [  0.,   0.,   0.,   0.,   0.,   0.,   0.,   0.,   0.,  32.,\n         222., 240., 134.,   0.,   0.,  38.,  91., 234., 252., 137.,\n           0.,   0.,   0.,   0.,   0.,   0.,   0.,   0.],\n        [  0.,   0.,   0.,   0.,   0.,   0.,   0.,   0.,   0.,   0.,\n          25., 177., 240., 207., 103., 233., 252., 252., 176.,  35.,\n           0.,   0.,   0.,   0.,   0.,   0.,   0.,   0.],\n        [  0.,   0.,   0.,   0.,   0.,   0.,   0.,   0.,   0.,   0.,\n           0.,  15.,  54., 179., 252., 137., 137.,  54.,   4.,   0.,\n           0.,   0.,   0.,   0.,   0.,   0.,   0.,   0.],\n        [  0.,   0.,   0.,   0.,   0.,   0.,   0.,   0.,   0.,   0.,\n           0.,   0.,   0.,   0.,   0.,   0.,   0.,   0.,   0.,   0.,\n           0.,   0.,   0.,   0.,   0.,   0.,   0.,   0.],\n        [  0.,   0.,   0.,   0.,   0.,   0.,   0.,   0.,   0.,   0.,\n           0.,   0.,   0.,   0.,   0.,   0.,   0.,   0.,   0.,   0.,\n           0.,   0.,   0.,   0.,   0.,   0.,   0.,   0.],\n        [  0.,   0.,   0.,   0.,   0.,   0.,   0.,   0.,   0.,   0.,\n           0.,   0.,   0.,   0.,   0.,   0.,   0.,   0.,   0.,   0.,\n           0.,   0.,   0.,   0.,   0.,   0.,   0.,   0.]]], dtype=float32)>\n  • training=False\n  • mask=None"
     ]
    }
   ],
   "execution_count": 8
  },
  {
   "metadata": {
    "ExecuteTime": {
     "end_time": "2024-12-02T23:01:22.659802Z",
     "start_time": "2024-12-02T23:01:13.882909Z"
    }
   },
   "cell_type": "code",
   "source": [
    "from adversarial_methods.fgsm import *\n",
    "\n",
    "digit = 0 # range(10):\n",
    "x_test, y_test = load_mnist_test(pop_size, digit)\n",
    "image = x_test[0]\n",
    "count = 0\n",
    "for i, (image,image_label) in enumerate(zip(x_test, y_test)):\n",
    "    image = np.reshape(image, model.input_shape[1:])\n",
    "    x = np.array([image])\n",
    "    y = np.zeros((1,10))\n",
    "    y[image_label] = 1\n",
    "    g = gradient_of_x(x, y, model)\n",
    "    g_npy = np.squeeze(g.numpy())\n",
    "    g_sign = np.reshape(tf.sign(g_npy), model.input_shape[1:])\n",
    "    \n",
    "    epsilons = [1]# = np.linspace(0, 1, num=20)\n",
    "    \n",
    "    for eps in epsilons:\n",
    "      adv_x = image + eps*g_sign\n",
    "      adv_x = tf.clip_by_value(adv_x, -1, 1)\n",
    "      prediction, confidence = Predictor.predict_single(np.expand_dims(adv_x, 0), image_label) \n",
    "      if prediction!= image_label:\n",
    "          count += 1\n",
    "          print(f\"id {i} count {count} eps {eps} misclass, label {image_label}, predict {prediction, confidence}\")\n",
    "          break\n",
    "       "
   ],
   "id": "9e85a502ee3365ef",
   "outputs": [
    {
     "name": "stdout",
     "output_type": "stream",
     "text": [
      "1/1 [==============================] - 0s 14ms/step\n",
      "1/1 [==============================] - 0s 13ms/step\n",
      "1/1 [==============================] - 0s 13ms/step\n",
      "1/1 [==============================] - 0s 13ms/step\n",
      "1/1 [==============================] - 0s 13ms/step\n",
      "1/1 [==============================] - 0s 13ms/step\n",
      "id 5 count 1 eps 1 misclass, label 0, predict (8, -0.9996769)\n",
      "1/1 [==============================] - 0s 14ms/step\n",
      "1/1 [==============================] - 0s 14ms/step\n",
      "1/1 [==============================] - 0s 12ms/step\n",
      "1/1 [==============================] - 0s 13ms/step\n",
      "1/1 [==============================] - 0s 13ms/step\n",
      "1/1 [==============================] - 0s 15ms/step\n",
      "1/1 [==============================] - 0s 13ms/step\n",
      "1/1 [==============================] - 0s 13ms/step\n",
      "1/1 [==============================] - 0s 13ms/step\n",
      "id 14 count 2 eps 1 misclass, label 0, predict (5, -0.93511987)\n",
      "1/1 [==============================] - 0s 13ms/step\n",
      "1/1 [==============================] - 0s 13ms/step\n",
      "1/1 [==============================] - 0s 13ms/step\n",
      "id 17 count 3 eps 1 misclass, label 0, predict (2, -0.26762453)\n",
      "1/1 [==============================] - 0s 13ms/step\n",
      "1/1 [==============================] - 0s 14ms/step\n",
      "1/1 [==============================] - 0s 14ms/step\n",
      "1/1 [==============================] - 0s 13ms/step\n",
      "1/1 [==============================] - 0s 12ms/step\n",
      "1/1 [==============================] - 0s 13ms/step\n",
      "1/1 [==============================] - 0s 14ms/step\n",
      "1/1 [==============================] - 0s 13ms/step\n",
      "1/1 [==============================] - 0s 13ms/step\n",
      "1/1 [==============================] - 0s 13ms/step\n",
      "1/1 [==============================] - 0s 13ms/step\n",
      "1/1 [==============================] - 0s 13ms/step\n",
      "id 29 count 4 eps 1 misclass, label 0, predict (2, -0.9981566)\n",
      "1/1 [==============================] - 0s 13ms/step\n",
      "1/1 [==============================] - 0s 13ms/step\n",
      "1/1 [==============================] - 0s 13ms/step\n",
      "1/1 [==============================] - 0s 14ms/step\n",
      "1/1 [==============================] - 0s 13ms/step\n",
      "1/1 [==============================] - 0s 13ms/step\n",
      "1/1 [==============================] - 0s 15ms/step\n",
      "1/1 [==============================] - 0s 14ms/step\n",
      "1/1 [==============================] - 0s 13ms/step\n",
      "1/1 [==============================] - 0s 13ms/step\n",
      "1/1 [==============================] - 0s 18ms/step\n",
      "id 40 count 5 eps 1 misclass, label 0, predict (2, -0.7474635)\n",
      "1/1 [==============================] - 0s 13ms/step\n",
      "1/1 [==============================] - 0s 13ms/step\n",
      "1/1 [==============================] - 0s 14ms/step\n",
      "id 43 count 6 eps 1 misclass, label 0, predict (2, -0.5200295)\n",
      "1/1 [==============================] - 0s 13ms/step\n",
      "1/1 [==============================] - 0s 14ms/step\n",
      "1/1 [==============================] - 0s 13ms/step\n",
      "1/1 [==============================] - 0s 16ms/step\n",
      "1/1 [==============================] - 0s 13ms/step\n",
      "id 48 count 7 eps 1 misclass, label 0, predict (2, -0.99999714)\n",
      "1/1 [==============================] - 0s 13ms/step\n",
      "1/1 [==============================] - 0s 14ms/step\n",
      "1/1 [==============================] - 0s 13ms/step\n",
      "id 51 count 8 eps 1 misclass, label 0, predict (2, -0.96827954)\n",
      "1/1 [==============================] - 0s 13ms/step\n",
      "1/1 [==============================] - 0s 12ms/step\n",
      "1/1 [==============================] - 0s 12ms/step\n",
      "1/1 [==============================] - 0s 13ms/step\n",
      "1/1 [==============================] - 0s 14ms/step\n",
      "1/1 [==============================] - 0s 12ms/step\n",
      "1/1 [==============================] - 0s 12ms/step\n",
      "1/1 [==============================] - 0s 13ms/step\n",
      "id 59 count 9 eps 1 misclass, label 0, predict (2, -0.99734175)\n",
      "1/1 [==============================] - 0s 13ms/step\n",
      "1/1 [==============================] - 0s 13ms/step\n",
      "1/1 [==============================] - 0s 13ms/step\n",
      "1/1 [==============================] - 0s 13ms/step\n",
      "1/1 [==============================] - 0s 13ms/step\n",
      "id 64 count 10 eps 1 misclass, label 0, predict (2, -0.05695662)\n",
      "1/1 [==============================] - 0s 13ms/step\n",
      "1/1 [==============================] - 0s 13ms/step\n",
      "1/1 [==============================] - 0s 13ms/step\n",
      "1/1 [==============================] - 0s 13ms/step\n",
      "1/1 [==============================] - 0s 13ms/step\n",
      "1/1 [==============================] - 0s 13ms/step\n",
      "1/1 [==============================] - 0s 13ms/step\n",
      "1/1 [==============================] - 0s 13ms/step\n",
      "1/1 [==============================] - 0s 13ms/step\n",
      "1/1 [==============================] - 0s 13ms/step\n",
      "id 74 count 11 eps 1 misclass, label 0, predict (2, -0.9999995)\n",
      "1/1 [==============================] - 0s 13ms/step\n",
      "1/1 [==============================] - 0s 14ms/step\n",
      "1/1 [==============================] - 0s 13ms/step\n",
      "1/1 [==============================] - 0s 14ms/step\n",
      "1/1 [==============================] - 0s 13ms/step\n",
      "1/1 [==============================] - 0s 16ms/step\n",
      "1/1 [==============================] - 0s 14ms/step\n",
      "1/1 [==============================] - 0s 13ms/step\n",
      "1/1 [==============================] - 0s 13ms/step\n",
      "1/1 [==============================] - 0s 13ms/step\n",
      "id 84 count 12 eps 1 misclass, label 0, predict (2, -0.75918233)\n",
      "1/1 [==============================] - 0s 13ms/step\n",
      "1/1 [==============================] - 0s 13ms/step\n",
      "1/1 [==============================] - 0s 13ms/step\n",
      "id 87 count 13 eps 1 misclass, label 0, predict (2, -0.92320436)\n",
      "1/1 [==============================] - 0s 14ms/step\n",
      "1/1 [==============================] - 0s 13ms/step\n",
      "1/1 [==============================] - 0s 14ms/step\n",
      "1/1 [==============================] - 0s 15ms/step\n",
      "1/1 [==============================] - 0s 14ms/step\n",
      "1/1 [==============================] - 0s 14ms/step\n",
      "id 93 count 14 eps 1 misclass, label 0, predict (2, -0.8652216)\n",
      "1/1 [==============================] - 0s 14ms/step\n",
      "1/1 [==============================] - 0s 15ms/step\n",
      "id 95 count 15 eps 1 misclass, label 0, predict (2, -0.7354692)\n",
      "1/1 [==============================] - 0s 14ms/step\n",
      "1/1 [==============================] - 0s 14ms/step\n",
      "1/1 [==============================] - 0s 14ms/step\n",
      "1/1 [==============================] - 0s 15ms/step\n",
      "1/1 [==============================] - 0s 16ms/step\n",
      "id 100 count 16 eps 1 misclass, label 0, predict (2, -0.07187143)\n",
      "1/1 [==============================] - 0s 14ms/step\n",
      "id 101 count 17 eps 1 misclass, label 0, predict (2, -0.92008924)\n",
      "1/1 [==============================] - 0s 13ms/step\n",
      "1/1 [==============================] - 0s 13ms/step\n",
      "1/1 [==============================] - 0s 14ms/step\n",
      "1/1 [==============================] - 0s 13ms/step\n",
      "1/1 [==============================] - 0s 13ms/step\n",
      "1/1 [==============================] - 0s 13ms/step\n",
      "1/1 [==============================] - 0s 14ms/step\n",
      "1/1 [==============================] - 0s 13ms/step\n",
      "id 109 count 18 eps 1 misclass, label 0, predict (2, -0.86704594)\n",
      "1/1 [==============================] - 0s 15ms/step\n",
      "1/1 [==============================] - 0s 14ms/step\n",
      "1/1 [==============================] - 0s 15ms/step\n",
      "1/1 [==============================] - 0s 15ms/step\n",
      "1/1 [==============================] - 0s 22ms/step\n",
      "1/1 [==============================] - 0s 17ms/step\n",
      "1/1 [==============================] - 0s 15ms/step\n",
      "1/1 [==============================] - 0s 14ms/step\n",
      "1/1 [==============================] - 0s 15ms/step\n",
      "1/1 [==============================] - 0s 14ms/step\n",
      "1/1 [==============================] - 0s 23ms/step\n",
      "id 120 count 19 eps 1 misclass, label 0, predict (2, -0.13195625)\n",
      "1/1 [==============================] - 0s 14ms/step\n",
      "id 121 count 20 eps 1 misclass, label 0, predict (2, -0.9991547)\n",
      "1/1 [==============================] - 0s 13ms/step\n",
      "1/1 [==============================] - 0s 13ms/step\n",
      "id 123 count 21 eps 1 misclass, label 0, predict (8, -0.07281703)\n",
      "1/1 [==============================] - 0s 14ms/step\n",
      "1/1 [==============================] - 0s 13ms/step\n",
      "1/1 [==============================] - 0s 13ms/step\n",
      "1/1 [==============================] - 0s 15ms/step\n",
      "1/1 [==============================] - 0s 15ms/step\n",
      "1/1 [==============================] - 0s 14ms/step\n",
      "1/1 [==============================] - 0s 19ms/step\n",
      "1/1 [==============================] - 0s 14ms/step\n",
      "1/1 [==============================] - 0s 14ms/step\n",
      "1/1 [==============================] - 0s 14ms/step\n",
      "1/1 [==============================] - 0s 13ms/step\n",
      "id 134 count 22 eps 1 misclass, label 0, predict (2, -0.999103)\n",
      "1/1 [==============================] - 0s 13ms/step\n",
      "id 135 count 23 eps 1 misclass, label 0, predict (6, -0.7773109)\n",
      "1/1 [==============================] - 0s 14ms/step\n",
      "1/1 [==============================] - 0s 14ms/step\n",
      "id 137 count 24 eps 1 misclass, label 0, predict (2, -0.07782373)\n",
      "1/1 [==============================] - 0s 13ms/step\n",
      "1/1 [==============================] - 0s 13ms/step\n",
      "1/1 [==============================] - 0s 14ms/step\n",
      "1/1 [==============================] - 0s 13ms/step\n",
      "1/1 [==============================] - 0s 14ms/step\n",
      "1/1 [==============================] - 0s 13ms/step\n",
      "1/1 [==============================] - 0s 13ms/step\n",
      "1/1 [==============================] - 0s 15ms/step\n",
      "1/1 [==============================] - 0s 14ms/step\n",
      "id 146 count 25 eps 1 misclass, label 0, predict (2, -0.999767)\n",
      "1/1 [==============================] - 0s 14ms/step\n",
      "1/1 [==============================] - 0s 13ms/step\n",
      "1/1 [==============================] - 0s 13ms/step\n",
      "1/1 [==============================] - 0s 13ms/step\n",
      "1/1 [==============================] - 0s 14ms/step\n",
      "1/1 [==============================] - 0s 15ms/step\n",
      "1/1 [==============================] - 0s 13ms/step\n",
      "1/1 [==============================] - 0s 14ms/step\n",
      "1/1 [==============================] - 0s 14ms/step\n",
      "1/1 [==============================] - 0s 14ms/step\n",
      "1/1 [==============================] - 0s 14ms/step\n",
      "1/1 [==============================] - 0s 13ms/step\n",
      "1/1 [==============================] - 0s 13ms/step\n",
      "1/1 [==============================] - 0s 13ms/step\n",
      "1/1 [==============================] - 0s 14ms/step\n",
      "1/1 [==============================] - 0s 14ms/step\n",
      "1/1 [==============================] - 0s 14ms/step\n",
      "id 163 count 26 eps 1 misclass, label 0, predict (2, -0.99992543)\n",
      "1/1 [==============================] - 0s 14ms/step\n",
      "1/1 [==============================] - 0s 14ms/step\n",
      "id 165 count 27 eps 1 misclass, label 0, predict (2, -0.79178554)\n",
      "1/1 [==============================] - 0s 14ms/step\n",
      "id 166 count 28 eps 1 misclass, label 0, predict (2, -0.999337)\n",
      "1/1 [==============================] - 0s 13ms/step\n",
      "1/1 [==============================] - 0s 15ms/step\n",
      "1/1 [==============================] - 0s 13ms/step\n",
      "1/1 [==============================] - 0s 14ms/step\n",
      "id 170 count 29 eps 1 misclass, label 0, predict (2, -0.9986116)\n",
      "1/1 [==============================] - 0s 14ms/step\n",
      "1/1 [==============================] - 0s 14ms/step\n",
      "1/1 [==============================] - 0s 17ms/step\n",
      "1/1 [==============================] - 0s 18ms/step\n",
      "1/1 [==============================] - 0s 18ms/step\n",
      "1/1 [==============================] - 0s 19ms/step\n",
      "1/1 [==============================] - 0s 18ms/step\n",
      "1/1 [==============================] - 0s 18ms/step\n",
      "1/1 [==============================] - 0s 18ms/step\n",
      "1/1 [==============================] - 0s 17ms/step\n",
      "1/1 [==============================] - 0s 17ms/step\n",
      "1/1 [==============================] - 0s 16ms/step\n",
      "1/1 [==============================] - 0s 17ms/step\n",
      "1/1 [==============================] - 0s 17ms/step\n",
      "id 184 count 30 eps 1 misclass, label 0, predict (2, -0.9979997)\n",
      "1/1 [==============================] - 0s 17ms/step\n",
      "1/1 [==============================] - 0s 18ms/step\n",
      "1/1 [==============================] - 0s 19ms/step\n",
      "id 187 count 31 eps 1 misclass, label 0, predict (2, -0.7387961)\n",
      "1/1 [==============================] - 0s 17ms/step\n",
      "1/1 [==============================] - 0s 17ms/step\n",
      "1/1 [==============================] - 0s 18ms/step\n",
      "1/1 [==============================] - 0s 18ms/step\n",
      "1/1 [==============================] - 0s 17ms/step\n",
      "1/1 [==============================] - 0s 17ms/step\n",
      "1/1 [==============================] - 0s 16ms/step\n",
      "id 194 count 32 eps 1 misclass, label 0, predict (2, -0.99954)\n",
      "1/1 [==============================] - 0s 18ms/step\n",
      "id 195 count 33 eps 1 misclass, label 0, predict (2, -0.70963144)\n",
      "1/1 [==============================] - 0s 15ms/step\n",
      "id 196 count 34 eps 1 misclass, label 0, predict (2, -0.9998317)\n",
      "1/1 [==============================] - 0s 15ms/step\n",
      "1/1 [==============================] - 0s 16ms/step\n",
      "1/1 [==============================] - 0s 18ms/step\n",
      "id 199 count 35 eps 1 misclass, label 0, predict (2, -0.4093715)\n"
     ]
    }
   ],
   "execution_count": 68
  },
  {
   "metadata": {
    "ExecuteTime": {
     "end_time": "2024-12-02T23:01:27.950146Z",
     "start_time": "2024-12-02T23:01:27.946032Z"
    }
   },
   "cell_type": "code",
   "source": "print(f\"id {i} count {count}\" )",
   "id": "8605818990a1a07b",
   "outputs": [
    {
     "name": "stdout",
     "output_type": "stream",
     "text": [
      "id 199 count 35\n"
     ]
    }
   ],
   "execution_count": 69
  },
  {
   "metadata": {
    "ExecuteTime": {
     "end_time": "2024-12-02T22:26:22.498261Z",
     "start_time": "2024-12-02T22:26:22.426172Z"
    }
   },
   "cell_type": "code",
   "source": "Predictor.predict_single(np.expand_dims(image, 0), image_label) ",
   "id": "db9ec615ed08efba",
   "outputs": [
    {
     "name": "stdout",
     "output_type": "stream",
     "text": [
      "1/1 [==============================] - 0s 20ms/step\n"
     ]
    },
    {
     "data": {
      "text/plain": [
       "(0, 1.0)"
      ]
     },
     "execution_count": 32,
     "metadata": {},
     "output_type": "execute_result"
    }
   ],
   "execution_count": 32
  },
  {
   "metadata": {
    "ExecuteTime": {
     "end_time": "2024-12-02T22:27:12.380957Z",
     "start_time": "2024-12-02T22:27:12.377643Z"
    }
   },
   "cell_type": "code",
   "source": "g_sign.shape",
   "id": "d21a43934196d37e",
   "outputs": [
    {
     "data": {
      "text/plain": [
       "(28, 28, 1)"
      ]
     },
     "execution_count": 35,
     "metadata": {},
     "output_type": "execute_result"
    }
   ],
   "execution_count": 35
  },
  {
   "metadata": {},
   "cell_type": "markdown",
   "source": "",
   "id": "a38cb98954396265"
  },
  {
   "metadata": {
    "ExecuteTime": {
     "end_time": "2024-12-02T22:33:37.264777Z",
     "start_time": "2024-12-02T22:33:36.574412Z"
    }
   },
   "cell_type": "code",
   "source": [
    "def generate_adversarial_image(self, image, image_label, step=0.5):\n",
    "    \n",
    "\n"
   ],
   "id": "be39a31b1f6959bd",
   "outputs": [
    {
     "name": "stdout",
     "output_type": "stream",
     "text": [
      "1/1 [==============================] - 0s 13ms/step\n",
      "1/1 [==============================] - 0s 12ms/step\n",
      "1/1 [==============================] - 0s 12ms/step\n",
      "1/1 [==============================] - 0s 13ms/step\n",
      "1/1 [==============================] - 0s 13ms/step\n",
      "1/1 [==============================] - 0s 13ms/step\n",
      "1/1 [==============================] - 0s 12ms/step\n",
      "1/1 [==============================] - 0s 13ms/step\n",
      "1/1 [==============================] - 0s 16ms/step\n",
      "1/1 [==============================] - 0s 13ms/step\n",
      "1/1 [==============================] - 0s 13ms/step\n",
      "1/1 [==============================] - 0s 13ms/step\n",
      "1/1 [==============================] - 0s 13ms/step\n",
      "1/1 [==============================] - 0s 12ms/step\n",
      "1/1 [==============================] - 0s 13ms/step\n",
      "1/1 [==============================] - 0s 12ms/step\n",
      "1/1 [==============================] - 0s 12ms/step\n",
      "1/1 [==============================] - 0s 14ms/step\n",
      "1/1 [==============================] - 0s 13ms/step\n",
      "1/1 [==============================] - 0s 13ms/step\n"
     ]
    }
   ],
   "execution_count": 52
  },
  {
   "metadata": {
    "ExecuteTime": {
     "end_time": "2024-12-02T22:33:46.708748Z",
     "start_time": "2024-12-02T22:33:46.469681Z"
    }
   },
   "cell_type": "code",
   "source": [
    "import matplotlib.pyplot as plt\n",
    "%matplotlib inline\n",
    "\n",
    "plt.subplots(1, 2)\n",
    "plt.subplot(1, 2, 1)\n",
    "plt.imshow(image, cmap='gray')\n",
    "plt.title(f'Original Image  {Predictor.predict_single(np.expand_dims(image, 0), image_label)}')\n",
    "plt.subplot(1, 2, 2)\n",
    "plt.imshow(adv_x, cmap='gray')\n",
    "plt.title(f'Adversarial Image {Predictor.predict_single(np.expand_dims(adv_x, 0), image_label)}')\n"
   ],
   "id": "a90b6b82a75083cd",
   "outputs": [
    {
     "name": "stdout",
     "output_type": "stream",
     "text": [
      "1/1 [==============================] - 0s 13ms/step\n",
      "1/1 [==============================] - 0s 13ms/step\n"
     ]
    },
    {
     "data": {
      "text/plain": [
       "Text(0.5, 1.0, 'Adversarial Image (0, 0.9999991)')"
      ]
     },
     "execution_count": 53,
     "metadata": {},
     "output_type": "execute_result"
    },
    {
     "data": {
      "text/plain": [
       "<Figure size 640x480 with 2 Axes>"
      ],
      "image/png": "[encoded data removed]"
     },
     "metadata": {},
     "output_type": "display_data"
    }
   ],
   "execution_count": 53
  },
  {
   "metadata": {
    "ExecuteTime": {
     "end_time": "2024-12-02T22:12:46.308277Z",
     "start_time": "2024-12-02T22:12:46.300231Z"
    }
   },
   "cell_type": "code",
   "source": "",
   "id": "6a9abb9654e01926",
   "outputs": [
    {
     "data": {
      "text/plain": [
       "array([[ 1.,  1.,  1.,  1.,  1.,  1.,  1.,  1.,  1.,  1.,  1., -1., -1.,\n",
       "        -1., -1., -1.,  1.,  1., -1., -1.,  1., -1., -1.,  1.,  1.,  1.,\n",
       "         1.,  0.],\n",
       "       [ 1.,  1.,  1.,  1.,  1.,  1.,  1.,  1.,  1.,  1.,  1.,  1.,  1.,\n",
       "         1.,  1.,  1.,  1.,  1.,  1.,  1.,  1.,  1.,  1.,  1.,  1.,  1.,\n",
       "         1.,  0.],\n",
       "       [ 1., -1.,  1.,  1.,  1.,  1., -1., -1., -1.,  1.,  1.,  1.,  1.,\n",
       "         1., -1., -1., -1., -1., -1., -1., -1., -1., -1., -1., -1.,  1.,\n",
       "         1.,  1.],\n",
       "       [ 1.,  1.,  1.,  1.,  1.,  1.,  1.,  1.,  1.,  1., -1., -1., -1.,\n",
       "         1.,  1., -1., -1.,  1., -1., -1., -1., -1., -1.,  1.,  1.,  1.,\n",
       "         1.,  1.],\n",
       "       [ 1.,  1., -1.,  1., -1.,  1.,  1.,  1.,  1., -1., -1., -1.,  1.,\n",
       "         1.,  1., -1.,  1.,  1.,  1.,  1., -1., -1.,  1.,  1.,  1., -1.,\n",
       "        -1., -1.],\n",
       "       [ 1.,  1.,  1.,  1., -1.,  1.,  1., -1., -1., -1.,  1.,  1.,  1.,\n",
       "        -1., -1., -1., -1., -1.,  1.,  1., -1., -1., -1.,  1.,  1.,  1.,\n",
       "         1.,  1.],\n",
       "       [ 1.,  1., -1.,  1., -1., -1., -1.,  1.,  1., -1.,  1.,  1.,  1.,\n",
       "         1.,  1., -1., -1., -1., -1.,  1.,  1., -1., -1.,  1., -1.,  1.,\n",
       "         1., -1.],\n",
       "       [ 1., -1., -1.,  1.,  1., -1., -1.,  1., -1., -1., -1., -1.,  1.,\n",
       "         1.,  1.,  1.,  1., -1., -1., -1.,  1.,  1.,  1., -1., -1., -1.,\n",
       "         1.,  1.],\n",
       "       [ 1.,  1., -1.,  1.,  1., -1., -1., -1., -1.,  1.,  1.,  1.,  1.,\n",
       "        -1., -1., -1.,  1.,  1.,  1.,  1.,  1.,  1., -1., -1., -1.,  1.,\n",
       "         1.,  1.],\n",
       "       [ 1., -1., -1.,  1., -1., -1., -1., -1.,  1.,  1.,  1.,  1.,  1.,\n",
       "         1.,  1.,  1., -1., -1., -1.,  1.,  1.,  1., -1., -1., -1., -1.,\n",
       "         1., -1.],\n",
       "       [ 1.,  1.,  1.,  1., -1., -1.,  1.,  1.,  1., -1., -1.,  1.,  1.,\n",
       "        -1., -1., -1.,  1., -1., -1., -1., -1.,  1.,  1.,  1., -1., -1.,\n",
       "         1., -1.],\n",
       "       [ 1., -1., -1., -1., -1., -1.,  1.,  1., -1., -1.,  1.,  1., -1.,\n",
       "        -1., -1., -1., -1.,  1.,  1.,  1., -1.,  1.,  1.,  1., -1., -1.,\n",
       "         1., -1.],\n",
       "       [ 1., -1., -1., -1., -1., -1.,  1.,  1., -1., -1.,  1.,  1., -1.,\n",
       "        -1.,  1.,  1., -1., -1.,  1.,  1., -1., -1.,  1.,  1., -1., -1.,\n",
       "         1., -1.],\n",
       "       [ 1., -1., -1., -1., -1.,  1.,  1., -1., -1.,  1.,  1.,  1.,  1.,\n",
       "        -1., -1., -1., -1.,  1., -1., -1., -1., -1.,  1.,  1.,  1., -1.,\n",
       "         1.,  1.],\n",
       "       [ 1., -1., -1.,  1., -1.,  1.,  1., -1.,  1.,  1.,  1.,  1.,  1.,\n",
       "        -1., -1., -1., -1., -1., -1., -1., -1., -1.,  1.,  1., -1., -1.,\n",
       "         1.,  1.],\n",
       "       [ 1., -1., -1., -1., -1.,  1.,  1., -1.,  1.,  1.,  1., -1., -1.,\n",
       "        -1.,  1.,  1., -1., -1., -1., -1.,  1.,  1.,  1.,  1., -1., -1.,\n",
       "         1.,  1.],\n",
       "       [ 1.,  1., -1., -1., -1.,  1.,  1., -1.,  1.,  1.,  1.,  1., -1.,\n",
       "        -1.,  1.,  1.,  1.,  1.,  1., -1., -1.,  1.,  1.,  1., -1., -1.,\n",
       "         1.,  1.],\n",
       "       [ 1., -1., -1., -1.,  1.,  1.,  1., -1.,  1.,  1., -1., -1., -1.,\n",
       "        -1.,  1.,  1.,  1.,  1., -1., -1.,  1.,  1., -1., -1.,  1.,  1.,\n",
       "         1.,  1.],\n",
       "       [ 1., -1., -1.,  1.,  1.,  1.,  1., -1., -1.,  1., -1., -1., -1.,\n",
       "         1., -1., -1., -1., -1., -1.,  1.,  1.,  1., -1., -1.,  1.,  1.,\n",
       "         1.,  1.],\n",
       "       [ 1.,  1., -1., -1., -1.,  1.,  1.,  1., -1., -1., -1., -1.,  1.,\n",
       "        -1., -1., -1., -1., -1.,  1.,  1.,  1., -1., -1., -1., -1., -1.,\n",
       "         1.,  1.],\n",
       "       [ 1.,  1.,  1., -1., -1., -1., -1.,  1.,  1., -1., -1., -1.,  1.,\n",
       "        -1., -1., -1.,  1.,  1.,  1.,  1., -1., -1.,  1.,  1., -1., -1.,\n",
       "        -1.,  1.],\n",
       "       [ 1.,  1.,  1.,  1.,  1.,  1., -1., -1.,  1.,  1., -1., -1., -1.,\n",
       "         1.,  1.,  1., -1., -1., -1., -1., -1.,  1.,  1.,  1.,  1., -1.,\n",
       "         1.,  1.],\n",
       "       [ 1., -1.,  1., -1.,  1.,  1.,  1.,  1.,  1.,  1.,  1.,  1.,  1.,\n",
       "         1.,  1.,  1., -1., -1., -1., -1.,  1., -1.,  1.,  1.,  1.,  1.,\n",
       "         1.,  1.],\n",
       "       [ 1.,  1.,  1., -1., -1., -1.,  1.,  1., -1., -1.,  1.,  1.,  1.,\n",
       "        -1.,  1.,  1., -1.,  1.,  1.,  1.,  1.,  1.,  1.,  1.,  1.,  1.,\n",
       "         1.,  0.],\n",
       "       [ 1., -1., -1., -1., -1., -1., -1., -1., -1., -1., -1.,  1.,  1.,\n",
       "        -1., -1., -1., -1., -1., -1., -1., -1., -1., -1.,  1., -1.,  1.,\n",
       "         1.,  0.],\n",
       "       [ 1., -1., -1., -1., -1., -1., -1., -1., -1., -1., -1., -1., -1.,\n",
       "        -1.,  1.,  1.,  1., -1., -1.,  1., -1.,  1., -1.,  1., -1.,  1.,\n",
       "         1.,  0.],\n",
       "       [ 1.,  1.,  1.,  1.,  1.,  1.,  1.,  1., -1., -1., -1., -1., -1.,\n",
       "        -1., -1.,  1.,  1.,  1.,  1.,  1.,  1.,  1.,  1.,  1.,  1.,  1.,\n",
       "         1.,  0.],\n",
       "       [ 0.,  0.,  0.,  0.,  0., -1., -1., -1., -1., -1., -1., -1., -1.,\n",
       "        -1., -1., -1., -1., -1., -1.,  1.,  0.,  0.,  0.,  0.,  0.,  0.,\n",
       "         0.,  0.]], dtype=float32)"
      ]
     },
     "execution_count": 17,
     "metadata": {},
     "output_type": "execute_result"
    }
   ],
   "execution_count": 17
  },
  {
   "metadata": {},
   "cell_type": "code",
   "outputs": [],
   "execution_count": null,
   "source": [
    "image = np.reshape(image, model.input_shape[1:])\n",
    "x = np.array([image])\n",
    "y = np.array([image_label])\n",
    "g = gradient_of_x(x, y, self.model)\n",
    "g_npy = np.squeeze(g.numpy())\n",
    "g_sign = np.reshape(tf.sign(g_npy), self.model.input_shape[1:])\n",
    "\n",
    "image_adv = np.copy(image)  # _lava means latent variants\n",
    "image_adv += step * g_sign"
   ],
   "id": "a0050f7f9d0430c1"
  }
 ],
 "metadata": {
  "kernelspec": {
   "display_name": "Python 3",
   "language": "python",
   "name": "python3"
  },
  "language_info": {
   "codemirror_mode": {
    "name": "ipython",
    "version": 2
   },
   "file_extension": ".py",
   "mimetype": "text/x-python",
   "name": "python",
   "nbconvert_exporter": "python",
   "pygments_lexer": "ipython2",
   "version": "2.7.6"
  }
 },
 "nbformat": 4,
 "nbformat_minor": 5
}
