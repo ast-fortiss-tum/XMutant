{
 "cells": [
  {
   "cell_type": "code",
   "execution_count": 1,
   "id": "ce977989-8f59-4090-ae10-7ff08de8d0a2",
   "metadata": {},
   "outputs": [],
   "source": [
    "%matplotlib inline\n",
    "\n",
    "import matplotlib\n",
    "import numpy as np\n",
    "import matplotlib.pyplot as plt\n",
    "import os\n",
    "import pandas as pd"
   ]
  },
  {
   "cell_type": "code",
   "execution_count": 2,
   "id": "514d51c8-0bef-438c-acc9-a64734c1fded",
   "metadata": {},
   "outputs": [],
   "source": [
    "if os.getcwd().split(\"/\")[-1] != \"XMutant-MNIST\":\n",
    "    os.chdir(\"../\")\n"
   ]
  },
  {
   "cell_type": "code",
   "execution_count": null,
   "id": "353e9dfb-7815-4fa5-a3ef-d8dfdef6379f",
   "metadata": {},
   "outputs": [],
   "source": []
  },
  {
   "cell_type": "code",
   "execution_count": 3,
   "id": "35a71ee7-6f50-450d-a16f-8d2e91f6ef14",
   "metadata": {},
   "outputs": [
    {
     "name": "stderr",
     "output_type": "stream",
     "text": [
      "2024-06-12 00:05:30.954367: I tensorflow/core/util/port.cc:110] oneDNN custom operations are on. You may see slightly different numerical results due to floating-point round-off errors from different computation orders. To turn them off, set the environment variable `TF_ENABLE_ONEDNN_OPTS=0`.\n",
      "2024-06-12 00:05:30.986686: I tensorflow/core/platform/cpu_feature_guard.cc:182] This TensorFlow binary is optimized to use available CPU instructions in performance-critical operations.\n",
      "To enable the following instructions: AVX2 AVX_VNNI FMA, in other operations, rebuild TensorFlow with the appropriate compiler flags.\n",
      "2024-06-12 00:05:31.469257: W tensorflow/compiler/tf2tensorrt/utils/py_utils.cc:38] TF-TRT Warning: Could not find TensorRT\n",
      "/home/xchen/miniconda3/envs/deepjanus-pri/lib/python3.8/site-packages/tqdm/auto.py:21: TqdmWarning: IProgress not found. Please update jupyter and ipywidgets. See https://ipywidgets.readthedocs.io/en/stable/user_install.html\n",
      "  from .autonotebook import tqdm as notebook_tqdm\n",
      "2024-06-12 00:05:32.983782: E tensorflow/compiler/xla/stream_executor/cuda/cuda_driver.cc:266] failed call to cuInit: CUDA_ERROR_UNKNOWN: unknown error\n",
      "2024-06-12 00:05:32.983805: I tensorflow/compiler/xla/stream_executor/cuda/cuda_diagnostics.cc:168] retrieving CUDA diagnostic information for host: for2855lnx\n",
      "2024-06-12 00:05:32.983808: I tensorflow/compiler/xla/stream_executor/cuda/cuda_diagnostics.cc:175] hostname: for2855lnx\n",
      "2024-06-12 00:05:32.983943: I tensorflow/compiler/xla/stream_executor/cuda/cuda_diagnostics.cc:199] libcuda reported version is: 535.171.4\n",
      "2024-06-12 00:05:32.983957: I tensorflow/compiler/xla/stream_executor/cuda/cuda_diagnostics.cc:203] kernel reported version is: 535.171.4\n",
      "2024-06-12 00:05:32.983960: I tensorflow/compiler/xla/stream_executor/cuda/cuda_diagnostics.cc:309] kernel version seems to match DSO: 535.171.4\n"
     ]
    },
    {
     "name": "stdout",
     "output_type": "stream",
     "text": [
      "Loaded model from disk\n",
      " Population size 5\n",
      "1/1 [==============================] - 0s 166ms/step\n",
      "Iteration:   1, Mis-number:  0, Pop-number:  5, avg:0.9999421239, min:0.9997, max:1.0000\n",
      "1/1 [==============================] - 0s 15ms/step\n",
      "Iteration:   2, Mis-number:  0, Pop-number:  5, avg:0.9998806119, min:0.9994, max:1.0000\n",
      "1/1 [==============================] - 0s 15ms/step\n",
      "Iteration:   3, Mis-number:  0, Pop-number:  5, avg:0.9998324513, min:0.9992, max:1.0000\n",
      "1/1 [==============================] - 0s 16ms/step\n",
      "Iteration:   4, Mis-number:  0, Pop-number:  5, avg:0.9997976422, min:0.9990, max:1.0000\n",
      "1/1 [==============================] - 0s 16ms/step\n",
      "Iteration:   5, Mis-number:  0, Pop-number:  5, avg:0.9996749163, min:0.9984, max:1.0000\n",
      "1/1 [==============================] - 0s 17ms/step\n",
      "Iteration:   6, Mis-number:  0, Pop-number:  5, avg:0.9996306300, min:0.9982, max:1.0000\n",
      "1/1 [==============================] - 0s 16ms/step\n",
      "Iteration:   7, Mis-number:  0, Pop-number:  5, avg:0.9996167421, min:0.9981, max:1.0000\n",
      "1/1 [==============================] - 0s 17ms/step\n",
      "Iteration:   8, Mis-number:  0, Pop-number:  5, avg:0.9996318817, min:0.9982, max:1.0000\n",
      "1/1 [==============================] - 0s 18ms/step\n",
      "Iteration:   9, Mis-number:  0, Pop-number:  5, avg:0.9995933771, min:0.9980, max:1.0000\n",
      "1/1 [==============================] - 0s 16ms/step\n",
      "Iteration:  10, Mis-number:  0, Pop-number:  5, avg:0.9995936155, min:0.9980, max:1.0000\n",
      "MUTATION digit0 FINISHED\n",
      "REPORT GENERATED\n",
      "TIMING REPORT GENERATED\n",
      "digit 0, popsize 5, xai_method SmoothGrad\n",
      "Elapsed time: 1.4354534149169922\n",
      "{'mutation_time': 0.08005213737487793, 'mutation_number': 45, 'evaluation_number': 50, 'evaluation_time': 1.2990798950195312, 'heatmap_time': 0.7300255298614502}\n",
      "percentage of heatmap time 0.5085629171070161\n",
      " Population size 5\n",
      "1/1 [==============================] - 0s 27ms/step\n",
      "Iteration:   1, Mis-number:  0, Pop-number:  5, avg:0.9999779463, min:0.9999, max:1.0000\n",
      "1/1 [==============================] - 0s 16ms/step\n",
      "Iteration:   2, Mis-number:  0, Pop-number:  5, avg:0.9999803305, min:0.9999, max:1.0000\n",
      "1/1 [==============================] - 0s 17ms/step\n",
      "Iteration:   3, Mis-number:  0, Pop-number:  5, avg:0.9999403954, min:0.9998, max:1.0000\n",
      "1/1 [==============================] - 0s 17ms/step\n",
      "Iteration:   4, Mis-number:  0, Pop-number:  5, avg:0.9999403954, min:0.9998, max:1.0000\n",
      "1/1 [==============================] - 0s 16ms/step\n",
      "Iteration:   5, Mis-number:  0, Pop-number:  5, avg:0.9999400973, min:0.9998, max:1.0000\n",
      "1/1 [==============================] - 0s 16ms/step\n",
      "Iteration:   6, Mis-number:  0, Pop-number:  5, avg:0.9999309778, min:0.9998, max:1.0000\n",
      "1/1 [==============================] - 0s 16ms/step\n",
      "Iteration:   7, Mis-number:  0, Pop-number:  5, avg:0.9999232292, min:0.9998, max:1.0000\n",
      "1/1 [==============================] - 0s 17ms/step\n",
      "Iteration:   8, Mis-number:  0, Pop-number:  5, avg:0.9999203682, min:0.9997, max:1.0000\n",
      "1/1 [==============================] - 0s 17ms/step\n",
      "Iteration:   9, Mis-number:  0, Pop-number:  5, avg:0.9998960495, min:0.9997, max:1.0000\n",
      "1/1 [==============================] - 0s 16ms/step\n",
      "Iteration:  10, Mis-number:  0, Pop-number:  5, avg:0.9998264313, min:0.9994, max:1.0000\n",
      "MUTATION digit1 FINISHED\n",
      "REPORT GENERATED\n",
      "TIMING REPORT GENERATED\n",
      "digit 1, popsize 5, xai_method SmoothGrad\n",
      "Elapsed time: 1.263772964477539\n",
      "{'mutation_time': 0.05571794509887695, 'mutation_number': 45, 'evaluation_number': 50, 'evaluation_time': 1.1421589851379395, 'heatmap_time': 0.7201128005981445}\n",
      "percentage of heatmap time 0.5698037795976134\n",
      " Population size 5\n",
      "1/1 [==============================] - 0s 28ms/step\n",
      "Iteration:   1, Mis-number:  0, Pop-number:  5, avg:0.9997923970, min:0.9991, max:1.0000\n",
      "1/1 [==============================] - 0s 15ms/step\n",
      "Iteration:   2, Mis-number:  0, Pop-number:  5, avg:0.9995420575, min:0.9983, max:1.0000\n",
      "1/1 [==============================] - 0s 16ms/step\n",
      "Iteration:   3, Mis-number:  0, Pop-number:  5, avg:0.9995034933, min:0.9983, max:1.0000\n",
      "1/1 [==============================] - 0s 16ms/step\n",
      "Iteration:   4, Mis-number:  0, Pop-number:  5, avg:0.9993837476, min:0.9984, max:1.0000\n",
      "1/1 [==============================] - 0s 16ms/step\n",
      "Iteration:   5, Mis-number:  0, Pop-number:  5, avg:0.9996172190, min:0.9984, max:1.0000\n",
      "1/1 [==============================] - 0s 16ms/step\n",
      "Iteration:   6, Mis-number:  0, Pop-number:  5, avg:0.9996471405, min:0.9986, max:1.0000\n",
      "1/1 [==============================] - 0s 16ms/step\n",
      "Iteration:   7, Mis-number:  0, Pop-number:  5, avg:0.9996805191, min:0.9986, max:1.0000\n",
      "1/1 [==============================] - 0s 15ms/step\n",
      "Iteration:   8, Mis-number:  0, Pop-number:  5, avg:0.9995857477, min:0.9981, max:1.0000\n",
      "1/1 [==============================] - 0s 16ms/step\n",
      "Iteration:   9, Mis-number:  0, Pop-number:  5, avg:0.9994457960, min:0.9975, max:1.0000\n",
      "1/1 [==============================] - 0s 16ms/step\n",
      "Iteration:  10, Mis-number:  0, Pop-number:  5, avg:0.9994174242, min:0.9975, max:1.0000\n",
      "MUTATION digit2 FINISHED\n",
      "REPORT GENERATED\n",
      "TIMING REPORT GENERATED\n",
      "digit 2, popsize 5, xai_method SmoothGrad\n",
      "Elapsed time: 1.2655484676361084\n",
      "{'mutation_time': 0.0953671932220459, 'mutation_number': 45, 'evaluation_number': 50, 'evaluation_time': 1.11279296875, 'heatmap_time': 0.7014496326446533}\n",
      "percentage of heatmap time 0.5542592687136184\n",
      " Population size 5\n",
      "1/1 [==============================] - 0s 29ms/step\n",
      "Iteration:   1, Mis-number:  0, Pop-number:  5, avg:0.9999884367, min:1.0000, max:1.0000\n",
      "1/1 [==============================] - 0s 18ms/step\n",
      "Iteration:   2, Mis-number:  0, Pop-number:  5, avg:0.9999873042, min:1.0000, max:1.0000\n",
      "1/1 [==============================] - 0s 17ms/step\n",
      "Iteration:   3, Mis-number:  0, Pop-number:  5, avg:0.9999836087, min:0.9999, max:1.0000\n",
      "1/1 [==============================] - 0s 18ms/step\n",
      "Iteration:   4, Mis-number:  0, Pop-number:  5, avg:0.9999833107, min:0.9999, max:1.0000\n",
      "1/1 [==============================] - 0s 16ms/step\n",
      "Iteration:   5, Mis-number:  0, Pop-number:  5, avg:0.9999830127, min:0.9999, max:1.0000\n",
      "1/1 [==============================] - 0s 16ms/step\n",
      "Iteration:   6, Mis-number:  0, Pop-number:  5, avg:0.9999679327, min:0.9999, max:1.0000\n",
      "1/1 [==============================] - 0s 17ms/step\n",
      "Iteration:   7, Mis-number:  0, Pop-number:  5, avg:0.9999686480, min:0.9999, max:1.0000\n",
      "1/1 [==============================] - 0s 18ms/step\n",
      "Iteration:   8, Mis-number:  0, Pop-number:  5, avg:0.9999716878, min:0.9999, max:1.0000\n",
      "1/1 [==============================] - 0s 16ms/step\n",
      "Iteration:   9, Mis-number:  0, Pop-number:  5, avg:0.9999713898, min:0.9999, max:1.0000\n",
      "1/1 [==============================] - 0s 16ms/step\n",
      "Iteration:  10, Mis-number:  0, Pop-number:  5, avg:0.9999729395, min:0.9999, max:1.0000\n",
      "MUTATION digit3 FINISHED\n",
      "REPORT GENERATED\n",
      "TIMING REPORT GENERATED\n",
      "digit 3, popsize 5, xai_method SmoothGrad\n",
      "Elapsed time: 1.299889087677002\n",
      "{'mutation_time': 0.09863448143005371, 'mutation_number': 45, 'evaluation_number': 50, 'evaluation_time': 1.146287202835083, 'heatmap_time': 0.7170939445495605}\n",
      "percentage of heatmap time 0.5516484838658441\n",
      " Population size 5\n",
      "1/1 [==============================] - 0s 29ms/step\n",
      "Iteration:   1, Mis-number:  0, Pop-number:  5, avg:0.9999562502, min:0.9998, max:1.0000\n",
      "1/1 [==============================] - 0s 16ms/step\n",
      "Iteration:   2, Mis-number:  0, Pop-number:  5, avg:0.9999554753, min:0.9998, max:1.0000\n",
      "1/1 [==============================] - 0s 16ms/step\n",
      "Iteration:   3, Mis-number:  0, Pop-number:  5, avg:0.9999517202, min:0.9998, max:1.0000\n",
      "1/1 [==============================] - 0s 16ms/step\n",
      "Iteration:   4, Mis-number:  0, Pop-number:  5, avg:0.9999377131, min:0.9998, max:1.0000\n",
      "1/1 [==============================] - 0s 16ms/step\n",
      "Iteration:   5, Mis-number:  0, Pop-number:  5, avg:0.9999095798, min:0.9996, max:1.0000\n",
      "1/1 [==============================] - 0s 16ms/step\n",
      "Iteration:   6, Mis-number:  0, Pop-number:  5, avg:0.9999140501, min:0.9997, max:1.0000\n",
      "1/1 [==============================] - 0s 16ms/step\n",
      "Iteration:   7, Mis-number:  0, Pop-number:  5, avg:0.9998832941, min:0.9996, max:1.0000\n",
      "1/1 [==============================] - 0s 15ms/step\n",
      "Iteration:   8, Mis-number:  0, Pop-number:  5, avg:0.9918103218, min:0.9599, max:1.0000\n",
      "1/1 [==============================] - 0s 16ms/step\n",
      "Iteration:   9, Mis-number:  0, Pop-number:  5, avg:0.9551463127, min:0.7768, max:1.0000\n",
      "1/1 [==============================] - 0s 16ms/step\n",
      "Iteration:  10, Mis-number:  1, Pop-number:  4, avg:0.9993817210, min:0.9976, max:1.0000\n",
      "MUTATION digit4 FINISHED\n",
      "REPORT GENERATED\n",
      "TIMING REPORT GENERATED\n",
      "digit 4, popsize 5, xai_method SmoothGrad\n",
      "Elapsed time: 1.2864158153533936\n",
      "{'mutation_time': 0.08362817764282227, 'mutation_number': 45, 'evaluation_number': 50, 'evaluation_time': 1.145190954208374, 'heatmap_time': 0.7266221046447754}\n",
      "percentage of heatmap time 0.5648364662437971\n",
      " Population size 5\n",
      "1/1 [==============================] - 0s 27ms/step\n",
      "Iteration:   1, Mis-number:  0, Pop-number:  5, avg:0.9996263385, min:0.9981, max:1.0000\n",
      "1/1 [==============================] - 0s 15ms/step\n",
      "Iteration:   2, Mis-number:  0, Pop-number:  5, avg:0.9996527433, min:0.9983, max:1.0000\n",
      "1/1 [==============================] - 0s 16ms/step\n",
      "Iteration:   3, Mis-number:  0, Pop-number:  5, avg:0.9996305704, min:0.9982, max:1.0000\n",
      "1/1 [==============================] - 0s 16ms/step\n",
      "Iteration:   4, Mis-number:  0, Pop-number:  5, avg:0.9991815686, min:0.9959, max:1.0000\n",
      "1/1 [==============================] - 0s 16ms/step\n",
      "Iteration:   5, Mis-number:  0, Pop-number:  5, avg:0.9992941022, min:0.9965, max:1.0000\n",
      "1/1 [==============================] - 0s 16ms/step\n",
      "Iteration:   6, Mis-number:  0, Pop-number:  5, avg:0.9996935129, min:0.9985, max:1.0000\n",
      "1/1 [==============================] - 0s 16ms/step\n",
      "Iteration:   7, Mis-number:  0, Pop-number:  5, avg:0.9994074106, min:0.9971, max:1.0000\n",
      "1/1 [==============================] - 0s 18ms/step\n",
      "Iteration:   8, Mis-number:  0, Pop-number:  5, avg:0.9993942380, min:0.9970, max:1.0000\n",
      "1/1 [==============================] - 0s 17ms/step\n",
      "Iteration:   9, Mis-number:  0, Pop-number:  5, avg:0.9995462298, min:0.9977, max:1.0000\n",
      "1/1 [==============================] - 0s 15ms/step\n",
      "Iteration:  10, Mis-number:  0, Pop-number:  5, avg:0.9995357394, min:0.9980, max:1.0000\n",
      "MUTATION digit5 FINISHED\n",
      "REPORT GENERATED\n",
      "TIMING REPORT GENERATED\n",
      "digit 5, popsize 5, xai_method SmoothGrad\n",
      "Elapsed time: 1.3634321689605713\n",
      "{'mutation_time': 0.0973825454711914, 'mutation_number': 45, 'evaluation_number': 50, 'evaluation_time': 1.2026474475860596, 'heatmap_time': 0.7896602153778076}\n",
      "percentage of heatmap time 0.5791630863237721\n",
      " Population size 5\n",
      "1/1 [==============================] - 0s 29ms/step\n",
      "Iteration:   1, Mis-number:  0, Pop-number:  5, avg:0.9999993443, min:1.0000, max:1.0000\n",
      "1/1 [==============================] - 0s 21ms/step\n",
      "Iteration:   2, Mis-number:  0, Pop-number:  5, avg:0.9999992251, min:1.0000, max:1.0000\n",
      "1/1 [==============================] - 0s 17ms/step\n",
      "Iteration:   3, Mis-number:  0, Pop-number:  5, avg:0.9999992251, min:1.0000, max:1.0000\n",
      "1/1 [==============================] - 0s 19ms/step\n",
      "Iteration:   4, Mis-number:  0, Pop-number:  5, avg:0.9999989271, min:1.0000, max:1.0000\n",
      "1/1 [==============================] - 0s 16ms/step\n",
      "Iteration:   5, Mis-number:  0, Pop-number:  5, avg:0.9999979138, min:1.0000, max:1.0000\n",
      "1/1 [==============================] - 0s 16ms/step\n",
      "Iteration:   6, Mis-number:  0, Pop-number:  5, avg:0.9999979138, min:1.0000, max:1.0000\n",
      "1/1 [==============================] - 0s 16ms/step\n",
      "Iteration:   7, Mis-number:  0, Pop-number:  5, avg:0.9999539256, min:0.9998, max:1.0000\n",
      "1/1 [==============================] - 0s 16ms/step\n",
      "Iteration:   8, Mis-number:  0, Pop-number:  5, avg:0.9999529719, min:0.9998, max:1.0000\n",
      "1/1 [==============================] - 0s 16ms/step\n",
      "Iteration:   9, Mis-number:  0, Pop-number:  5, avg:0.9999205470, min:0.9996, max:1.0000\n",
      "1/1 [==============================] - 0s 18ms/step\n",
      "Iteration:  10, Mis-number:  0, Pop-number:  5, avg:0.9999464750, min:0.9997, max:1.0000\n",
      "MUTATION digit6 FINISHED\n",
      "REPORT GENERATED\n",
      "TIMING REPORT GENERATED\n",
      "digit 6, popsize 5, xai_method SmoothGrad\n",
      "Elapsed time: 1.3079438209533691\n",
      "{'mutation_time': 0.08415913581848145, 'mutation_number': 45, 'evaluation_number': 50, 'evaluation_time': 1.1695342063903809, 'heatmap_time': 0.7336537837982178}\n",
      "percentage of heatmap time 0.5609143227541312\n",
      " Population size 5\n",
      "1/1 [==============================] - 0s 29ms/step\n",
      "Iteration:   1, Mis-number:  0, Pop-number:  5, avg:0.9999987483, min:1.0000, max:1.0000\n",
      "1/1 [==============================] - 0s 16ms/step\n",
      "Iteration:   2, Mis-number:  0, Pop-number:  5, avg:0.9999984503, min:1.0000, max:1.0000\n",
      "1/1 [==============================] - 0s 16ms/step\n",
      "Iteration:   3, Mis-number:  0, Pop-number:  5, avg:0.9999976158, min:1.0000, max:1.0000\n",
      "1/1 [==============================] - 0s 14ms/step\n",
      "Iteration:   4, Mis-number:  0, Pop-number:  5, avg:0.9999920726, min:1.0000, max:1.0000\n",
      "1/1 [==============================] - 0s 15ms/step\n",
      "Iteration:   5, Mis-number:  0, Pop-number:  5, avg:0.9999917150, min:1.0000, max:1.0000\n",
      "1/1 [==============================] - 0s 15ms/step\n",
      "Iteration:   6, Mis-number:  0, Pop-number:  5, avg:0.9999880791, min:0.9999, max:1.0000\n",
      "1/1 [==============================] - 0s 15ms/step\n",
      "Iteration:   7, Mis-number:  0, Pop-number:  5, avg:0.9999743700, min:0.9999, max:1.0000\n",
      "1/1 [==============================] - 0s 15ms/step\n",
      "Iteration:   8, Mis-number:  0, Pop-number:  5, avg:0.9999723434, min:0.9999, max:1.0000\n",
      "1/1 [==============================] - 0s 16ms/step\n",
      "Iteration:   9, Mis-number:  0, Pop-number:  5, avg:0.9999299049, min:0.9997, max:1.0000\n",
      "1/1 [==============================] - 0s 19ms/step\n",
      "Iteration:  10, Mis-number:  0, Pop-number:  5, avg:0.9999195337, min:0.9996, max:1.0000\n",
      "MUTATION digit7 FINISHED\n",
      "REPORT GENERATED\n",
      "TIMING REPORT GENERATED\n",
      "digit 7, popsize 5, xai_method SmoothGrad\n",
      "Elapsed time: 1.3148548603057861\n",
      "{'mutation_time': 0.08023285865783691, 'mutation_number': 45, 'evaluation_number': 50, 'evaluation_time': 1.1768808364868164, 'heatmap_time': 0.7420549392700195}\n",
      "percentage of heatmap time 0.5643559724574911\n",
      " Population size 5\n",
      "1/1 [==============================] - 0s 33ms/step\n",
      "Iteration:   1, Mis-number:  0, Pop-number:  5, avg:0.9998027682, min:0.9990, max:1.0000\n",
      "1/1 [==============================] - 0s 41ms/step\n",
      "Iteration:   2, Mis-number:  0, Pop-number:  5, avg:0.9998060465, min:0.9990, max:1.0000\n",
      "1/1 [==============================] - 0s 32ms/step\n",
      "Iteration:   3, Mis-number:  0, Pop-number:  5, avg:0.9998158216, min:0.9991, max:1.0000\n",
      "1/1 [==============================] - 0s 25ms/step\n",
      "Iteration:   4, Mis-number:  0, Pop-number:  5, avg:0.9998208880, min:0.9991, max:1.0000\n",
      "1/1 [==============================] - 0s 22ms/step\n",
      "Iteration:   5, Mis-number:  0, Pop-number:  5, avg:0.9998240471, min:0.9991, max:1.0000\n",
      "1/1 [==============================] - 0s 21ms/step\n",
      "Iteration:   6, Mis-number:  0, Pop-number:  5, avg:0.9998174906, min:0.9991, max:1.0000\n",
      "1/1 [==============================] - 0s 21ms/step\n",
      "Iteration:   7, Mis-number:  0, Pop-number:  5, avg:0.9998184443, min:0.9991, max:1.0000\n",
      "1/1 [==============================] - 0s 18ms/step\n",
      "Iteration:   8, Mis-number:  0, Pop-number:  5, avg:0.9997987747, min:0.9990, max:1.0000\n",
      "1/1 [==============================] - 0s 19ms/step\n",
      "Iteration:   9, Mis-number:  0, Pop-number:  5, avg:0.9998068810, min:0.9990, max:1.0000\n",
      "1/1 [==============================] - 0s 19ms/step\n",
      "Iteration:  10, Mis-number:  0, Pop-number:  5, avg:0.9997865558, min:0.9989, max:1.0000\n",
      "MUTATION digit8 FINISHED\n",
      "REPORT GENERATED\n",
      "TIMING REPORT GENERATED\n",
      "digit 8, popsize 5, xai_method SmoothGrad\n",
      "Elapsed time: 1.9420480728149414\n",
      "{'mutation_time': 0.15515518188476562, 'mutation_number': 45, 'evaluation_number': 50, 'evaluation_time': 1.7258026599884033, 'heatmap_time': 1.1165127754211426}\n",
      "percentage of heatmap time 0.5749081195471589\n",
      " Population size 5\n",
      "1/1 [==============================] - 0s 29ms/step\n",
      "Iteration:   1, Mis-number:  1, Pop-number:  4, avg:0.9997977018, min:0.9996, max:1.0000\n",
      "1/1 [==============================] - 0s 16ms/step\n",
      "Iteration:   2, Mis-number:  1, Pop-number:  4, avg:0.9997334480, min:0.9994, max:1.0000\n",
      "1/1 [==============================] - 0s 16ms/step\n",
      "Iteration:   3, Mis-number:  1, Pop-number:  4, avg:0.9996082783, min:0.9992, max:1.0000\n",
      "1/1 [==============================] - 0s 16ms/step\n",
      "Iteration:   4, Mis-number:  1, Pop-number:  4, avg:0.9988648891, min:0.9961, max:1.0000\n",
      "1/1 [==============================] - 0s 17ms/step\n",
      "Iteration:   5, Mis-number:  1, Pop-number:  4, avg:0.9988512993, min:0.9956, max:1.0000\n",
      "1/1 [==============================] - 0s 17ms/step\n",
      "Iteration:   6, Mis-number:  1, Pop-number:  4, avg:0.9993955493, min:0.9977, max:1.0000\n",
      "1/1 [==============================] - 0s 17ms/step\n",
      "Iteration:   7, Mis-number:  1, Pop-number:  4, avg:0.9993785024, min:0.9976, max:1.0000\n",
      "1/1 [==============================] - 0s 15ms/step\n",
      "Iteration:   8, Mis-number:  1, Pop-number:  4, avg:0.9995309711, min:0.9982, max:1.0000\n",
      "1/1 [==============================] - 0s 16ms/step\n",
      "Iteration:   9, Mis-number:  1, Pop-number:  4, avg:0.9949083328, min:0.9797, max:1.0000\n",
      "1/1 [==============================] - 0s 15ms/step\n",
      "Iteration:  10, Mis-number:  1, Pop-number:  4, avg:0.9927616119, min:0.9711, max:1.0000\n",
      "MUTATION digit9 FINISHED\n",
      "REPORT GENERATED\n",
      "TIMING REPORT GENERATED\n",
      "digit 9, popsize 5, xai_method SmoothGrad\n",
      "Elapsed time: 1.2783582210540771\n",
      "{'mutation_time': 0.06936335563659668, 'mutation_number': 36, 'evaluation_number': 41, 'evaluation_time': 1.148902416229248, 'heatmap_time': 0.718498706817627}\n",
      "percentage of heatmap time 0.5620418353108106\n"
     ]
    }
   ],
   "source": [
    "from main import *\n",
    "\n",
    "for digit in range(10): # range(10):\n",
    "    set_all_seeds(digit)\n",
    "    main(num=digit, popsize=5, xai_method=\"SmoothGrad\", enable_timer=True)"
   ]
  },
  {
   "cell_type": "code",
   "execution_count": 4,
   "id": "b534048b-32ef-4ecf-ae07-658ee0781b13",
   "metadata": {},
   "outputs": [
    {
     "name": "stdout",
     "output_type": "stream",
     "text": [
      " Population size 10\n",
      "1/1 [==============================] - 0s 31ms/step\n",
      "Iteration:   1, Mis-number:  0, Pop-number: 10, avg:0.9999710321, min:0.9997, max:1.0000\n",
      "1/1 [==============================] - 0s 18ms/step\n",
      "Iteration:   2, Mis-number:  0, Pop-number: 10, avg:0.9999610782, min:0.9996, max:1.0000\n",
      "1/1 [==============================] - 0s 18ms/step\n",
      "Iteration:   3, Mis-number:  0, Pop-number: 10, avg:0.9999588728, min:0.9996, max:1.0000\n",
      "1/1 [==============================] - 0s 19ms/step\n",
      "Iteration:   4, Mis-number:  0, Pop-number: 10, avg:0.9999537468, min:0.9995, max:1.0000\n",
      "1/1 [==============================] - 0s 18ms/step\n",
      "Iteration:   5, Mis-number:  0, Pop-number: 10, avg:0.9999498129, min:0.9995, max:1.0000\n",
      "1/1 [==============================] - 0s 18ms/step\n",
      "Iteration:   6, Mis-number:  0, Pop-number: 10, avg:0.9999356270, min:0.9994, max:1.0000\n",
      "1/1 [==============================] - 0s 17ms/step\n",
      "Iteration:   7, Mis-number:  0, Pop-number: 10, avg:0.9999240637, min:0.9992, max:1.0000\n",
      "1/1 [==============================] - 0s 16ms/step\n",
      "Iteration:   8, Mis-number:  0, Pop-number: 10, avg:0.9999191165, min:0.9992, max:1.0000\n",
      "1/1 [==============================] - 0s 17ms/step\n",
      "Iteration:   9, Mis-number:  0, Pop-number: 10, avg:0.9999028444, min:0.9992, max:1.0000\n",
      "1/1 [==============================] - 0s 16ms/step\n",
      "Iteration:  10, Mis-number:  0, Pop-number: 10, avg:0.9999012947, min:0.9992, max:1.0000\n",
      "MUTATION digit0 FINISHED\n",
      "REPORT GENERATED\n",
      "TIMING REPORT GENERATED\n",
      "digit 0, popsize 10, xai_method GradCAM++\n",
      "Elapsed time: 1.4045069217681885\n",
      "{'mutation_time': 0.16326189041137695, 'mutation_number': 90, 'evaluation_number': 100, 'evaluation_time': 1.1828806400299072, 'heatmap_time': 0.7312884330749512}\n",
      "percentage of heatmap time 0.5206673241679243\n",
      " Population size 10\n",
      "1/1 [==============================] - 0s 28ms/step\n",
      "Iteration:   1, Mis-number:  0, Pop-number: 10, avg:0.9999554753, min:0.9997, max:1.0000\n",
      "1/1 [==============================] - 0s 16ms/step\n",
      "Iteration:   2, Mis-number:  0, Pop-number: 10, avg:0.9999181032, min:0.9993, max:1.0000\n",
      "1/1 [==============================] - 0s 16ms/step\n",
      "Iteration:   3, Mis-number:  0, Pop-number: 10, avg:0.9998985529, min:0.9991, max:1.0000\n",
      "1/1 [==============================] - 0s 17ms/step\n",
      "Iteration:   4, Mis-number:  0, Pop-number: 10, avg:0.9998919368, min:0.9991, max:1.0000\n",
      "1/1 [==============================] - 0s 18ms/step\n",
      "Iteration:   5, Mis-number:  0, Pop-number: 10, avg:0.9998511076, min:0.9989, max:1.0000\n",
      "1/1 [==============================] - 0s 17ms/step\n",
      "Iteration:   6, Mis-number:  0, Pop-number: 10, avg:0.9998248219, min:0.9989, max:1.0000\n",
      "1/1 [==============================] - 0s 17ms/step\n",
      "Iteration:   7, Mis-number:  0, Pop-number: 10, avg:0.9998426437, min:0.9992, max:1.0000\n",
      "1/1 [==============================] - 0s 17ms/step\n",
      "Iteration:   8, Mis-number:  0, Pop-number: 10, avg:0.9990175366, min:0.9949, max:1.0000\n",
      "1/1 [==============================] - 0s 17ms/step\n",
      "Iteration:   9, Mis-number:  0, Pop-number: 10, avg:0.9943751097, min:0.9575, max:1.0000\n",
      "1/1 [==============================] - 0s 16ms/step\n",
      "Iteration:  10, Mis-number:  0, Pop-number: 10, avg:0.9975468516, min:0.9805, max:1.0000\n",
      "MUTATION digit1 FINISHED\n",
      "REPORT GENERATED\n",
      "TIMING REPORT GENERATED\n",
      "digit 1, popsize 10, xai_method GradCAM++\n",
      "Elapsed time: 1.3121063709259033\n",
      "{'mutation_time': 0.10799121856689453, 'mutation_number': 90, 'evaluation_number': 100, 'evaluation_time': 1.1493136882781982, 'heatmap_time': 0.7007424831390381}\n",
      "percentage of heatmap time 0.5340529927025602\n",
      " Population size 10\n",
      "1/1 [==============================] - 0s 29ms/step\n",
      "Iteration:   1, Mis-number:  1, Pop-number:  9, avg:0.9998767376, min:0.9991, max:1.0000\n",
      "1/1 [==============================] - 0s 16ms/step\n",
      "Iteration:   2, Mis-number:  1, Pop-number:  9, avg:0.9998923540, min:0.9993, max:1.0000\n",
      "1/1 [==============================] - 0s 16ms/step\n",
      "Iteration:   3, Mis-number:  1, Pop-number:  9, avg:0.9998987913, min:0.9993, max:1.0000\n",
      "1/1 [==============================] - 0s 16ms/step\n",
      "Iteration:   4, Mis-number:  1, Pop-number:  9, avg:0.9999144673, min:0.9994, max:1.0000\n",
      "1/1 [==============================] - 0s 17ms/step\n",
      "Iteration:   5, Mis-number:  1, Pop-number:  9, avg:0.9999023080, min:0.9993, max:1.0000\n",
      "1/1 [==============================] - 0s 18ms/step\n",
      "Iteration:   6, Mis-number:  1, Pop-number:  9, avg:0.9998711348, min:0.9990, max:1.0000\n",
      "1/1 [==============================] - 0s 18ms/step\n",
      "Iteration:   7, Mis-number:  1, Pop-number:  9, avg:0.9999332428, min:0.9996, max:1.0000\n",
      "1/1 [==============================] - 0s 17ms/step\n",
      "Iteration:   8, Mis-number:  1, Pop-number:  9, avg:0.9998991489, min:0.9993, max:1.0000\n",
      "1/1 [==============================] - 0s 17ms/step\n",
      "Iteration:   9, Mis-number:  1, Pop-number:  9, avg:0.9998833537, min:0.9992, max:1.0000\n",
      "1/1 [==============================] - 0s 16ms/step\n",
      "Iteration:  10, Mis-number:  1, Pop-number:  9, avg:0.9995945692, min:0.9966, max:1.0000\n",
      "MUTATION digit2 FINISHED\n",
      "REPORT GENERATED\n",
      "TIMING REPORT GENERATED\n",
      "digit 2, popsize 10, xai_method GradCAM++\n",
      "Elapsed time: 1.3531568050384521\n",
      "{'mutation_time': 0.16211414337158203, 'mutation_number': 81, 'evaluation_number': 91, 'evaluation_time': 1.1346087455749512, 'heatmap_time': 0.680978536605835}\n",
      "percentage of heatmap time 0.5032463459447193\n",
      " Population size 10\n",
      "1/1 [==============================] - 0s 28ms/step\n",
      "Iteration:   1, Mis-number:  0, Pop-number: 10, avg:0.9999405742, min:0.9995, max:1.0000\n",
      "1/1 [==============================] - 0s 15ms/step\n",
      "Iteration:   2, Mis-number:  0, Pop-number: 10, avg:0.9999403954, min:0.9995, max:1.0000\n",
      "1/1 [==============================] - 0s 17ms/step\n",
      "Iteration:   3, Mis-number:  0, Pop-number: 10, avg:0.9999293089, min:0.9994, max:1.0000\n",
      "1/1 [==============================] - 0s 16ms/step\n",
      "Iteration:   4, Mis-number:  0, Pop-number: 10, avg:0.9999358058, min:0.9994, max:1.0000\n",
      "1/1 [==============================] - 0s 16ms/step\n",
      "Iteration:   5, Mis-number:  0, Pop-number: 10, avg:0.9999329448, min:0.9994, max:1.0000\n",
      "1/1 [==============================] - 0s 17ms/step\n",
      "Iteration:   6, Mis-number:  0, Pop-number: 10, avg:0.9999464750, min:0.9996, max:1.0000\n",
      "1/1 [==============================] - 0s 17ms/step\n",
      "Iteration:   7, Mis-number:  0, Pop-number: 10, avg:0.9999440908, min:0.9996, max:1.0000\n",
      "1/1 [==============================] - 0s 17ms/step\n",
      "Iteration:   8, Mis-number:  0, Pop-number: 10, avg:0.9999448061, min:0.9996, max:1.0000\n",
      "1/1 [==============================] - 0s 18ms/step\n",
      "Iteration:   9, Mis-number:  0, Pop-number: 10, avg:0.9999445081, min:0.9997, max:1.0000\n",
      "1/1 [==============================] - 0s 17ms/step\n",
      "Iteration:  10, Mis-number:  0, Pop-number: 10, avg:0.9999442101, min:0.9996, max:1.0000\n",
      "MUTATION digit3 FINISHED\n",
      "REPORT GENERATED\n",
      "TIMING REPORT GENERATED\n",
      "digit 3, popsize 10, xai_method GradCAM++\n",
      "Elapsed time: 1.372363567352295\n",
      "{'mutation_time': 0.19739103317260742, 'mutation_number': 90, 'evaluation_number': 100, 'evaluation_time': 1.1124553680419922, 'heatmap_time': 0.6786155700683594}\n",
      "percentage of heatmap time 0.4944753886302904\n",
      " Population size 10\n",
      "1/1 [==============================] - 0s 30ms/step\n",
      "Iteration:   1, Mis-number:  0, Pop-number: 10, avg:0.9992232323, min:0.9925, max:1.0000\n",
      "1/1 [==============================] - 0s 18ms/step\n",
      "Iteration:   2, Mis-number:  0, Pop-number: 10, avg:0.9993709326, min:0.9940, max:1.0000\n",
      "1/1 [==============================] - 0s 16ms/step\n",
      "Iteration:   3, Mis-number:  0, Pop-number: 10, avg:0.9996587038, min:0.9969, max:1.0000\n",
      "1/1 [==============================] - 0s 16ms/step\n",
      "Iteration:   4, Mis-number:  0, Pop-number: 10, avg:0.9998859167, min:0.9993, max:1.0000\n",
      "1/1 [==============================] - 0s 16ms/step\n",
      "Iteration:   5, Mis-number:  0, Pop-number: 10, avg:0.9998696446, min:0.9994, max:1.0000\n",
      "1/1 [==============================] - 0s 23ms/step\n",
      "Iteration:   6, Mis-number:  0, Pop-number: 10, avg:0.9998329282, min:0.9992, max:1.0000\n",
      "1/1 [==============================] - 0s 17ms/step\n",
      "Iteration:   7, Mis-number:  0, Pop-number: 10, avg:0.9998118281, min:0.9991, max:1.0000\n",
      "1/1 [==============================] - 0s 16ms/step\n",
      "Iteration:   8, Mis-number:  0, Pop-number: 10, avg:0.9995641708, min:0.9967, max:1.0000\n",
      "1/1 [==============================] - 0s 16ms/step\n",
      "Iteration:   9, Mis-number:  0, Pop-number: 10, avg:0.9996103048, min:0.9968, max:1.0000\n",
      "1/1 [==============================] - 0s 17ms/step\n",
      "Iteration:  10, Mis-number:  0, Pop-number: 10, avg:0.9996032715, min:0.9968, max:1.0000\n",
      "MUTATION digit4 FINISHED\n",
      "REPORT GENERATED\n",
      "TIMING REPORT GENERATED\n",
      "digit 4, popsize 10, xai_method GradCAM++\n",
      "Elapsed time: 1.4642469882965088\n",
      "{'mutation_time': 0.18763208389282227, 'mutation_number': 90, 'evaluation_number': 100, 'evaluation_time': 1.2076740264892578, 'heatmap_time': 0.764690637588501}\n",
      "percentage of heatmap time 0.5222358669550623\n",
      " Population size 10\n",
      "1/1 [==============================] - 0s 29ms/step\n",
      "Iteration:   1, Mis-number:  0, Pop-number: 10, avg:0.9997908473, min:0.9981, max:1.0000\n",
      "1/1 [==============================] - 0s 16ms/step\n",
      "Iteration:   2, Mis-number:  0, Pop-number: 10, avg:0.9996315241, min:0.9976, max:1.0000\n",
      "1/1 [==============================] - 0s 16ms/step\n",
      "Iteration:   3, Mis-number:  0, Pop-number: 10, avg:0.9995124936, min:0.9975, max:1.0000\n",
      "1/1 [==============================] - 0s 17ms/step\n",
      "Iteration:   4, Mis-number:  0, Pop-number: 10, avg:0.9994356036, min:0.9971, max:1.0000\n",
      "1/1 [==============================] - 0s 17ms/step\n",
      "Iteration:   5, Mis-number:  0, Pop-number: 10, avg:0.9994469881, min:0.9972, max:1.0000\n",
      "1/1 [==============================] - 0s 17ms/step\n",
      "Iteration:   6, Mis-number:  0, Pop-number: 10, avg:0.9996263385, min:0.9976, max:1.0000\n",
      "1/1 [==============================] - 0s 18ms/step\n",
      "Iteration:   7, Mis-number:  0, Pop-number: 10, avg:0.9996215701, min:0.9977, max:1.0000\n",
      "1/1 [==============================] - 0s 16ms/step\n",
      "Iteration:   8, Mis-number:  0, Pop-number: 10, avg:0.9995142817, min:0.9974, max:1.0000\n",
      "1/1 [==============================] - 0s 15ms/step\n",
      "Iteration:   9, Mis-number:  0, Pop-number: 10, avg:0.9994915128, min:0.9973, max:1.0000\n",
      "1/1 [==============================] - 0s 16ms/step\n",
      "Iteration:  10, Mis-number:  0, Pop-number: 10, avg:0.9993836284, min:0.9964, max:1.0000\n",
      "MUTATION digit5 FINISHED\n",
      "REPORT GENERATED\n",
      "TIMING REPORT GENERATED\n",
      "digit 5, popsize 10, xai_method GradCAM++\n",
      "Elapsed time: 1.4144744873046875\n",
      "{'mutation_time': 0.18031644821166992, 'mutation_number': 90, 'evaluation_number': 100, 'evaluation_time': 1.1809542179107666, 'heatmap_time': 0.7381551265716553}\n",
      "percentage of heatmap time 0.5218533739010863\n",
      " Population size 10\n",
      "1/1 [==============================] - 0s 31ms/step\n",
      "Iteration:   1, Mis-number:  0, Pop-number: 10, avg:0.9998755455, min:0.9988, max:1.0000\n",
      "1/1 [==============================] - 0s 18ms/step\n",
      "Iteration:   2, Mis-number:  0, Pop-number: 10, avg:0.9998585582, min:0.9988, max:1.0000\n",
      "1/1 [==============================] - 0s 17ms/step\n",
      "Iteration:   3, Mis-number:  0, Pop-number: 10, avg:0.9998500943, min:0.9987, max:1.0000\n",
      "1/1 [==============================] - 0s 21ms/step\n",
      "Iteration:   4, Mis-number:  0, Pop-number: 10, avg:0.9998310804, min:0.9985, max:1.0000\n",
      "1/1 [==============================] - 0s 20ms/step\n",
      "Iteration:   5, Mis-number:  0, Pop-number: 10, avg:0.9960959554, min:0.9625, max:1.0000\n",
      "1/1 [==============================] - 0s 16ms/step\n",
      "Iteration:   6, Mis-number:  0, Pop-number: 10, avg:0.9959191084, min:0.9600, max:1.0000\n",
      "1/1 [==============================] - 0s 17ms/step\n",
      "Iteration:   7, Mis-number:  0, Pop-number: 10, avg:0.9949393272, min:0.9508, max:1.0000\n",
      "1/1 [==============================] - 0s 17ms/step\n",
      "Iteration:   8, Mis-number:  0, Pop-number: 10, avg:0.9942879677, min:0.9443, max:1.0000\n",
      "1/1 [==============================] - 0s 16ms/step\n",
      "Iteration:   9, Mis-number:  0, Pop-number: 10, avg:0.9946311116, min:0.9477, max:1.0000\n",
      "1/1 [==============================] - 0s 16ms/step\n",
      "Iteration:  10, Mis-number:  0, Pop-number: 10, avg:0.9894145131, min:0.8956, max:1.0000\n",
      "MUTATION digit6 FINISHED\n",
      "REPORT GENERATED\n",
      "TIMING REPORT GENERATED\n",
      "digit 6, popsize 10, xai_method GradCAM++\n",
      "Elapsed time: 1.3818838596343994\n",
      "{'mutation_time': 0.15829181671142578, 'mutation_number': 90, 'evaluation_number': 100, 'evaluation_time': 1.1741695404052734, 'heatmap_time': 0.705949068069458}\n",
      "percentage of heatmap time 0.5108523329457757\n",
      " Population size 10\n",
      "1/1 [==============================] - 0s 29ms/step\n",
      "Iteration:   1, Mis-number:  0, Pop-number: 10, avg:0.9999687076, min:0.9997, max:1.0000\n",
      "1/1 [==============================] - 0s 19ms/step\n",
      "Iteration:   2, Mis-number:  0, Pop-number: 10, avg:0.9999596477, min:0.9996, max:1.0000\n",
      "1/1 [==============================] - 0s 21ms/step\n",
      "Iteration:   3, Mis-number:  0, Pop-number: 10, avg:0.9999510050, min:0.9995, max:1.0000\n",
      "1/1 [==============================] - 0s 16ms/step\n",
      "Iteration:   4, Mis-number:  0, Pop-number: 10, avg:0.9999497533, min:0.9995, max:1.0000\n",
      "1/1 [==============================] - 0s 16ms/step\n",
      "Iteration:   5, Mis-number:  0, Pop-number: 10, avg:0.9999471903, min:0.9995, max:1.0000\n",
      "1/1 [==============================] - 0s 16ms/step\n",
      "Iteration:   6, Mis-number:  0, Pop-number: 10, avg:0.9999601245, min:0.9997, max:1.0000\n",
      "1/1 [==============================] - 0s 16ms/step\n",
      "Iteration:   7, Mis-number:  0, Pop-number: 10, avg:0.9999755025, min:0.9998, max:1.0000\n",
      "1/1 [==============================] - 0s 16ms/step\n",
      "Iteration:   8, Mis-number:  0, Pop-number: 10, avg:0.9999801517, min:0.9998, max:1.0000\n",
      "1/1 [==============================] - 0s 17ms/step\n",
      "Iteration:   9, Mis-number:  0, Pop-number: 10, avg:0.9999806285, min:0.9999, max:1.0000\n",
      "1/1 [==============================] - 0s 17ms/step\n",
      "Iteration:  10, Mis-number:  0, Pop-number: 10, avg:0.9999650717, min:0.9997, max:1.0000\n",
      "MUTATION digit7 FINISHED\n",
      "REPORT GENERATED\n",
      "TIMING REPORT GENERATED\n",
      "digit 7, popsize 10, xai_method GradCAM++\n",
      "Elapsed time: 1.322401523590088\n",
      "{'mutation_time': 0.13716387748718262, 'mutation_number': 90, 'evaluation_number': 100, 'evaluation_time': 1.129373550415039, 'heatmap_time': 0.679354190826416}\n",
      "percentage of heatmap time 0.51372197277078\n",
      " Population size 10\n",
      "1/1 [==============================] - 0s 30ms/step\n",
      "Iteration:   1, Mis-number:  0, Pop-number: 10, avg:0.9987934232, min:0.9890, max:1.0000\n",
      "1/1 [==============================] - 0s 17ms/step\n",
      "Iteration:   2, Mis-number:  0, Pop-number: 10, avg:0.9987596273, min:0.9890, max:1.0000\n",
      "1/1 [==============================] - 0s 17ms/step\n",
      "Iteration:   3, Mis-number:  0, Pop-number: 10, avg:0.9990102053, min:0.9917, max:1.0000\n",
      "1/1 [==============================] - 0s 20ms/step\n",
      "Iteration:   4, Mis-number:  0, Pop-number: 10, avg:0.9989363551, min:0.9906, max:1.0000\n",
      "1/1 [==============================] - 0s 18ms/step\n",
      "Iteration:   5, Mis-number:  0, Pop-number: 10, avg:0.9989293814, min:0.9905, max:1.0000\n",
      "1/1 [==============================] - 0s 21ms/step\n",
      "Iteration:   6, Mis-number:  0, Pop-number: 10, avg:0.9988924861, min:0.9902, max:1.0000\n",
      "1/1 [==============================] - 0s 32ms/step\n",
      "Iteration:   7, Mis-number:  0, Pop-number: 10, avg:0.9989822507, min:0.9910, max:1.0000\n",
      "1/1 [==============================] - 0s 32ms/step\n",
      "Iteration:   8, Mis-number:  0, Pop-number: 10, avg:0.9984552264, min:0.9855, max:1.0000\n",
      "1/1 [==============================] - 0s 27ms/step\n",
      "Iteration:   9, Mis-number:  0, Pop-number: 10, avg:0.9983696938, min:0.9845, max:1.0000\n",
      "1/1 [==============================] - 0s 32ms/step\n",
      "Iteration:  10, Mis-number:  0, Pop-number: 10, avg:0.9979059100, min:0.9798, max:1.0000\n",
      "MUTATION digit8 FINISHED\n",
      "REPORT GENERATED\n",
      "TIMING REPORT GENERATED\n",
      "digit 8, popsize 10, xai_method GradCAM++\n",
      "Elapsed time: 1.98146653175354\n",
      "{'mutation_time': 0.3148384094238281, 'mutation_number': 90, 'evaluation_number': 100, 'evaluation_time': 1.6071562767028809, 'heatmap_time': 0.9942324161529541}\n",
      "percentage of heatmap time 0.5017580306783633\n",
      " Population size 10\n",
      "1/1 [==============================] - 0s 36ms/step\n",
      "Iteration:   1, Mis-number:  1, Pop-number:  9, avg:0.9849873781, min:0.8674, max:1.0000\n",
      "1/1 [==============================] - 0s 19ms/step\n",
      "Iteration:   2, Mis-number:  1, Pop-number:  9, avg:0.9752563834, min:0.7800, max:1.0000\n",
      "1/1 [==============================] - 0s 18ms/step\n",
      "Iteration:   3, Mis-number:  1, Pop-number:  9, avg:0.9890031815, min:0.9039, max:1.0000\n",
      "1/1 [==============================] - 0s 17ms/step\n",
      "Iteration:   4, Mis-number:  1, Pop-number:  9, avg:0.9878668189, min:0.8945, max:1.0000\n",
      "1/1 [==============================] - 0s 17ms/step\n",
      "Iteration:   5, Mis-number:  1, Pop-number:  9, avg:0.9837910533, min:0.8577, max:1.0000\n",
      "1/1 [==============================] - 0s 17ms/step\n",
      "Iteration:   6, Mis-number:  1, Pop-number:  9, avg:0.9842894673, min:0.8611, max:1.0000\n",
      "1/1 [==============================] - 0s 17ms/step\n",
      "Iteration:   7, Mis-number:  1, Pop-number:  9, avg:0.9801139832, min:0.8253, max:1.0000\n",
      "1/1 [==============================] - 0s 18ms/step\n",
      "Iteration:   8, Mis-number:  1, Pop-number:  9, avg:0.9823940992, min:0.8464, max:1.0000\n",
      "1/1 [==============================] - 0s 16ms/step\n",
      "Iteration:   9, Mis-number:  1, Pop-number:  9, avg:0.9826381207, min:0.8627, max:1.0000\n",
      "1/1 [==============================] - 0s 15ms/step\n",
      "Iteration:  10, Mis-number:  1, Pop-number:  9, avg:0.9827487469, min:0.8665, max:1.0000\n",
      "MUTATION digit9 FINISHED\n",
      "REPORT GENERATED\n",
      "TIMING REPORT GENERATED\n",
      "digit 9, popsize 10, xai_method GradCAM++\n",
      "Elapsed time: 1.500497579574585\n",
      "{'mutation_time': 0.16905951499938965, 'mutation_number': 81, 'evaluation_number': 91, 'evaluation_time': 1.2547483444213867, 'heatmap_time': 0.7939770221710205}\n",
      "percentage of heatmap time 0.5291376113611269\n"
     ]
    }
   ],
   "source": [
    "for digit in range(10): # range(10):\n",
    "    set_all_seeds(digit)\n",
    "    main(num=digit, popsize=10, xai_method=\"GradCAM++\", enable_timer=True)"
   ]
  },
  {
   "cell_type": "code",
   "execution_count": 5,
   "id": "9464c7d8-7a4e-4220-8f6b-7355055b7dde",
   "metadata": {},
   "outputs": [
    {
     "name": "stdout",
     "output_type": "stream",
     "text": [
      " Population size 10\n",
      "1/1 [==============================] - 0s 51ms/step\n",
      "1/1 [==============================] - 0s 29ms/step\n",
      "Iteration:   1, Mis-number:  0, Pop-number: 10, avg:0.9999710321, min:0.9997, max:1.0000\n",
      "1/1 [==============================] - 0s 56ms/step\n",
      "1/1 [==============================] - 0s 16ms/step\n",
      "Iteration:   2, Mis-number:  0, Pop-number: 10, avg:0.9999639392, min:0.9996, max:1.0000\n",
      "2/2 [==============================] - 0s 5ms/step\n",
      "1/1 [==============================] - 0s 18ms/step\n",
      "Iteration:   3, Mis-number:  0, Pop-number: 10, avg:0.9999636412, min:0.9996, max:1.0000\n",
      "WARNING:tensorflow:5 out of the last 208 calls to <function Model.make_predict_function.<locals>.predict_function at 0x726501f38a60> triggered tf.function retracing. Tracing is expensive and the excessive number of tracings could be due to (1) creating @tf.function repeatedly in a loop, (2) passing tensors with different shapes, (3) passing Python objects instead of tensors. For (1), please define your @tf.function outside of the loop. For (2), @tf.function has reduce_retracing=True option that can avoid unnecessary retracing. For (3), please refer to https://www.tensorflow.org/guide/function#controlling_retracing and https://www.tensorflow.org/api_docs/python/tf/function for  more details.\n",
      "2/2 [==============================] - 0s 4ms/step\n",
      "1/1 [==============================] - 0s 17ms/step\n",
      "Iteration:   4, Mis-number:  0, Pop-number: 10, avg:0.9999595881, min:0.9996, max:1.0000\n",
      "WARNING:tensorflow:5 out of the last 11 calls to <function Model.make_predict_function.<locals>.predict_function at 0x726501ddfca0> triggered tf.function retracing. Tracing is expensive and the excessive number of tracings could be due to (1) creating @tf.function repeatedly in a loop, (2) passing tensors with different shapes, (3) passing Python objects instead of tensors. For (1), please define your @tf.function outside of the loop. For (2), @tf.function has reduce_retracing=True option that can avoid unnecessary retracing. For (3), please refer to https://www.tensorflow.org/guide/function#controlling_retracing and https://www.tensorflow.org/api_docs/python/tf/function for  more details.\n",
      "2/2 [==============================] - 0s 4ms/step\n",
      "1/1 [==============================] - 0s 18ms/step\n",
      "Iteration:   5, Mis-number:  0, Pop-number: 10, avg:0.9999574423, min:0.9996, max:1.0000\n",
      "2/2 [==============================] - 0s 4ms/step\n",
      "1/1 [==============================] - 0s 18ms/step\n",
      "Iteration:   6, Mis-number:  0, Pop-number: 10, avg:0.9999515414, min:0.9995, max:1.0000\n",
      "2/2 [==============================] - 0s 4ms/step\n",
      "1/1 [==============================] - 0s 16ms/step\n",
      "Iteration:   7, Mis-number:  0, Pop-number: 10, avg:0.9999526739, min:0.9995, max:1.0000\n",
      "2/2 [==============================] - 0s 4ms/step\n",
      "1/1 [==============================] - 0s 16ms/step\n",
      "Iteration:   8, Mis-number:  0, Pop-number: 10, avg:0.9999507666, min:0.9995, max:1.0000\n",
      "2/2 [==============================] - 0s 3ms/step\n",
      "1/1 [==============================] - 0s 23ms/step\n",
      "Iteration:   9, Mis-number:  0, Pop-number: 10, avg:0.9999378920, min:0.9995, max:1.0000\n",
      "2/2 [==============================] - 0s 4ms/step\n",
      "1/1 [==============================] - 0s 16ms/step\n",
      "Iteration:  10, Mis-number:  0, Pop-number: 10, avg:0.9999349713, min:0.9995, max:1.0000\n",
      "MUTATION digit0 FINISHED\n",
      "REPORT GENERATED\n",
      "TIMING REPORT GENERATED\n",
      "digit 0, popsize 10, xai_method Faster-ScoreCAM\n",
      "Elapsed time: 2.0891311168670654\n",
      "{'mutation_time': 0.15569710731506348, 'mutation_number': 90, 'evaluation_number': 100, 'evaluation_time': 1.8762619495391846, 'heatmap_time': 1.433152675628662}\n",
      "percentage of heatmap time 0.6859997160630267\n",
      " Population size 10\n",
      "2/2 [==============================] - 0s 5ms/step\n",
      "1/1 [==============================] - 0s 30ms/step\n",
      "Iteration:   1, Mis-number:  0, Pop-number: 10, avg:0.9999554753, min:0.9997, max:1.0000\n",
      "2/2 [==============================] - 0s 4ms/step\n",
      "1/1 [==============================] - 0s 16ms/step\n",
      "Iteration:   2, Mis-number:  0, Pop-number: 10, avg:0.9999092817, min:0.9992, max:1.0000\n",
      "1/1 [==============================] - 0s 54ms/step\n",
      "1/1 [==============================] - 0s 17ms/step\n",
      "Iteration:   3, Mis-number:  0, Pop-number: 10, avg:0.9998875856, min:0.9991, max:1.0000\n",
      "1/1 [==============================] - 0s 47ms/step\n",
      "1/1 [==============================] - 0s 17ms/step\n",
      "Iteration:   4, Mis-number:  0, Pop-number: 10, avg:0.9998520613, min:0.9987, max:1.0000\n",
      "2/2 [==============================] - 0s 4ms/step\n",
      "1/1 [==============================] - 0s 17ms/step\n",
      "Iteration:   5, Mis-number:  0, Pop-number: 10, avg:0.9998073578, min:0.9984, max:1.0000\n",
      "1/1 [==============================] - 0s 46ms/step\n",
      "1/1 [==============================] - 0s 16ms/step\n",
      "Iteration:   6, Mis-number:  0, Pop-number: 10, avg:0.9998062849, min:0.9986, max:1.0000\n",
      "1/1 [==============================] - 0s 49ms/step\n",
      "1/1 [==============================] - 0s 16ms/step\n",
      "Iteration:   7, Mis-number:  0, Pop-number: 10, avg:0.9998556376, min:0.9991, max:1.0000\n",
      "2/2 [==============================] - 0s 3ms/step\n",
      "1/1 [==============================] - 0s 18ms/step\n",
      "Iteration:   8, Mis-number:  0, Pop-number: 10, avg:0.9997586012, min:0.9989, max:1.0000\n",
      "1/1 [==============================] - 0s 50ms/step\n",
      "1/1 [==============================] - 0s 20ms/step\n",
      "Iteration:   9, Mis-number:  0, Pop-number: 10, avg:0.9995518923, min:0.9982, max:1.0000\n",
      "2/2 [==============================] - 0s 4ms/step\n",
      "1/1 [==============================] - 0s 16ms/step\n",
      "Iteration:  10, Mis-number:  0, Pop-number: 10, avg:0.9992740750, min:0.9955, max:1.0000\n",
      "MUTATION digit1 FINISHED\n",
      "REPORT GENERATED\n",
      "TIMING REPORT GENERATED\n",
      "digit 1, popsize 10, xai_method Faster-ScoreCAM\n",
      "Elapsed time: 2.0298068523406982\n",
      "{'mutation_time': 0.1099236011505127, 'mutation_number': 90, 'evaluation_number': 100, 'evaluation_time': 1.8534672260284424, 'heatmap_time': 1.4164197444915771}\n",
      "percentage of heatmap time 0.6978049470910969\n",
      " Population size 10\n",
      "1/1 [==============================] - 0s 52ms/step\n",
      "1/1 [==============================] - 0s 27ms/step\n",
      "Iteration:   1, Mis-number:  1, Pop-number:  9, avg:0.9998767376, min:0.9991, max:1.0000\n",
      "1/1 [==============================] - 0s 49ms/step\n",
      "1/1 [==============================] - 0s 21ms/step\n",
      "Iteration:   2, Mis-number:  1, Pop-number:  9, avg:0.9999051690, min:0.9994, max:1.0000\n",
      "1/1 [==============================] - 0s 51ms/step\n",
      "1/1 [==============================] - 0s 17ms/step\n",
      "Iteration:   3, Mis-number:  1, Pop-number:  9, avg:0.9999113083, min:0.9994, max:1.0000\n",
      "1/1 [==============================] - 0s 49ms/step\n",
      "1/1 [==============================] - 0s 17ms/step\n",
      "Iteration:   4, Mis-number:  1, Pop-number:  9, avg:0.9997349977, min:0.9979, max:1.0000\n",
      "1/1 [==============================] - 0s 50ms/step\n",
      "1/1 [==============================] - 0s 16ms/step\n",
      "Iteration:   5, Mis-number:  1, Pop-number:  9, avg:0.9997861385, min:0.9984, max:1.0000\n",
      "1/1 [==============================] - 0s 48ms/step\n",
      "1/1 [==============================] - 0s 16ms/step\n",
      "Iteration:   6, Mis-number:  1, Pop-number:  9, avg:0.9997118711, min:0.9979, max:1.0000\n",
      "1/1 [==============================] - 0s 50ms/step\n",
      "1/1 [==============================] - 0s 17ms/step\n",
      "Iteration:   7, Mis-number:  1, Pop-number:  9, avg:0.9993584752, min:0.9947, max:1.0000\n",
      "1/1 [==============================] - 0s 49ms/step\n",
      "1/1 [==============================] - 0s 21ms/step\n",
      "Iteration:   8, Mis-number:  1, Pop-number:  9, avg:0.9989430904, min:0.9909, max:1.0000\n",
      "1/1 [==============================] - 0s 53ms/step\n",
      "1/1 [==============================] - 0s 18ms/step\n",
      "Iteration:   9, Mis-number:  1, Pop-number:  9, avg:0.9988723397, min:0.9902, max:1.0000\n",
      "1/1 [==============================] - 0s 46ms/step\n",
      "1/1 [==============================] - 0s 16ms/step\n",
      "Iteration:  10, Mis-number:  1, Pop-number:  9, avg:0.9990546703, min:0.9918, max:1.0000\n",
      "MUTATION digit2 FINISHED\n",
      "REPORT GENERATED\n",
      "TIMING REPORT GENERATED\n",
      "digit 2, popsize 10, xai_method Faster-ScoreCAM\n",
      "Elapsed time: 2.0476462841033936\n",
      "{'mutation_time': 0.19437265396118164, 'mutation_number': 81, 'evaluation_number': 91, 'evaluation_time': 1.7920138835906982, 'heatmap_time': 1.350581169128418}\n",
      "percentage of heatmap time 0.6595730015038701\n",
      " Population size 10\n",
      "1/1 [==============================] - 0s 52ms/step\n",
      "1/1 [==============================] - 0s 28ms/step\n",
      "Iteration:   1, Mis-number:  0, Pop-number: 10, avg:0.9999405742, min:0.9995, max:1.0000\n",
      "1/1 [==============================] - 0s 45ms/step\n",
      "1/1 [==============================] - 0s 18ms/step\n",
      "Iteration:   2, Mis-number:  0, Pop-number: 10, avg:0.9999400377, min:0.9995, max:1.0000\n",
      "1/1 [==============================] - 0s 56ms/step\n",
      "1/1 [==============================] - 0s 17ms/step\n",
      "Iteration:   3, Mis-number:  0, Pop-number: 10, avg:0.9999333620, min:0.9994, max:1.0000\n",
      "1/1 [==============================] - 0s 50ms/step\n",
      "1/1 [==============================] - 0s 18ms/step\n",
      "Iteration:   4, Mis-number:  0, Pop-number: 10, avg:0.9999100566, min:0.9992, max:1.0000\n",
      "1/1 [==============================] - 0s 51ms/step\n",
      "1/1 [==============================] - 0s 17ms/step\n",
      "Iteration:   5, Mis-number:  0, Pop-number: 10, avg:0.9999147654, min:0.9992, max:1.0000\n",
      "1/1 [==============================] - 0s 46ms/step\n",
      "1/1 [==============================] - 0s 19ms/step\n",
      "Iteration:   6, Mis-number:  0, Pop-number: 10, avg:0.9999094009, min:0.9992, max:1.0000\n",
      "1/1 [==============================] - 0s 46ms/step\n",
      "1/1 [==============================] - 0s 16ms/step\n",
      "Iteration:   7, Mis-number:  0, Pop-number: 10, avg:0.9999151230, min:0.9993, max:1.0000\n",
      "1/1 [==============================] - 0s 46ms/step\n",
      "1/1 [==============================] - 0s 15ms/step\n",
      "Iteration:   8, Mis-number:  0, Pop-number: 10, avg:0.9999142885, min:0.9993, max:1.0000\n",
      "1/1 [==============================] - 0s 46ms/step\n",
      "1/1 [==============================] - 0s 18ms/step\n",
      "Iteration:   9, Mis-number:  0, Pop-number: 10, avg:0.9999306798, min:0.9995, max:1.0000\n",
      "1/1 [==============================] - 0s 45ms/step\n",
      "1/1 [==============================] - 0s 17ms/step\n",
      "Iteration:  10, Mis-number:  0, Pop-number: 10, avg:0.9999210238, min:0.9994, max:1.0000\n",
      "MUTATION digit3 FINISHED\n",
      "REPORT GENERATED\n",
      "TIMING REPORT GENERATED\n",
      "digit 3, popsize 10, xai_method Faster-ScoreCAM\n",
      "Elapsed time: 2.1608123779296875\n",
      "{'mutation_time': 0.17688441276550293, 'mutation_number': 90, 'evaluation_number': 100, 'evaluation_time': 1.92140793800354, 'heatmap_time': 1.3272678852081299}\n",
      "percentage of heatmap time 0.6142388906689829\n",
      " Population size 10\n",
      "1/1 [==============================] - 0s 46ms/step\n",
      "1/1 [==============================] - 0s 26ms/step\n",
      "Iteration:   1, Mis-number:  0, Pop-number: 10, avg:0.9992232323, min:0.9925, max:1.0000\n",
      "1/1 [==============================] - 0s 43ms/step\n",
      "1/1 [==============================] - 0s 16ms/step\n",
      "Iteration:   2, Mis-number:  0, Pop-number: 10, avg:0.9978905916, min:0.9792, max:1.0000\n",
      "1/1 [==============================] - 0s 45ms/step\n",
      "1/1 [==============================] - 0s 16ms/step\n",
      "Iteration:   3, Mis-number:  0, Pop-number: 10, avg:0.9980427027, min:0.9807, max:1.0000\n",
      "1/1 [==============================] - 0s 45ms/step\n",
      "1/1 [==============================] - 0s 16ms/step\n",
      "Iteration:   4, Mis-number:  0, Pop-number: 10, avg:0.9986740947, min:0.9871, max:1.0000\n",
      "2/2 [==============================] - 0s 3ms/step\n",
      "1/1 [==============================] - 0s 17ms/step\n",
      "Iteration:   5, Mis-number:  0, Pop-number: 10, avg:0.9981374741, min:0.9820, max:1.0000\n",
      "1/1 [==============================] - 0s 46ms/step\n",
      "1/1 [==============================] - 0s 19ms/step\n",
      "Iteration:   6, Mis-number:  0, Pop-number: 10, avg:0.9982213974, min:0.9829, max:1.0000\n",
      "1/1 [==============================] - 0s 47ms/step\n",
      "1/1 [==============================] - 0s 17ms/step\n",
      "Iteration:   7, Mis-number:  0, Pop-number: 10, avg:0.9985687137, min:0.9875, max:1.0000\n",
      "1/1 [==============================] - 0s 45ms/step\n",
      "1/1 [==============================] - 0s 16ms/step\n",
      "Iteration:   8, Mis-number:  0, Pop-number: 10, avg:0.9979776144, min:0.9822, max:1.0000\n",
      "1/1 [==============================] - 0s 49ms/step\n",
      "1/1 [==============================] - 0s 17ms/step\n",
      "Iteration:   9, Mis-number:  0, Pop-number: 10, avg:0.9981625676, min:0.9845, max:1.0000\n",
      "1/1 [==============================] - 0s 48ms/step\n",
      "1/1 [==============================] - 0s 16ms/step\n",
      "Iteration:  10, Mis-number:  0, Pop-number: 10, avg:0.9992666245, min:0.9958, max:1.0000\n",
      "MUTATION digit4 FINISHED\n",
      "REPORT GENERATED\n",
      "TIMING REPORT GENERATED\n",
      "digit 4, popsize 10, xai_method Faster-ScoreCAM\n",
      "Elapsed time: 2.0105998516082764\n",
      "{'mutation_time': 0.17400169372558594, 'mutation_number': 90, 'evaluation_number': 100, 'evaluation_time': 1.7694568634033203, 'heatmap_time': 1.3402950763702393}\n",
      "percentage of heatmap time 0.6666096297115816\n",
      " Population size 10\n",
      "1/1 [==============================] - 0s 48ms/step\n",
      "1/1 [==============================] - 0s 27ms/step\n",
      "Iteration:   1, Mis-number:  0, Pop-number: 10, avg:0.9997908473, min:0.9981, max:1.0000\n",
      "1/1 [==============================] - 0s 47ms/step\n",
      "1/1 [==============================] - 0s 17ms/step\n",
      "Iteration:   2, Mis-number:  0, Pop-number: 10, avg:0.9995195270, min:0.9965, max:1.0000\n",
      "1/1 [==============================] - 0s 48ms/step\n",
      "1/1 [==============================] - 0s 16ms/step\n",
      "Iteration:   3, Mis-number:  0, Pop-number: 10, avg:0.9994328618, min:0.9955, max:1.0000\n",
      "1/1 [==============================] - 0s 51ms/step\n",
      "1/1 [==============================] - 0s 17ms/step\n",
      "Iteration:   4, Mis-number:  0, Pop-number: 10, avg:0.9994448423, min:0.9955, max:1.0000\n",
      "1/1 [==============================] - 0s 48ms/step\n",
      "1/1 [==============================] - 0s 18ms/step\n",
      "Iteration:   5, Mis-number:  0, Pop-number: 10, avg:0.9994419813, min:0.9955, max:1.0000\n",
      "1/1 [==============================] - 0s 50ms/step\n",
      "1/1 [==============================] - 0s 16ms/step\n",
      "Iteration:   6, Mis-number:  0, Pop-number: 10, avg:0.9993756413, min:0.9947, max:1.0000\n",
      "1/1 [==============================] - 0s 48ms/step\n",
      "1/1 [==============================] - 0s 18ms/step\n",
      "Iteration:   7, Mis-number:  0, Pop-number: 10, avg:0.9997068644, min:0.9981, max:1.0000\n",
      "1/1 [==============================] - 0s 47ms/step\n",
      "1/1 [==============================] - 0s 17ms/step\n",
      "Iteration:   8, Mis-number:  0, Pop-number: 10, avg:0.9996683002, min:0.9982, max:1.0000\n",
      "1/1 [==============================] - 0s 47ms/step\n",
      "1/1 [==============================] - 0s 17ms/step\n",
      "Iteration:   9, Mis-number:  0, Pop-number: 10, avg:0.9996593595, min:0.9982, max:1.0000\n",
      "1/1 [==============================] - 0s 58ms/step\n",
      "1/1 [==============================] - 0s 19ms/step\n",
      "Iteration:  10, Mis-number:  0, Pop-number: 10, avg:0.9996547699, min:0.9981, max:1.0000\n",
      "MUTATION digit5 FINISHED\n",
      "REPORT GENERATED\n",
      "TIMING REPORT GENERATED\n",
      "digit 5, popsize 10, xai_method Faster-ScoreCAM\n",
      "Elapsed time: 1.9869952201843262\n",
      "{'mutation_time': 0.16390633583068848, 'mutation_number': 90, 'evaluation_number': 100, 'evaluation_time': 1.7723808288574219, 'heatmap_time': 1.3544306755065918}\n",
      "percentage of heatmap time 0.6816398249229256\n",
      " Population size 10\n",
      "1/1 [==============================] - 0s 93ms/step\n",
      "1/1 [==============================] - 0s 62ms/step\n",
      "Iteration:   1, Mis-number:  0, Pop-number: 10, avg:0.9998755455, min:0.9988, max:1.0000\n",
      "1/1 [==============================] - 0s 87ms/step\n",
      "1/1 [==============================] - 0s 28ms/step\n",
      "Iteration:   2, Mis-number:  0, Pop-number: 10, avg:0.9998364449, min:0.9985, max:1.0000\n",
      "1/1 [==============================] - 0s 64ms/step\n",
      "1/1 [==============================] - 0s 22ms/step\n",
      "Iteration:   3, Mis-number:  0, Pop-number: 10, avg:0.9996846318, min:0.9970, max:1.0000\n",
      "1/1 [==============================] - 0s 60ms/step\n",
      "1/1 [==============================] - 0s 19ms/step\n",
      "Iteration:   4, Mis-number:  0, Pop-number: 10, avg:0.9996567965, min:0.9968, max:1.0000\n",
      "1/1 [==============================] - 0s 50ms/step\n",
      "1/1 [==============================] - 0s 18ms/step\n",
      "Iteration:   5, Mis-number:  0, Pop-number: 10, avg:0.9996281862, min:0.9965, max:1.0000\n",
      "1/1 [==============================] - 0s 49ms/step\n",
      "1/1 [==============================] - 0s 17ms/step\n",
      "Iteration:   6, Mis-number:  0, Pop-number: 10, avg:0.9997715950, min:0.9979, max:1.0000\n",
      "1/1 [==============================] - 0s 47ms/step\n",
      "1/1 [==============================] - 0s 18ms/step\n",
      "Iteration:   7, Mis-number:  0, Pop-number: 10, avg:0.9997941852, min:0.9983, max:1.0000\n",
      "1/1 [==============================] - 0s 48ms/step\n",
      "1/1 [==============================] - 0s 19ms/step\n",
      "Iteration:   8, Mis-number:  0, Pop-number: 10, avg:0.9997650385, min:0.9980, max:1.0000\n",
      "1/1 [==============================] - 0s 46ms/step\n",
      "1/1 [==============================] - 0s 28ms/step\n",
      "Iteration:   9, Mis-number:  0, Pop-number: 10, avg:0.9996813536, min:0.9972, max:1.0000\n",
      "1/1 [==============================] - 0s 47ms/step\n",
      "1/1 [==============================] - 0s 17ms/step\n",
      "Iteration:  10, Mis-number:  0, Pop-number: 10, avg:0.9996706247, min:0.9971, max:1.0000\n",
      "MUTATION digit6 FINISHED\n",
      "REPORT GENERATED\n",
      "TIMING REPORT GENERATED\n",
      "digit 6, popsize 10, xai_method Faster-ScoreCAM\n",
      "Elapsed time: 2.481619119644165\n",
      "{'mutation_time': 0.23247480392456055, 'mutation_number': 90, 'evaluation_number': 100, 'evaluation_time': 2.191026210784912, 'heatmap_time': 1.6519324779510498}\n",
      "percentage of heatmap time 0.6656612633322823\n",
      " Population size 10\n",
      "1/1 [==============================] - 0s 50ms/step\n",
      "1/1 [==============================] - 0s 28ms/step\n",
      "Iteration:   1, Mis-number:  0, Pop-number: 10, avg:0.9999687076, min:0.9997, max:1.0000\n",
      "1/1 [==============================] - 0s 52ms/step\n",
      "1/1 [==============================] - 0s 21ms/step\n",
      "Iteration:   2, Mis-number:  0, Pop-number: 10, avg:0.9999538660, min:0.9996, max:1.0000\n",
      "1/1 [==============================] - 0s 45ms/step\n",
      "1/1 [==============================] - 0s 16ms/step\n",
      "Iteration:   3, Mis-number:  0, Pop-number: 10, avg:0.9999650717, min:0.9997, max:1.0000\n",
      "1/1 [==============================] - 0s 46ms/step\n",
      "1/1 [==============================] - 0s 16ms/step\n",
      "Iteration:   4, Mis-number:  0, Pop-number: 10, avg:0.9999619722, min:0.9996, max:1.0000\n",
      "1/1 [==============================] - 0s 45ms/step\n",
      "1/1 [==============================] - 0s 17ms/step\n",
      "Iteration:   5, Mis-number:  0, Pop-number: 10, avg:0.9999588728, min:0.9996, max:1.0000\n",
      "1/1 [==============================] - 0s 45ms/step\n",
      "1/1 [==============================] - 0s 18ms/step\n",
      "Iteration:   6, Mis-number:  0, Pop-number: 10, avg:0.9999610186, min:0.9996, max:1.0000\n",
      "1/1 [==============================] - 0s 45ms/step\n",
      "1/1 [==============================] - 0s 16ms/step\n",
      "Iteration:   7, Mis-number:  0, Pop-number: 10, avg:0.9999634027, min:0.9997, max:1.0000\n",
      "1/1 [==============================] - 0s 46ms/step\n",
      "1/1 [==============================] - 0s 21ms/step\n",
      "Iteration:   8, Mis-number:  0, Pop-number: 10, avg:0.9999555349, min:0.9996, max:1.0000\n",
      "1/1 [==============================] - 0s 46ms/step\n",
      "1/1 [==============================] - 0s 17ms/step\n",
      "Iteration:   9, Mis-number:  0, Pop-number: 10, avg:0.9999842644, min:0.9999, max:1.0000\n",
      "1/1 [==============================] - 0s 45ms/step\n",
      "1/1 [==============================] - 0s 16ms/step\n",
      "Iteration:  10, Mis-number:  0, Pop-number: 10, avg:0.9999872446, min:0.9999, max:1.0000\n",
      "MUTATION digit7 FINISHED\n",
      "REPORT GENERATED\n",
      "TIMING REPORT GENERATED\n",
      "digit 7, popsize 10, xai_method Faster-ScoreCAM\n",
      "Elapsed time: 1.9596855640411377\n",
      "{'mutation_time': 0.15762805938720703, 'mutation_number': 90, 'evaluation_number': 100, 'evaluation_time': 1.749826192855835, 'heatmap_time': 1.3246269226074219}\n",
      "percentage of heatmap time 0.6759337313668894\n",
      " Population size 10\n",
      "1/1 [==============================] - 0s 48ms/step\n",
      "1/1 [==============================] - 0s 28ms/step\n",
      "Iteration:   1, Mis-number:  0, Pop-number: 10, avg:0.9987934232, min:0.9890, max:1.0000\n",
      "1/1 [==============================] - 0s 48ms/step\n",
      "1/1 [==============================] - 0s 17ms/step\n",
      "Iteration:   2, Mis-number:  0, Pop-number: 10, avg:0.9989841580, min:0.9906, max:1.0000\n",
      "1/1 [==============================] - 0s 46ms/step\n",
      "1/1 [==============================] - 0s 17ms/step\n",
      "Iteration:   3, Mis-number:  0, Pop-number: 10, avg:0.9988592267, min:0.9895, max:1.0000\n",
      "1/1 [==============================] - 0s 47ms/step\n",
      "1/1 [==============================] - 0s 17ms/step\n",
      "Iteration:   4, Mis-number:  0, Pop-number: 10, avg:0.9986779094, min:0.9877, max:1.0000\n",
      "1/1 [==============================] - 0s 46ms/step\n",
      "1/1 [==============================] - 0s 17ms/step\n",
      "Iteration:   5, Mis-number:  0, Pop-number: 10, avg:0.9986785054, min:0.9879, max:1.0000\n",
      "1/1 [==============================] - 0s 46ms/step\n",
      "1/1 [==============================] - 0s 16ms/step\n",
      "Iteration:   6, Mis-number:  0, Pop-number: 10, avg:0.9987050295, min:0.9883, max:1.0000\n",
      "1/1 [==============================] - 0s 46ms/step\n",
      "1/1 [==============================] - 0s 16ms/step\n",
      "Iteration:   7, Mis-number:  0, Pop-number: 10, avg:0.9990404844, min:0.9917, max:1.0000\n",
      "1/1 [==============================] - 0s 46ms/step\n",
      "1/1 [==============================] - 0s 17ms/step\n",
      "Iteration:   8, Mis-number:  0, Pop-number: 10, avg:0.9982744455, min:0.9838, max:1.0000\n",
      "1/1 [==============================] - 0s 46ms/step\n",
      "1/1 [==============================] - 0s 16ms/step\n",
      "Iteration:   9, Mis-number:  0, Pop-number: 10, avg:0.9979809523, min:0.9809, max:1.0000\n",
      "1/1 [==============================] - 0s 48ms/step\n",
      "1/1 [==============================] - 0s 16ms/step\n",
      "Iteration:  10, Mis-number:  0, Pop-number: 10, avg:0.9973041415, min:0.9743, max:1.0000\n",
      "MUTATION digit8 FINISHED\n",
      "REPORT GENERATED\n",
      "TIMING REPORT GENERATED\n",
      "digit 8, popsize 10, xai_method Faster-ScoreCAM\n",
      "Elapsed time: 2.024794101715088\n",
      "{'mutation_time': 0.1974475383758545, 'mutation_number': 90, 'evaluation_number': 100, 'evaluation_time': 1.7719922065734863, 'heatmap_time': 1.3584330081939697}\n",
      "percentage of heatmap time 0.6708948281097828\n",
      " Population size 10\n",
      "1/1 [==============================] - 0s 57ms/step\n",
      "1/1 [==============================] - 0s 32ms/step\n",
      "Iteration:   1, Mis-number:  1, Pop-number:  9, avg:0.9849873781, min:0.8674, max:1.0000\n",
      "1/1 [==============================] - 0s 48ms/step\n",
      "1/1 [==============================] - 0s 17ms/step\n",
      "Iteration:   2, Mis-number:  1, Pop-number:  9, avg:0.9854338169, min:0.8716, max:1.0000\n",
      "1/1 [==============================] - 0s 48ms/step\n",
      "1/1 [==============================] - 0s 16ms/step\n",
      "Iteration:   3, Mis-number:  1, Pop-number:  9, avg:0.9868993759, min:0.8855, max:1.0000\n",
      "1/1 [==============================] - 0s 47ms/step\n",
      "1/1 [==============================] - 0s 17ms/step\n",
      "Iteration:   4, Mis-number:  1, Pop-number:  9, avg:0.9839165211, min:0.8608, max:1.0000\n",
      "1/1 [==============================] - 0s 46ms/step\n",
      "1/1 [==============================] - 0s 17ms/step\n",
      "Iteration:   5, Mis-number:  1, Pop-number:  9, avg:0.9822958708, min:0.8495, max:1.0000\n",
      "1/1 [==============================] - 0s 48ms/step\n",
      "1/1 [==============================] - 0s 17ms/step\n",
      "Iteration:   6, Mis-number:  1, Pop-number:  9, avg:0.9757341743, min:0.7976, max:1.0000\n",
      "1/1 [==============================] - 0s 47ms/step\n",
      "1/1 [==============================] - 0s 22ms/step\n",
      "Iteration:   7, Mis-number:  1, Pop-number:  9, avg:0.9738203883, min:0.7876, max:1.0000\n",
      "1/1 [==============================] - 0s 45ms/step\n",
      "1/1 [==============================] - 0s 16ms/step\n",
      "Iteration:   8, Mis-number:  1, Pop-number:  9, avg:0.9781596065, min:0.8297, max:1.0000\n",
      "1/1 [==============================] - 0s 45ms/step\n",
      "1/1 [==============================] - 0s 16ms/step\n",
      "Iteration:   9, Mis-number:  1, Pop-number:  9, avg:0.9691973925, min:0.7629, max:1.0000\n",
      "1/1 [==============================] - 0s 45ms/step\n",
      "1/1 [==============================] - 0s 16ms/step\n",
      "Iteration:  10, Mis-number:  1, Pop-number:  9, avg:0.9542106986, min:0.6515, max:1.0000\n",
      "MUTATION digit9 FINISHED\n",
      "REPORT GENERATED\n",
      "TIMING REPORT GENERATED\n",
      "digit 9, popsize 10, xai_method Faster-ScoreCAM\n",
      "Elapsed time: 1.9772512912750244\n",
      "{'mutation_time': 0.14403367042541504, 'mutation_number': 81, 'evaluation_number': 91, 'evaluation_time': 1.7802822589874268, 'heatmap_time': 1.3491568565368652}\n",
      "percentage of heatmap time 0.6823350754734454\n"
     ]
    }
   ],
   "source": [
    "for digit in range(10): # range(10):\n",
    "    set_all_seeds(digit)\n",
    "    main(num=digit, popsize=10, xai_method=\"Faster-ScoreCAM\", enable_timer=True)"
   ]
  },
  {
   "cell_type": "code",
   "execution_count": 6,
   "id": "5b8d28e1-41e0-4905-9bee-2a7fe8c3a588",
   "metadata": {},
   "outputs": [
    {
     "name": "stdout",
     "output_type": "stream",
     "text": [
      " Population size 10\n"
     ]
    },
    {
     "name": "stderr",
     "output_type": "stream",
     "text": [
      "2024-06-12 00:06:22.427272: I tensorflow/core/common_runtime/executor.cc:1197] [/device:CPU:0] (DEBUG INFO) Executor start aborting (this does not indicate an error and you can ignore this message): INVALID_ARGUMENT: You must feed a value for placeholder tensor 'Placeholder/_1' with dtype int64 and shape [50]\n",
      "\t [[{{node Placeholder/_1}}]]\n"
     ]
    },
    {
     "name": "stdout",
     "output_type": "stream",
     "text": [
      "1/1 [==============================] - 0s 30ms/step\n",
      "Iteration:   1, Mis-number:  0, Pop-number: 10, avg:0.9999710321, min:0.9997, max:1.0000\n",
      "1/1 [==============================] - 0s 19ms/step\n",
      "Iteration:   2, Mis-number:  0, Pop-number: 10, avg:0.9999607801, min:0.9996, max:1.0000\n"
     ]
    },
    {
     "name": "stderr",
     "output_type": "stream",
     "text": [
      "2024-06-12 00:06:22.653531: I tensorflow/core/common_runtime/executor.cc:1197] [/device:CPU:0] (DEBUG INFO) Executor start aborting (this does not indicate an error and you can ignore this message): INVALID_ARGUMENT: You must feed a value for placeholder tensor 'Placeholder/_1' with dtype int64 and shape [50]\n",
      "\t [[{{node Placeholder/_1}}]]\n",
      "2024-06-12 00:06:22.789172: I tensorflow/core/common_runtime/executor.cc:1197] [/device:CPU:0] (DEBUG INFO) Executor start aborting (this does not indicate an error and you can ignore this message): INVALID_ARGUMENT: You must feed a value for placeholder tensor 'Placeholder/_1' with dtype int64 and shape [50]\n",
      "\t [[{{node Placeholder/_1}}]]\n"
     ]
    },
    {
     "name": "stdout",
     "output_type": "stream",
     "text": [
      "1/1 [==============================] - 0s 21ms/step\n",
      "Iteration:   3, Mis-number:  0, Pop-number: 10, avg:0.9999575615, min:0.9996, max:1.0000\n",
      "1/1 [==============================] - 0s 18ms/step\n",
      "Iteration:   4, Mis-number:  0, Pop-number: 10, avg:0.9999452829, min:0.9995, max:1.0000\n"
     ]
    },
    {
     "name": "stderr",
     "output_type": "stream",
     "text": [
      "2024-06-12 00:06:22.933019: I tensorflow/core/common_runtime/executor.cc:1197] [/device:CPU:0] (DEBUG INFO) Executor start aborting (this does not indicate an error and you can ignore this message): INVALID_ARGUMENT: You must feed a value for placeholder tensor 'Placeholder/_1' with dtype int64 and shape [50]\n",
      "\t [[{{node Placeholder/_1}}]]\n",
      "2024-06-12 00:06:23.059521: I tensorflow/core/common_runtime/executor.cc:1197] [/device:CPU:0] (DEBUG INFO) Executor start aborting (this does not indicate an error and you can ignore this message): INVALID_ARGUMENT: You must feed a value for placeholder tensor 'Placeholder/_1' with dtype int64 and shape [50]\n",
      "\t [[{{node Placeholder/_1}}]]\n"
     ]
    },
    {
     "name": "stdout",
     "output_type": "stream",
     "text": [
      "1/1 [==============================] - 0s 19ms/step\n",
      "Iteration:   5, Mis-number:  0, Pop-number: 10, avg:0.9999341965, min:0.9993, max:1.0000\n",
      "1/1 [==============================] - 0s 19ms/step\n",
      "Iteration:   6, Mis-number:  0, Pop-number: 10, avg:0.9999147654, min:0.9991, max:1.0000\n"
     ]
    },
    {
     "name": "stderr",
     "output_type": "stream",
     "text": [
      "2024-06-12 00:06:23.198642: I tensorflow/core/common_runtime/executor.cc:1197] [/device:CPU:0] (DEBUG INFO) Executor start aborting (this does not indicate an error and you can ignore this message): INVALID_ARGUMENT: You must feed a value for placeholder tensor 'Placeholder/_1' with dtype int64 and shape [50]\n",
      "\t [[{{node Placeholder/_1}}]]\n",
      "2024-06-12 00:06:23.341843: I tensorflow/core/common_runtime/executor.cc:1197] [/device:CPU:0] (DEBUG INFO) Executor start aborting (this does not indicate an error and you can ignore this message): INVALID_ARGUMENT: You must feed a value for placeholder tensor 'Placeholder/_1' with dtype int64 and shape [50]\n",
      "\t [[{{node Placeholder/_1}}]]\n"
     ]
    },
    {
     "name": "stdout",
     "output_type": "stream",
     "text": [
      "1/1 [==============================] - 0s 20ms/step\n",
      "Iteration:   7, Mis-number:  0, Pop-number: 10, avg:0.9999048114, min:0.9990, max:1.0000\n",
      "1/1 [==============================] - 0s 19ms/step\n",
      "Iteration:   8, Mis-number:  0, Pop-number: 10, avg:0.9999012947, min:0.9990, max:1.0000\n"
     ]
    },
    {
     "name": "stderr",
     "output_type": "stream",
     "text": [
      "2024-06-12 00:06:23.491710: I tensorflow/core/common_runtime/executor.cc:1197] [/device:CPU:0] (DEBUG INFO) Executor start aborting (this does not indicate an error and you can ignore this message): INVALID_ARGUMENT: You must feed a value for placeholder tensor 'Placeholder/_1' with dtype int64 and shape [50]\n",
      "\t [[{{node Placeholder/_1}}]]\n",
      "2024-06-12 00:06:23.646299: I tensorflow/core/common_runtime/executor.cc:1197] [/device:CPU:0] (DEBUG INFO) Executor start aborting (this does not indicate an error and you can ignore this message): INVALID_ARGUMENT: You must feed a value for placeholder tensor 'Placeholder/_1' with dtype int64 and shape [50]\n",
      "\t [[{{node Placeholder/_1}}]]\n"
     ]
    },
    {
     "name": "stdout",
     "output_type": "stream",
     "text": [
      "1/1 [==============================] - 0s 18ms/step\n",
      "Iteration:   9, Mis-number:  0, Pop-number: 10, avg:0.9999017715, min:0.9990, max:1.0000\n",
      "1/1 [==============================] - 0s 18ms/step\n",
      "Iteration:  10, Mis-number:  0, Pop-number: 10, avg:0.9998573065, min:0.9986, max:1.0000\n",
      "MUTATION digit0 FINISHED\n",
      "REPORT GENERATED\n",
      "TIMING REPORT GENERATED\n",
      "digit 0, popsize 10, xai_method IntegratedGradients\n",
      "Elapsed time: 1.5442273616790771\n",
      "{'mutation_time': 0.1683485507965088, 'mutation_number': 90, 'evaluation_number': 100, 'evaluation_time': 1.322878360748291, 'heatmap_time': 0.8300256729125977}\n",
      "percentage of heatmap time 0.5374972653314742\n",
      " Population size 10\n"
     ]
    },
    {
     "name": "stderr",
     "output_type": "stream",
     "text": [
      "2024-06-12 00:06:23.796392: I tensorflow/core/common_runtime/executor.cc:1197] [/device:CPU:0] (DEBUG INFO) Executor start aborting (this does not indicate an error and you can ignore this message): INVALID_ARGUMENT: You must feed a value for placeholder tensor 'Placeholder/_1' with dtype int64 and shape [50]\n",
      "\t [[{{node Placeholder/_1}}]]\n",
      "2024-06-12 00:06:23.973072: I tensorflow/core/common_runtime/executor.cc:1197] [/device:CPU:0] (DEBUG INFO) Executor start aborting (this does not indicate an error and you can ignore this message): INVALID_ARGUMENT: You must feed a value for placeholder tensor 'Placeholder/_1' with dtype int64 and shape [50]\n",
      "\t [[{{node Placeholder/_1}}]]\n"
     ]
    },
    {
     "name": "stdout",
     "output_type": "stream",
     "text": [
      "1/1 [==============================] - 0s 30ms/step\n",
      "Iteration:   1, Mis-number:  0, Pop-number: 10, avg:0.9999554753, min:0.9997, max:1.0000\n",
      "1/1 [==============================] - 0s 17ms/step\n",
      "Iteration:   2, Mis-number:  0, Pop-number: 10, avg:0.9998860359, min:0.9991, max:1.0000\n"
     ]
    },
    {
     "name": "stderr",
     "output_type": "stream",
     "text": [
      "2024-06-12 00:06:24.162561: I tensorflow/core/common_runtime/executor.cc:1197] [/device:CPU:0] (DEBUG INFO) Executor start aborting (this does not indicate an error and you can ignore this message): INVALID_ARGUMENT: You must feed a value for placeholder tensor 'Placeholder/_1' with dtype int64 and shape [50]\n",
      "\t [[{{node Placeholder/_1}}]]\n",
      "2024-06-12 00:06:24.295512: I tensorflow/core/common_runtime/executor.cc:1197] [/device:CPU:0] (DEBUG INFO) Executor start aborting (this does not indicate an error and you can ignore this message): INVALID_ARGUMENT: You must feed a value for placeholder tensor 'Placeholder/_1' with dtype int64 and shape [50]\n",
      "\t [[{{node Placeholder/_1}}]]\n"
     ]
    },
    {
     "name": "stdout",
     "output_type": "stream",
     "text": [
      "1/1 [==============================] - 0s 19ms/step\n",
      "Iteration:   3, Mis-number:  0, Pop-number: 10, avg:0.9998946190, min:0.9991, max:1.0000\n",
      "1/1 [==============================] - 0s 18ms/step\n",
      "Iteration:   4, Mis-number:  0, Pop-number: 10, avg:0.9998756647, min:0.9992, max:1.0000\n"
     ]
    },
    {
     "name": "stderr",
     "output_type": "stream",
     "text": [
      "2024-06-12 00:06:24.414073: I tensorflow/core/common_runtime/executor.cc:1197] [/device:CPU:0] (DEBUG INFO) Executor start aborting (this does not indicate an error and you can ignore this message): INVALID_ARGUMENT: You must feed a value for placeholder tensor 'Placeholder/_1' with dtype int64 and shape [50]\n",
      "\t [[{{node Placeholder/_1}}]]\n",
      "2024-06-12 00:06:24.536225: I tensorflow/core/common_runtime/executor.cc:1197] [/device:CPU:0] (DEBUG INFO) Executor start aborting (this does not indicate an error and you can ignore this message): INVALID_ARGUMENT: You must feed a value for placeholder tensor 'Placeholder/_1' with dtype int64 and shape [50]\n",
      "\t [[{{node Placeholder/_1}}]]\n"
     ]
    },
    {
     "name": "stdout",
     "output_type": "stream",
     "text": [
      "1/1 [==============================] - 0s 27ms/step\n",
      "Iteration:   5, Mis-number:  0, Pop-number: 10, avg:0.9998177290, min:0.9988, max:1.0000\n",
      "1/1 [==============================] - 0s 18ms/step\n",
      "Iteration:   6, Mis-number:  0, Pop-number: 10, avg:0.9996808171, min:0.9978, max:1.0000\n"
     ]
    },
    {
     "name": "stderr",
     "output_type": "stream",
     "text": [
      "2024-06-12 00:06:24.673771: I tensorflow/core/common_runtime/executor.cc:1197] [/device:CPU:0] (DEBUG INFO) Executor start aborting (this does not indicate an error and you can ignore this message): INVALID_ARGUMENT: You must feed a value for placeholder tensor 'Placeholder/_1' with dtype int64 and shape [50]\n",
      "\t [[{{node Placeholder/_1}}]]\n",
      "2024-06-12 00:06:24.800334: I tensorflow/core/common_runtime/executor.cc:1197] [/device:CPU:0] (DEBUG INFO) Executor start aborting (this does not indicate an error and you can ignore this message): INVALID_ARGUMENT: You must feed a value for placeholder tensor 'Placeholder/_1' with dtype int64 and shape [50]\n",
      "\t [[{{node Placeholder/_1}}]]\n"
     ]
    },
    {
     "name": "stdout",
     "output_type": "stream",
     "text": [
      "1/1 [==============================] - 0s 18ms/step\n",
      "Iteration:   7, Mis-number:  0, Pop-number: 10, avg:0.9996253252, min:0.9979, max:1.0000\n",
      "1/1 [==============================] - 0s 19ms/step\n",
      "Iteration:   8, Mis-number:  0, Pop-number: 10, avg:0.9990523458, min:0.9975, max:1.0000\n"
     ]
    },
    {
     "name": "stderr",
     "output_type": "stream",
     "text": [
      "2024-06-12 00:06:24.932453: I tensorflow/core/common_runtime/executor.cc:1197] [/device:CPU:0] (DEBUG INFO) Executor start aborting (this does not indicate an error and you can ignore this message): INVALID_ARGUMENT: You must feed a value for placeholder tensor 'Placeholder/_1' with dtype int64 and shape [50]\n",
      "\t [[{{node Placeholder/_1}}]]\n",
      "2024-06-12 00:06:25.054295: I tensorflow/core/common_runtime/executor.cc:1197] [/device:CPU:0] (DEBUG INFO) Executor start aborting (this does not indicate an error and you can ignore this message): INVALID_ARGUMENT: You must feed a value for placeholder tensor 'Placeholder/_1' with dtype int64 and shape [50]\n",
      "\t [[{{node Placeholder/_1}}]]\n"
     ]
    },
    {
     "name": "stdout",
     "output_type": "stream",
     "text": [
      "1/1 [==============================] - 0s 18ms/step\n",
      "Iteration:   9, Mis-number:  0, Pop-number: 10, avg:0.9982088804, min:0.9892, max:1.0000\n",
      "1/1 [==============================] - 0s 16ms/step\n",
      "Iteration:  10, Mis-number:  0, Pop-number: 10, avg:0.9980386496, min:0.9845, max:1.0000\n",
      "MUTATION digit1 FINISHED\n",
      "REPORT GENERATED\n",
      "TIMING REPORT GENERATED\n",
      "digit 1, popsize 10, xai_method IntegratedGradients\n",
      "Elapsed time: 1.4095025062561035\n",
      "{'mutation_time': 0.11711859703063965, 'mutation_number': 90, 'evaluation_number': 100, 'evaluation_time': 1.2393524646759033, 'heatmap_time': 0.7728116512298584}\n",
      "percentage of heatmap time 0.5482813512516448\n",
      " Population size 10\n"
     ]
    },
    {
     "name": "stderr",
     "output_type": "stream",
     "text": [
      "2024-06-12 00:06:25.208344: I tensorflow/core/common_runtime/executor.cc:1197] [/device:CPU:0] (DEBUG INFO) Executor start aborting (this does not indicate an error and you can ignore this message): INVALID_ARGUMENT: You must feed a value for placeholder tensor 'Placeholder/_1' with dtype int64 and shape [50]\n",
      "\t [[{{node Placeholder/_1}}]]\n",
      "2024-06-12 00:06:25.388520: I tensorflow/core/common_runtime/executor.cc:1197] [/device:CPU:0] (DEBUG INFO) Executor start aborting (this does not indicate an error and you can ignore this message): INVALID_ARGUMENT: You must feed a value for placeholder tensor 'Placeholder/_1' with dtype int64 and shape [50]\n",
      "\t [[{{node Placeholder/_1}}]]\n"
     ]
    },
    {
     "name": "stdout",
     "output_type": "stream",
     "text": [
      "1/1 [==============================] - 0s 30ms/step\n",
      "Iteration:   1, Mis-number:  1, Pop-number:  9, avg:0.9998767376, min:0.9991, max:1.0000\n",
      "1/1 [==============================] - 0s 17ms/step\n",
      "Iteration:   2, Mis-number:  1, Pop-number:  9, avg:0.9998371601, min:0.9990, max:1.0000\n"
     ]
    },
    {
     "name": "stderr",
     "output_type": "stream",
     "text": [
      "2024-06-12 00:06:25.578344: I tensorflow/core/common_runtime/executor.cc:1197] [/device:CPU:0] (DEBUG INFO) Executor start aborting (this does not indicate an error and you can ignore this message): INVALID_ARGUMENT: You must feed a value for placeholder tensor 'Placeholder/_1' with dtype int64 and shape [45]\n",
      "\t [[{{node Placeholder/_1}}]]\n",
      "2024-06-12 00:06:25.700010: I tensorflow/core/common_runtime/executor.cc:1197] [/device:CPU:0] (DEBUG INFO) Executor start aborting (this does not indicate an error and you can ignore this message): INVALID_ARGUMENT: You must feed a value for placeholder tensor 'Placeholder/_1' with dtype int64 and shape [45]\n",
      "\t [[{{node Placeholder/_1}}]]\n"
     ]
    },
    {
     "name": "stdout",
     "output_type": "stream",
     "text": [
      "1/1 [==============================] - 0s 20ms/step\n",
      "Iteration:   3, Mis-number:  1, Pop-number:  9, avg:0.9998281002, min:0.9990, max:1.0000\n",
      "1/1 [==============================] - 0s 23ms/step\n",
      "Iteration:   4, Mis-number:  1, Pop-number:  9, avg:0.9996564388, min:0.9978, max:1.0000\n"
     ]
    },
    {
     "name": "stderr",
     "output_type": "stream",
     "text": [
      "2024-06-12 00:06:25.833673: I tensorflow/core/common_runtime/executor.cc:1197] [/device:CPU:0] (DEBUG INFO) Executor start aborting (this does not indicate an error and you can ignore this message): INVALID_ARGUMENT: You must feed a value for placeholder tensor 'Placeholder/_1' with dtype int64 and shape [45]\n",
      "\t [[{{node Placeholder/_1}}]]\n",
      "2024-06-12 00:06:25.973193: I tensorflow/core/common_runtime/executor.cc:1197] [/device:CPU:0] (DEBUG INFO) Executor start aborting (this does not indicate an error and you can ignore this message): INVALID_ARGUMENT: You must feed a value for placeholder tensor 'Placeholder/_1' with dtype int64 and shape [45]\n",
      "\t [[{{node Placeholder/_1}}]]\n"
     ]
    },
    {
     "name": "stdout",
     "output_type": "stream",
     "text": [
      "1/1 [==============================] - 0s 20ms/step\n",
      "Iteration:   5, Mis-number:  1, Pop-number:  9, avg:0.9993275404, min:0.9947, max:1.0000\n",
      "1/1 [==============================] - 0s 19ms/step\n",
      "Iteration:   6, Mis-number:  1, Pop-number:  9, avg:0.9992076159, min:0.9936, max:1.0000\n"
     ]
    },
    {
     "name": "stderr",
     "output_type": "stream",
     "text": [
      "2024-06-12 00:06:26.110663: I tensorflow/core/common_runtime/executor.cc:1197] [/device:CPU:0] (DEBUG INFO) Executor start aborting (this does not indicate an error and you can ignore this message): INVALID_ARGUMENT: You must feed a value for placeholder tensor 'Placeholder/_1' with dtype int64 and shape [45]\n",
      "\t [[{{node Placeholder/_1}}]]\n",
      "2024-06-12 00:06:26.257581: I tensorflow/core/common_runtime/executor.cc:1197] [/device:CPU:0] (DEBUG INFO) Executor start aborting (this does not indicate an error and you can ignore this message): INVALID_ARGUMENT: You must feed a value for placeholder tensor 'Placeholder/_1' with dtype int64 and shape [45]\n",
      "\t [[{{node Placeholder/_1}}]]\n"
     ]
    },
    {
     "name": "stdout",
     "output_type": "stream",
     "text": [
      "1/1 [==============================] - 0s 18ms/step\n",
      "Iteration:   7, Mis-number:  1, Pop-number:  9, avg:0.9992567897, min:0.9936, max:1.0000\n",
      "1/1 [==============================] - 0s 17ms/step\n",
      "Iteration:   8, Mis-number:  1, Pop-number:  9, avg:0.9994013309, min:0.9951, max:1.0000\n"
     ]
    },
    {
     "name": "stderr",
     "output_type": "stream",
     "text": [
      "2024-06-12 00:06:26.411110: I tensorflow/core/common_runtime/executor.cc:1197] [/device:CPU:0] (DEBUG INFO) Executor start aborting (this does not indicate an error and you can ignore this message): INVALID_ARGUMENT: You must feed a value for placeholder tensor 'Placeholder/_1' with dtype int64 and shape [45]\n",
      "\t [[{{node Placeholder/_1}}]]\n",
      "2024-06-12 00:06:26.542419: I tensorflow/core/common_runtime/executor.cc:1197] [/device:CPU:0] (DEBUG INFO) Executor start aborting (this does not indicate an error and you can ignore this message): INVALID_ARGUMENT: You must feed a value for placeholder tensor 'Placeholder/_1' with dtype int64 and shape [45]\n",
      "\t [[{{node Placeholder/_1}}]]\n"
     ]
    },
    {
     "name": "stdout",
     "output_type": "stream",
     "text": [
      "1/1 [==============================] - 0s 18ms/step\n",
      "Iteration:   9, Mis-number:  1, Pop-number:  9, avg:0.9994389415, min:0.9955, max:1.0000\n",
      "1/1 [==============================] - 0s 17ms/step\n",
      "Iteration:  10, Mis-number:  1, Pop-number:  9, avg:0.9996566772, min:0.9973, max:1.0000\n",
      "MUTATION digit2 FINISHED\n",
      "REPORT GENERATED\n",
      "TIMING REPORT GENERATED\n",
      "digit 2, popsize 10, xai_method IntegratedGradients\n",
      "Elapsed time: 1.4443004131317139\n",
      "{'mutation_time': 0.17887449264526367, 'mutation_number': 81, 'evaluation_number': 91, 'evaluation_time': 1.211012840270996, 'heatmap_time': 0.7379872798919678}\n",
      "percentage of heatmap time 0.5109572081552609\n",
      " Population size 10\n"
     ]
    },
    {
     "name": "stderr",
     "output_type": "stream",
     "text": [
      "2024-06-12 00:06:26.666668: I tensorflow/core/common_runtime/executor.cc:1197] [/device:CPU:0] (DEBUG INFO) Executor start aborting (this does not indicate an error and you can ignore this message): INVALID_ARGUMENT: You must feed a value for placeholder tensor 'Placeholder/_1' with dtype int64 and shape [45]\n",
      "\t [[{{node Placeholder/_1}}]]\n",
      "2024-06-12 00:06:26.845550: I tensorflow/core/common_runtime/executor.cc:1197] [/device:CPU:0] (DEBUG INFO) Executor start aborting (this does not indicate an error and you can ignore this message): INVALID_ARGUMENT: You must feed a value for placeholder tensor 'Placeholder/_1' with dtype int64 and shape [50]\n",
      "\t [[{{node Placeholder/_1}}]]\n"
     ]
    },
    {
     "name": "stdout",
     "output_type": "stream",
     "text": [
      "1/1 [==============================] - 0s 33ms/step\n",
      "Iteration:   1, Mis-number:  0, Pop-number: 10, avg:0.9999405742, min:0.9995, max:1.0000\n",
      "1/1 [==============================] - 0s 19ms/step\n",
      "Iteration:   2, Mis-number:  0, Pop-number: 10, avg:0.9999419451, min:0.9995, max:1.0000\n"
     ]
    },
    {
     "name": "stderr",
     "output_type": "stream",
     "text": [
      "2024-06-12 00:06:27.050348: I tensorflow/core/common_runtime/executor.cc:1197] [/device:CPU:0] (DEBUG INFO) Executor start aborting (this does not indicate an error and you can ignore this message): INVALID_ARGUMENT: You must feed a value for placeholder tensor 'Placeholder/_1' with dtype int64 and shape [50]\n",
      "\t [[{{node Placeholder/_1}}]]\n",
      "2024-06-12 00:06:27.193319: I tensorflow/core/common_runtime/executor.cc:1197] [/device:CPU:0] (DEBUG INFO) Executor start aborting (this does not indicate an error and you can ignore this message): INVALID_ARGUMENT: You must feed a value for placeholder tensor 'Placeholder/_1' with dtype int64 and shape [50]\n",
      "\t [[{{node Placeholder/_1}}]]\n"
     ]
    },
    {
     "name": "stdout",
     "output_type": "stream",
     "text": [
      "1/1 [==============================] - 0s 19ms/step\n",
      "Iteration:   3, Mis-number:  0, Pop-number: 10, avg:0.9999310374, min:0.9994, max:1.0000\n",
      "1/1 [==============================] - 0s 26ms/step\n",
      "Iteration:   4, Mis-number:  0, Pop-number: 10, avg:0.9999564886, min:0.9997, max:1.0000\n"
     ]
    },
    {
     "name": "stderr",
     "output_type": "stream",
     "text": [
      "2024-06-12 00:06:27.323264: I tensorflow/core/common_runtime/executor.cc:1197] [/device:CPU:0] (DEBUG INFO) Executor start aborting (this does not indicate an error and you can ignore this message): INVALID_ARGUMENT: You must feed a value for placeholder tensor 'Placeholder/_1' with dtype int64 and shape [50]\n",
      "\t [[{{node Placeholder/_1}}]]\n",
      "2024-06-12 00:06:27.465106: I tensorflow/core/common_runtime/executor.cc:1197] [/device:CPU:0] (DEBUG INFO) Executor start aborting (this does not indicate an error and you can ignore this message): INVALID_ARGUMENT: You must feed a value for placeholder tensor 'Placeholder/_1' with dtype int64 and shape [50]\n",
      "\t [[{{node Placeholder/_1}}]]\n"
     ]
    },
    {
     "name": "stdout",
     "output_type": "stream",
     "text": [
      "1/1 [==============================] - 0s 19ms/step\n",
      "Iteration:   5, Mis-number:  0, Pop-number: 10, avg:0.9999564290, min:0.9997, max:1.0000\n",
      "1/1 [==============================] - 0s 17ms/step\n",
      "Iteration:   6, Mis-number:  0, Pop-number: 10, avg:0.9999593496, min:0.9998, max:1.0000\n"
     ]
    },
    {
     "name": "stderr",
     "output_type": "stream",
     "text": [
      "2024-06-12 00:06:27.618137: I tensorflow/core/common_runtime/executor.cc:1197] [/device:CPU:0] (DEBUG INFO) Executor start aborting (this does not indicate an error and you can ignore this message): INVALID_ARGUMENT: You must feed a value for placeholder tensor 'Placeholder/_1' with dtype int64 and shape [50]\n",
      "\t [[{{node Placeholder/_1}}]]\n",
      "2024-06-12 00:06:27.753517: I tensorflow/core/common_runtime/executor.cc:1197] [/device:CPU:0] (DEBUG INFO) Executor start aborting (this does not indicate an error and you can ignore this message): INVALID_ARGUMENT: You must feed a value for placeholder tensor 'Placeholder/_1' with dtype int64 and shape [50]\n",
      "\t [[{{node Placeholder/_1}}]]\n"
     ]
    },
    {
     "name": "stdout",
     "output_type": "stream",
     "text": [
      "1/1 [==============================] - 0s 18ms/step\n",
      "Iteration:   7, Mis-number:  0, Pop-number: 10, avg:0.9999585152, min:0.9998, max:1.0000\n",
      "1/1 [==============================] - 0s 18ms/step\n",
      "Iteration:   8, Mis-number:  0, Pop-number: 10, avg:0.9999515414, min:0.9998, max:1.0000\n"
     ]
    },
    {
     "name": "stderr",
     "output_type": "stream",
     "text": [
      "2024-06-12 00:06:27.888595: I tensorflow/core/common_runtime/executor.cc:1197] [/device:CPU:0] (DEBUG INFO) Executor start aborting (this does not indicate an error and you can ignore this message): INVALID_ARGUMENT: You must feed a value for placeholder tensor 'Placeholder/_1' with dtype int64 and shape [50]\n",
      "\t [[{{node Placeholder/_1}}]]\n",
      "2024-06-12 00:06:28.006470: I tensorflow/core/common_runtime/executor.cc:1197] [/device:CPU:0] (DEBUG INFO) Executor start aborting (this does not indicate an error and you can ignore this message): INVALID_ARGUMENT: You must feed a value for placeholder tensor 'Placeholder/_1' with dtype int64 and shape [50]\n",
      "\t [[{{node Placeholder/_1}}]]\n"
     ]
    },
    {
     "name": "stdout",
     "output_type": "stream",
     "text": [
      "1/1 [==============================] - 0s 17ms/step\n",
      "Iteration:   9, Mis-number:  0, Pop-number: 10, avg:0.9999597669, min:0.9998, max:1.0000\n",
      "1/1 [==============================] - 0s 17ms/step\n",
      "Iteration:  10, Mis-number:  0, Pop-number: 10, avg:0.9999559522, min:0.9998, max:1.0000\n",
      "MUTATION digit3 FINISHED\n",
      "REPORT GENERATED\n",
      "TIMING REPORT GENERATED\n",
      "digit 3, popsize 10, xai_method IntegratedGradients\n",
      "Elapsed time: 1.4862713813781738\n",
      "{'mutation_time': 0.18826937675476074, 'mutation_number': 90, 'evaluation_number': 100, 'evaluation_time': 1.2371537685394287, 'heatmap_time': 0.7527749538421631}\n",
      "percentage of heatmap time 0.5064783028067379\n",
      " Population size 10\n"
     ]
    },
    {
     "name": "stderr",
     "output_type": "stream",
     "text": [
      "2024-06-12 00:06:28.152456: I tensorflow/core/common_runtime/executor.cc:1197] [/device:CPU:0] (DEBUG INFO) Executor start aborting (this does not indicate an error and you can ignore this message): INVALID_ARGUMENT: You must feed a value for placeholder tensor 'Placeholder/_1' with dtype int64 and shape [50]\n",
      "\t [[{{node Placeholder/_1}}]]\n",
      "2024-06-12 00:06:28.330004: I tensorflow/core/common_runtime/executor.cc:1197] [/device:CPU:0] (DEBUG INFO) Executor start aborting (this does not indicate an error and you can ignore this message): INVALID_ARGUMENT: You must feed a value for placeholder tensor 'Placeholder/_1' with dtype int64 and shape [50]\n",
      "\t [[{{node Placeholder/_1}}]]\n"
     ]
    },
    {
     "name": "stdout",
     "output_type": "stream",
     "text": [
      "1/1 [==============================] - 0s 29ms/step\n",
      "Iteration:   1, Mis-number:  0, Pop-number: 10, avg:0.9992232323, min:0.9925, max:1.0000\n",
      "1/1 [==============================] - 0s 18ms/step\n",
      "Iteration:   2, Mis-number:  0, Pop-number: 10, avg:0.9995323420, min:0.9956, max:1.0000\n"
     ]
    },
    {
     "name": "stderr",
     "output_type": "stream",
     "text": [
      "2024-06-12 00:06:28.542056: I tensorflow/core/common_runtime/executor.cc:1197] [/device:CPU:0] (DEBUG INFO) Executor start aborting (this does not indicate an error and you can ignore this message): INVALID_ARGUMENT: You must feed a value for placeholder tensor 'Placeholder/_1' with dtype int64 and shape [50]\n",
      "\t [[{{node Placeholder/_1}}]]\n",
      "2024-06-12 00:06:28.670559: I tensorflow/core/common_runtime/executor.cc:1197] [/device:CPU:0] (DEBUG INFO) Executor start aborting (this does not indicate an error and you can ignore this message): INVALID_ARGUMENT: You must feed a value for placeholder tensor 'Placeholder/_1' with dtype int64 and shape [50]\n",
      "\t [[{{node Placeholder/_1}}]]\n"
     ]
    },
    {
     "name": "stdout",
     "output_type": "stream",
     "text": [
      "1/1 [==============================] - 0s 19ms/step\n",
      "Iteration:   3, Mis-number:  0, Pop-number: 10, avg:0.9995500445, min:0.9958, max:1.0000\n",
      "1/1 [==============================] - 0s 18ms/step\n",
      "Iteration:   4, Mis-number:  0, Pop-number: 10, avg:0.9992677569, min:0.9930, max:1.0000\n"
     ]
    },
    {
     "name": "stderr",
     "output_type": "stream",
     "text": [
      "2024-06-12 00:06:28.806122: I tensorflow/core/common_runtime/executor.cc:1197] [/device:CPU:0] (DEBUG INFO) Executor start aborting (this does not indicate an error and you can ignore this message): INVALID_ARGUMENT: You must feed a value for placeholder tensor 'Placeholder/_1' with dtype int64 and shape [50]\n",
      "\t [[{{node Placeholder/_1}}]]\n",
      "2024-06-12 00:06:28.944697: I tensorflow/core/common_runtime/executor.cc:1197] [/device:CPU:0] (DEBUG INFO) Executor start aborting (this does not indicate an error and you can ignore this message): INVALID_ARGUMENT: You must feed a value for placeholder tensor 'Placeholder/_1' with dtype int64 and shape [50]\n",
      "\t [[{{node Placeholder/_1}}]]\n"
     ]
    },
    {
     "name": "stdout",
     "output_type": "stream",
     "text": [
      "1/1 [==============================] - 0s 29ms/step\n",
      "Iteration:   5, Mis-number:  0, Pop-number: 10, avg:0.9991517067, min:0.9925, max:1.0000\n"
     ]
    },
    {
     "name": "stderr",
     "output_type": "stream",
     "text": [
      "2024-06-12 00:06:29.110774: I tensorflow/core/common_runtime/executor.cc:1197] [/device:CPU:0] (DEBUG INFO) Executor start aborting (this does not indicate an error and you can ignore this message): INVALID_ARGUMENT: You must feed a value for placeholder tensor 'Placeholder/_1' with dtype int64 and shape [50]\n",
      "\t [[{{node Placeholder/_1}}]]\n"
     ]
    },
    {
     "name": "stdout",
     "output_type": "stream",
     "text": [
      "1/1 [==============================] - 0s 31ms/step\n",
      "Iteration:   6, Mis-number:  0, Pop-number: 10, avg:0.9987160563, min:0.9881, max:1.0000\n"
     ]
    },
    {
     "name": "stderr",
     "output_type": "stream",
     "text": [
      "2024-06-12 00:06:29.375128: I tensorflow/core/common_runtime/executor.cc:1197] [/device:CPU:0] (DEBUG INFO) Executor start aborting (this does not indicate an error and you can ignore this message): INVALID_ARGUMENT: You must feed a value for placeholder tensor 'Placeholder/_1' with dtype int64 and shape [50]\n",
      "\t [[{{node Placeholder/_1}}]]\n"
     ]
    },
    {
     "name": "stdout",
     "output_type": "stream",
     "text": [
      "1/1 [==============================] - 0s 31ms/step\n",
      "Iteration:   7, Mis-number:  0, Pop-number: 10, avg:0.9988172650, min:0.9890, max:1.0000\n",
      "1/1 [==============================] - 0s 24ms/step\n",
      "Iteration:   8, Mis-number:  0, Pop-number: 10, avg:0.9989651442, min:0.9906, max:1.0000\n"
     ]
    },
    {
     "name": "stderr",
     "output_type": "stream",
     "text": [
      "2024-06-12 00:06:29.689349: I tensorflow/core/common_runtime/executor.cc:1197] [/device:CPU:0] (DEBUG INFO) Executor start aborting (this does not indicate an error and you can ignore this message): INVALID_ARGUMENT: You must feed a value for placeholder tensor 'Placeholder/_1' with dtype int64 and shape [50]\n",
      "\t [[{{node Placeholder/_1}}]]\n",
      "2024-06-12 00:06:29.887295: I tensorflow/core/common_runtime/executor.cc:1197] [/device:CPU:0] (DEBUG INFO) Executor start aborting (this does not indicate an error and you can ignore this message): INVALID_ARGUMENT: You must feed a value for placeholder tensor 'Placeholder/_1' with dtype int64 and shape [50]\n",
      "\t [[{{node Placeholder/_1}}]]\n"
     ]
    },
    {
     "name": "stdout",
     "output_type": "stream",
     "text": [
      "1/1 [==============================] - 0s 22ms/step\n",
      "Iteration:   9, Mis-number:  0, Pop-number: 10, avg:0.9991661310, min:0.9926, max:1.0000\n",
      "1/1 [==============================] - 0s 20ms/step\n",
      "Iteration:  10, Mis-number:  0, Pop-number: 10, avg:0.9984844923, min:0.9859, max:1.0000\n",
      "MUTATION digit4 FINISHED\n",
      "REPORT GENERATED\n",
      "TIMING REPORT GENERATED\n",
      "digit 4, popsize 10, xai_method IntegratedGradients\n",
      "Elapsed time: 1.92781662940979\n",
      "{'mutation_time': 0.23244881629943848, 'mutation_number': 90, 'evaluation_number': 100, 'evaluation_time': 1.641453504562378, 'heatmap_time': 1.0551443099975586}\n",
      "percentage of heatmap time 0.5473186974258337\n"
     ]
    },
    {
     "name": "stderr",
     "output_type": "stream",
     "text": [
      "2024-06-12 00:06:30.051842: I tensorflow/core/common_runtime/executor.cc:1197] [/device:CPU:0] (DEBUG INFO) Executor start aborting (this does not indicate an error and you can ignore this message): INVALID_ARGUMENT: You must feed a value for placeholder tensor 'Placeholder/_1' with dtype int64 and shape [50]\n",
      "\t [[{{node Placeholder/_1}}]]\n"
     ]
    },
    {
     "name": "stdout",
     "output_type": "stream",
     "text": [
      " Population size 10\n",
      "1/1 [==============================] - 0s 31ms/step\n"
     ]
    },
    {
     "name": "stderr",
     "output_type": "stream",
     "text": [
      "2024-06-12 00:06:30.269379: I tensorflow/core/common_runtime/executor.cc:1197] [/device:CPU:0] (DEBUG INFO) Executor start aborting (this does not indicate an error and you can ignore this message): INVALID_ARGUMENT: You must feed a value for placeholder tensor 'Placeholder/_1' with dtype int64 and shape [50]\n",
      "\t [[{{node Placeholder/_1}}]]\n"
     ]
    },
    {
     "name": "stdout",
     "output_type": "stream",
     "text": [
      "Iteration:   1, Mis-number:  0, Pop-number: 10, avg:0.9997908473, min:0.9981, max:1.0000\n",
      "1/1 [==============================] - 0s 18ms/step\n",
      "Iteration:   2, Mis-number:  0, Pop-number: 10, avg:0.9998573065, min:0.9987, max:1.0000\n"
     ]
    },
    {
     "name": "stderr",
     "output_type": "stream",
     "text": [
      "2024-06-12 00:06:30.487856: I tensorflow/core/common_runtime/executor.cc:1197] [/device:CPU:0] (DEBUG INFO) Executor start aborting (this does not indicate an error and you can ignore this message): INVALID_ARGUMENT: You must feed a value for placeholder tensor 'Placeholder/_1' with dtype int64 and shape [50]\n",
      "\t [[{{node Placeholder/_1}}]]\n",
      "2024-06-12 00:06:30.627327: I tensorflow/core/common_runtime/executor.cc:1197] [/device:CPU:0] (DEBUG INFO) Executor start aborting (this does not indicate an error and you can ignore this message): INVALID_ARGUMENT: You must feed a value for placeholder tensor 'Placeholder/_1' with dtype int64 and shape [50]\n",
      "\t [[{{node Placeholder/_1}}]]\n"
     ]
    },
    {
     "name": "stdout",
     "output_type": "stream",
     "text": [
      "1/1 [==============================] - 0s 18ms/step\n",
      "Iteration:   3, Mis-number:  0, Pop-number: 10, avg:0.9998389482, min:0.9985, max:1.0000\n",
      "1/1 [==============================] - 0s 18ms/step\n",
      "Iteration:   4, Mis-number:  0, Pop-number: 10, avg:0.9998608828, min:0.9988, max:1.0000\n"
     ]
    },
    {
     "name": "stderr",
     "output_type": "stream",
     "text": [
      "2024-06-12 00:06:30.773777: I tensorflow/core/common_runtime/executor.cc:1197] [/device:CPU:0] (DEBUG INFO) Executor start aborting (this does not indicate an error and you can ignore this message): INVALID_ARGUMENT: You must feed a value for placeholder tensor 'Placeholder/_1' with dtype int64 and shape [50]\n",
      "\t [[{{node Placeholder/_1}}]]\n",
      "2024-06-12 00:06:30.901854: I tensorflow/core/common_runtime/executor.cc:1197] [/device:CPU:0] (DEBUG INFO) Executor start aborting (this does not indicate an error and you can ignore this message): INVALID_ARGUMENT: You must feed a value for placeholder tensor 'Placeholder/_1' with dtype int64 and shape [50]\n",
      "\t [[{{node Placeholder/_1}}]]\n"
     ]
    },
    {
     "name": "stdout",
     "output_type": "stream",
     "text": [
      "1/1 [==============================] - 0s 20ms/step\n",
      "Iteration:   5, Mis-number:  0, Pop-number: 10, avg:0.9998472333, min:0.9986, max:1.0000\n",
      "1/1 [==============================] - 0s 18ms/step\n",
      "Iteration:   6, Mis-number:  0, Pop-number: 10, avg:0.9998136759, min:0.9983, max:1.0000\n"
     ]
    },
    {
     "name": "stderr",
     "output_type": "stream",
     "text": [
      "2024-06-12 00:06:31.031434: I tensorflow/core/common_runtime/executor.cc:1197] [/device:CPU:0] (DEBUG INFO) Executor start aborting (this does not indicate an error and you can ignore this message): INVALID_ARGUMENT: You must feed a value for placeholder tensor 'Placeholder/_1' with dtype int64 and shape [50]\n",
      "\t [[{{node Placeholder/_1}}]]\n",
      "2024-06-12 00:06:31.154063: I tensorflow/core/common_runtime/executor.cc:1197] [/device:CPU:0] (DEBUG INFO) Executor start aborting (this does not indicate an error and you can ignore this message): INVALID_ARGUMENT: You must feed a value for placeholder tensor 'Placeholder/_1' with dtype int64 and shape [50]\n",
      "\t [[{{node Placeholder/_1}}]]\n"
     ]
    },
    {
     "name": "stdout",
     "output_type": "stream",
     "text": [
      "1/1 [==============================] - 0s 19ms/step\n",
      "Iteration:   7, Mis-number:  0, Pop-number: 10, avg:0.9997419119, min:0.9976, max:1.0000\n",
      "1/1 [==============================] - 0s 18ms/step\n",
      "Iteration:   8, Mis-number:  0, Pop-number: 10, avg:0.9996672869, min:0.9968, max:1.0000\n"
     ]
    },
    {
     "name": "stderr",
     "output_type": "stream",
     "text": [
      "2024-06-12 00:06:31.299180: I tensorflow/core/common_runtime/executor.cc:1197] [/device:CPU:0] (DEBUG INFO) Executor start aborting (this does not indicate an error and you can ignore this message): INVALID_ARGUMENT: You must feed a value for placeholder tensor 'Placeholder/_1' with dtype int64 and shape [50]\n",
      "\t [[{{node Placeholder/_1}}]]\n",
      "2024-06-12 00:06:31.442689: I tensorflow/core/common_runtime/executor.cc:1197] [/device:CPU:0] (DEBUG INFO) Executor start aborting (this does not indicate an error and you can ignore this message): INVALID_ARGUMENT: You must feed a value for placeholder tensor 'Placeholder/_1' with dtype int64 and shape [50]\n",
      "\t [[{{node Placeholder/_1}}]]\n"
     ]
    },
    {
     "name": "stdout",
     "output_type": "stream",
     "text": [
      "1/1 [==============================] - 0s 17ms/step\n",
      "Iteration:   9, Mis-number:  0, Pop-number: 10, avg:0.9995462298, min:0.9965, max:1.0000\n",
      "1/1 [==============================] - 0s 16ms/step\n",
      "Iteration:  10, Mis-number:  0, Pop-number: 10, avg:0.9993733168, min:0.9947, max:1.0000\n",
      "MUTATION digit5 FINISHED\n",
      "REPORT GENERATED\n",
      "TIMING REPORT GENERATED\n",
      "digit 5, popsize 10, xai_method IntegratedGradients\n",
      "Elapsed time: 1.51857590675354\n",
      "{'mutation_time': 0.16701316833496094, 'mutation_number': 90, 'evaluation_number': 100, 'evaluation_time': 1.2924869060516357, 'heatmap_time': 0.8265397548675537}\n",
      "percentage of heatmap time 0.5442789200265705\n",
      " Population size 10\n"
     ]
    },
    {
     "name": "stderr",
     "output_type": "stream",
     "text": [
      "2024-06-12 00:06:31.601804: I tensorflow/core/common_runtime/executor.cc:1197] [/device:CPU:0] (DEBUG INFO) Executor start aborting (this does not indicate an error and you can ignore this message): INVALID_ARGUMENT: You must feed a value for placeholder tensor 'Placeholder/_1' with dtype int64 and shape [50]\n",
      "\t [[{{node Placeholder/_1}}]]\n",
      "2024-06-12 00:06:31.783908: I tensorflow/core/common_runtime/executor.cc:1197] [/device:CPU:0] (DEBUG INFO) Executor start aborting (this does not indicate an error and you can ignore this message): INVALID_ARGUMENT: You must feed a value for placeholder tensor 'Placeholder/_1' with dtype int64 and shape [50]\n",
      "\t [[{{node Placeholder/_1}}]]\n"
     ]
    },
    {
     "name": "stdout",
     "output_type": "stream",
     "text": [
      "1/1 [==============================] - 0s 28ms/step\n",
      "Iteration:   1, Mis-number:  0, Pop-number: 10, avg:0.9998755455, min:0.9988, max:1.0000\n",
      "1/1 [==============================] - 0s 17ms/step\n",
      "Iteration:   2, Mis-number:  0, Pop-number: 10, avg:0.9998968244, min:0.9991, max:1.0000\n"
     ]
    },
    {
     "name": "stderr",
     "output_type": "stream",
     "text": [
      "2024-06-12 00:06:31.981584: I tensorflow/core/common_runtime/executor.cc:1197] [/device:CPU:0] (DEBUG INFO) Executor start aborting (this does not indicate an error and you can ignore this message): INVALID_ARGUMENT: You must feed a value for placeholder tensor 'Placeholder/_1' with dtype int64 and shape [50]\n",
      "\t [[{{node Placeholder/_1}}]]\n",
      "2024-06-12 00:06:32.105271: I tensorflow/core/common_runtime/executor.cc:1197] [/device:CPU:0] (DEBUG INFO) Executor start aborting (this does not indicate an error and you can ignore this message): INVALID_ARGUMENT: You must feed a value for placeholder tensor 'Placeholder/_1' with dtype int64 and shape [50]\n",
      "\t [[{{node Placeholder/_1}}]]\n"
     ]
    },
    {
     "name": "stdout",
     "output_type": "stream",
     "text": [
      "1/1 [==============================] - 0s 21ms/step\n",
      "Iteration:   3, Mis-number:  0, Pop-number: 10, avg:0.9998521805, min:0.9992, max:1.0000\n",
      "1/1 [==============================] - 0s 17ms/step\n",
      "Iteration:   4, Mis-number:  0, Pop-number: 10, avg:0.9998526573, min:0.9992, max:1.0000\n"
     ]
    },
    {
     "name": "stderr",
     "output_type": "stream",
     "text": [
      "2024-06-12 00:06:32.239888: I tensorflow/core/common_runtime/executor.cc:1197] [/device:CPU:0] (DEBUG INFO) Executor start aborting (this does not indicate an error and you can ignore this message): INVALID_ARGUMENT: You must feed a value for placeholder tensor 'Placeholder/_1' with dtype int64 and shape [50]\n",
      "\t [[{{node Placeholder/_1}}]]\n",
      "2024-06-12 00:06:32.358270: I tensorflow/core/common_runtime/executor.cc:1197] [/device:CPU:0] (DEBUG INFO) Executor start aborting (this does not indicate an error and you can ignore this message): INVALID_ARGUMENT: You must feed a value for placeholder tensor 'Placeholder/_1' with dtype int64 and shape [50]\n",
      "\t [[{{node Placeholder/_1}}]]\n"
     ]
    },
    {
     "name": "stdout",
     "output_type": "stream",
     "text": [
      "1/1 [==============================] - 0s 16ms/step\n",
      "Iteration:   5, Mis-number:  0, Pop-number: 10, avg:0.9855321646, min:0.8559, max:1.0000\n",
      "1/1 [==============================] - 0s 17ms/step\n",
      "Iteration:   6, Mis-number:  0, Pop-number: 10, avg:0.9634075165, min:0.6344, max:1.0000\n"
     ]
    },
    {
     "name": "stderr",
     "output_type": "stream",
     "text": [
      "2024-06-12 00:06:32.518552: I tensorflow/core/common_runtime/executor.cc:1197] [/device:CPU:0] (DEBUG INFO) Executor start aborting (this does not indicate an error and you can ignore this message): INVALID_ARGUMENT: You must feed a value for placeholder tensor 'Placeholder/_1' with dtype int64 and shape [50]\n",
      "\t [[{{node Placeholder/_1}}]]\n",
      "2024-06-12 00:06:32.642252: I tensorflow/core/common_runtime/executor.cc:1197] [/device:CPU:0] (DEBUG INFO) Executor start aborting (this does not indicate an error and you can ignore this message): INVALID_ARGUMENT: You must feed a value for placeholder tensor 'Placeholder/_1' with dtype int64 and shape [50]\n",
      "\t [[{{node Placeholder/_1}}]]\n"
     ]
    },
    {
     "name": "stdout",
     "output_type": "stream",
     "text": [
      "1/1 [==============================] - 0s 17ms/step\n",
      "Iteration:   7, Mis-number:  0, Pop-number: 10, avg:0.9673892856, min:0.6747, max:1.0000\n",
      "1/1 [==============================] - 0s 18ms/step\n",
      "Iteration:   8, Mis-number:  0, Pop-number: 10, avg:0.9841151237, min:0.8419, max:1.0000\n"
     ]
    },
    {
     "name": "stderr",
     "output_type": "stream",
     "text": [
      "2024-06-12 00:06:32.778149: I tensorflow/core/common_runtime/executor.cc:1197] [/device:CPU:0] (DEBUG INFO) Executor start aborting (this does not indicate an error and you can ignore this message): INVALID_ARGUMENT: You must feed a value for placeholder tensor 'Placeholder/_1' with dtype int64 and shape [50]\n",
      "\t [[{{node Placeholder/_1}}]]\n",
      "2024-06-12 00:06:32.904713: I tensorflow/core/common_runtime/executor.cc:1197] [/device:CPU:0] (DEBUG INFO) Executor start aborting (this does not indicate an error and you can ignore this message): INVALID_ARGUMENT: You must feed a value for placeholder tensor 'Placeholder/_1' with dtype int64 and shape [50]\n",
      "\t [[{{node Placeholder/_1}}]]\n"
     ]
    },
    {
     "name": "stdout",
     "output_type": "stream",
     "text": [
      "1/1 [==============================] - 0s 19ms/step\n",
      "Iteration:   9, Mis-number:  0, Pop-number: 10, avg:0.9000235796, min:0.0009, max:1.0000\n",
      "1/1 [==============================] - 0s 17ms/step\n",
      "Iteration:  10, Mis-number:  1, Pop-number:  9, avg:0.9999242425, min:0.9993, max:1.0000\n",
      "MUTATION digit6 FINISHED\n",
      "REPORT GENERATED\n",
      "TIMING REPORT GENERATED\n",
      "digit 6, popsize 10, xai_method IntegratedGradients\n",
      "Elapsed time: 1.4343888759613037\n",
      "{'mutation_time': 0.16585254669189453, 'mutation_number': 90, 'evaluation_number': 100, 'evaluation_time': 1.217092752456665, 'heatmap_time': 0.7649555206298828}\n",
      "percentage of heatmap time 0.5332917575582699\n"
     ]
    },
    {
     "name": "stderr",
     "output_type": "stream",
     "text": [
      "2024-06-12 00:06:33.044479: I tensorflow/core/common_runtime/executor.cc:1197] [/device:CPU:0] (DEBUG INFO) Executor start aborting (this does not indicate an error and you can ignore this message): INVALID_ARGUMENT: You must feed a value for placeholder tensor 'Placeholder/_1' with dtype int64 and shape [50]\n",
      "\t [[{{node Placeholder/_1}}]]\n",
      "2024-06-12 00:06:33.226646: I tensorflow/core/common_runtime/executor.cc:1197] [/device:CPU:0] (DEBUG INFO) Executor start aborting (this does not indicate an error and you can ignore this message): INVALID_ARGUMENT: You must feed a value for placeholder tensor 'Placeholder/_1' with dtype int64 and shape [50]\n",
      "\t [[{{node Placeholder/_1}}]]\n"
     ]
    },
    {
     "name": "stdout",
     "output_type": "stream",
     "text": [
      " Population size 10\n",
      "1/1 [==============================] - 0s 30ms/step\n",
      "Iteration:   1, Mis-number:  0, Pop-number: 10, avg:0.9999687076, min:0.9997, max:1.0000\n",
      "1/1 [==============================] - 0s 17ms/step\n",
      "Iteration:   2, Mis-number:  0, Pop-number: 10, avg:0.9999270439, min:0.9993, max:1.0000\n"
     ]
    },
    {
     "name": "stderr",
     "output_type": "stream",
     "text": [
      "2024-06-12 00:06:33.425969: I tensorflow/core/common_runtime/executor.cc:1197] [/device:CPU:0] (DEBUG INFO) Executor start aborting (this does not indicate an error and you can ignore this message): INVALID_ARGUMENT: You must feed a value for placeholder tensor 'Placeholder/_1' with dtype int64 and shape [50]\n",
      "\t [[{{node Placeholder/_1}}]]\n",
      "2024-06-12 00:06:33.539897: I tensorflow/core/common_runtime/executor.cc:1197] [/device:CPU:0] (DEBUG INFO) Executor start aborting (this does not indicate an error and you can ignore this message): INVALID_ARGUMENT: You must feed a value for placeholder tensor 'Placeholder/_1' with dtype int64 and shape [50]\n",
      "\t [[{{node Placeholder/_1}}]]\n"
     ]
    },
    {
     "name": "stdout",
     "output_type": "stream",
     "text": [
      "1/1 [==============================] - 0s 17ms/step\n",
      "Iteration:   3, Mis-number:  0, Pop-number: 10, avg:0.9999340773, min:0.9994, max:1.0000\n",
      "1/1 [==============================] - 0s 18ms/step\n",
      "Iteration:   4, Mis-number:  0, Pop-number: 10, avg:0.9999346733, min:0.9994, max:1.0000\n"
     ]
    },
    {
     "name": "stderr",
     "output_type": "stream",
     "text": [
      "2024-06-12 00:06:33.658262: I tensorflow/core/common_runtime/executor.cc:1197] [/device:CPU:0] (DEBUG INFO) Executor start aborting (this does not indicate an error and you can ignore this message): INVALID_ARGUMENT: You must feed a value for placeholder tensor 'Placeholder/_1' with dtype int64 and shape [50]\n",
      "\t [[{{node Placeholder/_1}}]]\n",
      "2024-06-12 00:06:33.796435: I tensorflow/core/common_runtime/executor.cc:1197] [/device:CPU:0] (DEBUG INFO) Executor start aborting (this does not indicate an error and you can ignore this message): INVALID_ARGUMENT: You must feed a value for placeholder tensor 'Placeholder/_1' with dtype int64 and shape [50]\n",
      "\t [[{{node Placeholder/_1}}]]\n"
     ]
    },
    {
     "name": "stdout",
     "output_type": "stream",
     "text": [
      "1/1 [==============================] - 0s 18ms/step\n",
      "Iteration:   5, Mis-number:  0, Pop-number: 10, avg:0.9999341965, min:0.9994, max:1.0000\n",
      "1/1 [==============================] - 0s 18ms/step\n",
      "Iteration:   6, Mis-number:  0, Pop-number: 10, avg:0.9999567270, min:0.9996, max:1.0000\n"
     ]
    },
    {
     "name": "stderr",
     "output_type": "stream",
     "text": [
      "2024-06-12 00:06:33.927445: I tensorflow/core/common_runtime/executor.cc:1197] [/device:CPU:0] (DEBUG INFO) Executor start aborting (this does not indicate an error and you can ignore this message): INVALID_ARGUMENT: You must feed a value for placeholder tensor 'Placeholder/_1' with dtype int64 and shape [50]\n",
      "\t [[{{node Placeholder/_1}}]]\n",
      "2024-06-12 00:06:34.057509: I tensorflow/core/common_runtime/executor.cc:1197] [/device:CPU:0] (DEBUG INFO) Executor start aborting (this does not indicate an error and you can ignore this message): INVALID_ARGUMENT: You must feed a value for placeholder tensor 'Placeholder/_1' with dtype int64 and shape [50]\n",
      "\t [[{{node Placeholder/_1}}]]\n"
     ]
    },
    {
     "name": "stdout",
     "output_type": "stream",
     "text": [
      "1/1 [==============================] - 0s 18ms/step\n",
      "Iteration:   7, Mis-number:  0, Pop-number: 10, avg:0.9999746084, min:0.9998, max:1.0000\n",
      "1/1 [==============================] - 0s 18ms/step\n",
      "Iteration:   8, Mis-number:  0, Pop-number: 10, avg:0.9999831915, min:0.9999, max:1.0000\n"
     ]
    },
    {
     "name": "stderr",
     "output_type": "stream",
     "text": [
      "2024-06-12 00:06:34.201836: I tensorflow/core/common_runtime/executor.cc:1197] [/device:CPU:0] (DEBUG INFO) Executor start aborting (this does not indicate an error and you can ignore this message): INVALID_ARGUMENT: You must feed a value for placeholder tensor 'Placeholder/_1' with dtype int64 and shape [50]\n",
      "\t [[{{node Placeholder/_1}}]]\n",
      "2024-06-12 00:06:34.326976: I tensorflow/core/common_runtime/executor.cc:1197] [/device:CPU:0] (DEBUG INFO) Executor start aborting (this does not indicate an error and you can ignore this message): INVALID_ARGUMENT: You must feed a value for placeholder tensor 'Placeholder/_1' with dtype int64 and shape [50]\n",
      "\t [[{{node Placeholder/_1}}]]\n"
     ]
    },
    {
     "name": "stdout",
     "output_type": "stream",
     "text": [
      "1/1 [==============================] - 0s 17ms/step\n",
      "Iteration:   9, Mis-number:  0, Pop-number: 10, avg:0.9999658465, min:0.9998, max:1.0000\n",
      "1/1 [==============================] - 0s 16ms/step\n",
      "Iteration:  10, Mis-number:  0, Pop-number: 10, avg:0.9999302626, min:0.9994, max:1.0000\n",
      "MUTATION digit7 FINISHED\n",
      "REPORT GENERATED\n",
      "TIMING REPORT GENERATED\n",
      "digit 7, popsize 10, xai_method IntegratedGradients\n",
      "Elapsed time: 1.4203212261199951\n",
      "{'mutation_time': 0.15166640281677246, 'mutation_number': 90, 'evaluation_number': 100, 'evaluation_time': 1.2147393226623535, 'heatmap_time': 0.745234489440918}\n",
      "percentage of heatmap time 0.5246877210510608\n"
     ]
    },
    {
     "name": "stderr",
     "output_type": "stream",
     "text": [
      "2024-06-12 00:06:34.457864: I tensorflow/core/common_runtime/executor.cc:1197] [/device:CPU:0] (DEBUG INFO) Executor start aborting (this does not indicate an error and you can ignore this message): INVALID_ARGUMENT: You must feed a value for placeholder tensor 'Placeholder/_1' with dtype int64 and shape [50]\n",
      "\t [[{{node Placeholder/_1}}]]\n",
      "2024-06-12 00:06:34.657279: I tensorflow/core/common_runtime/executor.cc:1197] [/device:CPU:0] (DEBUG INFO) Executor start aborting (this does not indicate an error and you can ignore this message): INVALID_ARGUMENT: You must feed a value for placeholder tensor 'Placeholder/_1' with dtype int64 and shape [50]\n",
      "\t [[{{node Placeholder/_1}}]]\n"
     ]
    },
    {
     "name": "stdout",
     "output_type": "stream",
     "text": [
      " Population size 10\n",
      "1/1 [==============================] - 0s 30ms/step\n",
      "Iteration:   1, Mis-number:  0, Pop-number: 10, avg:0.9987934232, min:0.9890, max:1.0000\n",
      "1/1 [==============================] - 0s 16ms/step\n",
      "Iteration:   2, Mis-number:  0, Pop-number: 10, avg:0.9988409877, min:0.9893, max:1.0000\n"
     ]
    },
    {
     "name": "stderr",
     "output_type": "stream",
     "text": [
      "2024-06-12 00:06:34.862920: I tensorflow/core/common_runtime/executor.cc:1197] [/device:CPU:0] (DEBUG INFO) Executor start aborting (this does not indicate an error and you can ignore this message): INVALID_ARGUMENT: You must feed a value for placeholder tensor 'Placeholder/_1' with dtype int64 and shape [50]\n",
      "\t [[{{node Placeholder/_1}}]]\n",
      "2024-06-12 00:06:34.982004: I tensorflow/core/common_runtime/executor.cc:1197] [/device:CPU:0] (DEBUG INFO) Executor start aborting (this does not indicate an error and you can ignore this message): INVALID_ARGUMENT: You must feed a value for placeholder tensor 'Placeholder/_1' with dtype int64 and shape [50]\n",
      "\t [[{{node Placeholder/_1}}]]\n"
     ]
    },
    {
     "name": "stdout",
     "output_type": "stream",
     "text": [
      "1/1 [==============================] - 0s 17ms/step\n",
      "Iteration:   3, Mis-number:  0, Pop-number: 10, avg:0.9990105629, min:0.9911, max:1.0000\n",
      "1/1 [==============================] - 0s 18ms/step\n",
      "Iteration:   4, Mis-number:  0, Pop-number: 10, avg:0.9988971949, min:0.9898, max:1.0000\n"
     ]
    },
    {
     "name": "stderr",
     "output_type": "stream",
     "text": [
      "2024-06-12 00:06:35.103202: I tensorflow/core/common_runtime/executor.cc:1197] [/device:CPU:0] (DEBUG INFO) Executor start aborting (this does not indicate an error and you can ignore this message): INVALID_ARGUMENT: You must feed a value for placeholder tensor 'Placeholder/_1' with dtype int64 and shape [50]\n",
      "\t [[{{node Placeholder/_1}}]]\n",
      "2024-06-12 00:06:35.226792: I tensorflow/core/common_runtime/executor.cc:1197] [/device:CPU:0] (DEBUG INFO) Executor start aborting (this does not indicate an error and you can ignore this message): INVALID_ARGUMENT: You must feed a value for placeholder tensor 'Placeholder/_1' with dtype int64 and shape [50]\n",
      "\t [[{{node Placeholder/_1}}]]\n"
     ]
    },
    {
     "name": "stdout",
     "output_type": "stream",
     "text": [
      "1/1 [==============================] - 0s 18ms/step\n",
      "Iteration:   5, Mis-number:  0, Pop-number: 10, avg:0.9988747835, min:0.9897, max:1.0000\n",
      "1/1 [==============================] - 0s 17ms/step\n",
      "Iteration:   6, Mis-number:  0, Pop-number: 10, avg:0.9986194372, min:0.9872, max:1.0000\n"
     ]
    },
    {
     "name": "stderr",
     "output_type": "stream",
     "text": [
      "2024-06-12 00:06:35.368305: I tensorflow/core/common_runtime/executor.cc:1197] [/device:CPU:0] (DEBUG INFO) Executor start aborting (this does not indicate an error and you can ignore this message): INVALID_ARGUMENT: You must feed a value for placeholder tensor 'Placeholder/_1' with dtype int64 and shape [50]\n",
      "\t [[{{node Placeholder/_1}}]]\n",
      "2024-06-12 00:06:35.516266: I tensorflow/core/common_runtime/executor.cc:1197] [/device:CPU:0] (DEBUG INFO) Executor start aborting (this does not indicate an error and you can ignore this message): INVALID_ARGUMENT: You must feed a value for placeholder tensor 'Placeholder/_1' with dtype int64 and shape [50]\n",
      "\t [[{{node Placeholder/_1}}]]\n"
     ]
    },
    {
     "name": "stdout",
     "output_type": "stream",
     "text": [
      "1/1 [==============================] - 0s 16ms/step\n",
      "Iteration:   7, Mis-number:  0, Pop-number: 10, avg:0.9987640381, min:0.9885, max:1.0000\n",
      "1/1 [==============================] - 0s 16ms/step\n",
      "Iteration:   8, Mis-number:  0, Pop-number: 10, avg:0.9981895685, min:0.9830, max:1.0000\n"
     ]
    },
    {
     "name": "stderr",
     "output_type": "stream",
     "text": [
      "2024-06-12 00:06:35.660616: I tensorflow/core/common_runtime/executor.cc:1197] [/device:CPU:0] (DEBUG INFO) Executor start aborting (this does not indicate an error and you can ignore this message): INVALID_ARGUMENT: You must feed a value for placeholder tensor 'Placeholder/_1' with dtype int64 and shape [50]\n",
      "\t [[{{node Placeholder/_1}}]]\n",
      "2024-06-12 00:06:35.825619: I tensorflow/core/common_runtime/executor.cc:1197] [/device:CPU:0] (DEBUG INFO) Executor start aborting (this does not indicate an error and you can ignore this message): INVALID_ARGUMENT: You must feed a value for placeholder tensor 'Placeholder/_1' with dtype int64 and shape [50]\n",
      "\t [[{{node Placeholder/_1}}]]\n"
     ]
    },
    {
     "name": "stdout",
     "output_type": "stream",
     "text": [
      "1/1 [==============================] - 0s 16ms/step\n",
      "Iteration:   9, Mis-number:  0, Pop-number: 10, avg:0.9976459742, min:0.9775, max:1.0000\n",
      "1/1 [==============================] - 0s 16ms/step\n",
      "Iteration:  10, Mis-number:  0, Pop-number: 10, avg:0.9952775240, min:0.9535, max:1.0000\n",
      "MUTATION digit8 FINISHED\n",
      "REPORT GENERATED\n",
      "TIMING REPORT GENERATED\n",
      "digit 8, popsize 10, xai_method IntegratedGradients\n",
      "Elapsed time: 1.4894864559173584\n",
      "{'mutation_time': 0.20983386039733887, 'mutation_number': 90, 'evaluation_number': 100, 'evaluation_time': 1.2124474048614502, 'heatmap_time': 0.7698371410369873}\n",
      "percentage of heatmap time 0.5168416506760862\n",
      " Population size 10"
     ]
    },
    {
     "name": "stderr",
     "output_type": "stream",
     "text": [
      "2024-06-12 00:06:35.956501: I tensorflow/core/common_runtime/executor.cc:1197] [/device:CPU:0] (DEBUG INFO) Executor start aborting (this does not indicate an error and you can ignore this message): INVALID_ARGUMENT: You must feed a value for placeholder tensor 'Placeholder/_1' with dtype int64 and shape [50]\n",
      "\t [[{{node Placeholder/_1}}]]\n",
      "2024-06-12 00:06:36.142102: I tensorflow/core/common_runtime/executor.cc:1197] [/device:CPU:0] (DEBUG INFO) Executor start aborting (this does not indicate an error and you can ignore this message): INVALID_ARGUMENT: You must feed a value for placeholder tensor 'Placeholder/_1' with dtype int64 and shape [50]\n",
      "\t [[{{node Placeholder/_1}}]]\n"
     ]
    },
    {
     "name": "stdout",
     "output_type": "stream",
     "text": [
      "\n",
      "1/1 [==============================] - 0s 29ms/step\n",
      "Iteration:   1, Mis-number:  1, Pop-number:  9, avg:0.9849873781, min:0.8674, max:1.0000\n",
      "1/1 [==============================] - 0s 16ms/step\n",
      "Iteration:   2, Mis-number:  1, Pop-number:  9, avg:0.9786867499, min:0.8107, max:1.0000\n"
     ]
    },
    {
     "name": "stderr",
     "output_type": "stream",
     "text": [
      "2024-06-12 00:06:36.320249: I tensorflow/core/common_runtime/executor.cc:1197] [/device:CPU:0] (DEBUG INFO) Executor start aborting (this does not indicate an error and you can ignore this message): INVALID_ARGUMENT: You must feed a value for placeholder tensor 'Placeholder/_1' with dtype int64 and shape [45]\n",
      "\t [[{{node Placeholder/_1}}]]\n",
      "2024-06-12 00:06:36.446615: I tensorflow/core/common_runtime/executor.cc:1197] [/device:CPU:0] (DEBUG INFO) Executor start aborting (this does not indicate an error and you can ignore this message): INVALID_ARGUMENT: You must feed a value for placeholder tensor 'Placeholder/_1' with dtype int64 and shape [45]\n",
      "\t [[{{node Placeholder/_1}}]]\n"
     ]
    },
    {
     "name": "stdout",
     "output_type": "stream",
     "text": [
      "1/1 [==============================] - 0s 16ms/step\n",
      "Iteration:   3, Mis-number:  1, Pop-number:  9, avg:0.9187604189, min:0.2704, max:1.0000\n",
      "1/1 [==============================] - 0s 18ms/step\n",
      "Iteration:   4, Mis-number:  1, Pop-number:  9, avg:0.9515424371, min:0.5669, max:1.0000\n"
     ]
    },
    {
     "name": "stderr",
     "output_type": "stream",
     "text": [
      "2024-06-12 00:06:36.577103: I tensorflow/core/common_runtime/executor.cc:1197] [/device:CPU:0] (DEBUG INFO) Executor start aborting (this does not indicate an error and you can ignore this message): INVALID_ARGUMENT: You must feed a value for placeholder tensor 'Placeholder/_1' with dtype int64 and shape [45]\n",
      "\t [[{{node Placeholder/_1}}]]\n",
      "2024-06-12 00:06:36.700627: I tensorflow/core/common_runtime/executor.cc:1197] [/device:CPU:0] (DEBUG INFO) Executor start aborting (this does not indicate an error and you can ignore this message): INVALID_ARGUMENT: You must feed a value for placeholder tensor 'Placeholder/_1' with dtype int64 and shape [45]\n",
      "\t [[{{node Placeholder/_1}}]]\n"
     ]
    },
    {
     "name": "stdout",
     "output_type": "stream",
     "text": [
      "1/1 [==============================] - 0s 18ms/step\n",
      "Iteration:   5, Mis-number:  1, Pop-number:  9, avg:0.9622337818, min:0.6632, max:1.0000\n",
      "1/1 [==============================] - 0s 18ms/step\n",
      "Iteration:   6, Mis-number:  1, Pop-number:  9, avg:0.9649717808, min:0.6880, max:1.0000\n"
     ]
    },
    {
     "name": "stderr",
     "output_type": "stream",
     "text": [
      "2024-06-12 00:06:36.826690: I tensorflow/core/common_runtime/executor.cc:1197] [/device:CPU:0] (DEBUG INFO) Executor start aborting (this does not indicate an error and you can ignore this message): INVALID_ARGUMENT: You must feed a value for placeholder tensor 'Placeholder/_1' with dtype int64 and shape [45]\n",
      "\t [[{{node Placeholder/_1}}]]\n",
      "2024-06-12 00:06:36.943994: I tensorflow/core/common_runtime/executor.cc:1197] [/device:CPU:0] (DEBUG INFO) Executor start aborting (this does not indicate an error and you can ignore this message): INVALID_ARGUMENT: You must feed a value for placeholder tensor 'Placeholder/_1' with dtype int64 and shape [45]\n",
      "\t [[{{node Placeholder/_1}}]]\n"
     ]
    },
    {
     "name": "stdout",
     "output_type": "stream",
     "text": [
      "1/1 [==============================] - 0s 19ms/step\n",
      "Iteration:   7, Mis-number:  1, Pop-number:  9, avg:0.9685351849, min:0.7218, max:1.0000\n",
      "1/1 [==============================] - 0s 18ms/step\n",
      "Iteration:   8, Mis-number:  1, Pop-number:  9, avg:0.9697659016, min:0.7330, max:1.0000\n"
     ]
    },
    {
     "name": "stderr",
     "output_type": "stream",
     "text": [
      "2024-06-12 00:06:37.090576: I tensorflow/core/common_runtime/executor.cc:1197] [/device:CPU:0] (DEBUG INFO) Executor start aborting (this does not indicate an error and you can ignore this message): INVALID_ARGUMENT: You must feed a value for placeholder tensor 'Placeholder/_1' with dtype int64 and shape [45]\n",
      "\t [[{{node Placeholder/_1}}]]\n",
      "2024-06-12 00:06:37.216366: I tensorflow/core/common_runtime/executor.cc:1197] [/device:CPU:0] (DEBUG INFO) Executor start aborting (this does not indicate an error and you can ignore this message): INVALID_ARGUMENT: You must feed a value for placeholder tensor 'Placeholder/_1' with dtype int64 and shape [45]\n",
      "\t [[{{node Placeholder/_1}}]]\n"
     ]
    },
    {
     "name": "stdout",
     "output_type": "stream",
     "text": [
      "1/1 [==============================] - 0s 17ms/step\n",
      "Iteration:   9, Mis-number:  1, Pop-number:  9, avg:0.9691491723, min:0.7281, max:1.0000\n",
      "1/1 [==============================] - 0s 18ms/step\n",
      "Iteration:  10, Mis-number:  1, Pop-number:  9, avg:0.9601185918, min:0.6493, max:1.0000\n",
      "MUTATION digit9 FINISHED\n",
      "REPORT GENERATED\n",
      "TIMING REPORT GENERATED\n",
      "digit 9, popsize 10, xai_method IntegratedGradients\n",
      "Elapsed time: 1.3985044956207275\n",
      "{'mutation_time': 0.14328789710998535, 'mutation_number': 81, 'evaluation_number': 91, 'evaluation_time': 1.206125020980835, 'heatmap_time': 0.7396490573883057}\n",
      "percentage of heatmap time 0.5288794989005804\n"
     ]
    },
    {
     "name": "stderr",
     "output_type": "stream",
     "text": [
      "2024-06-12 00:06:37.356136: I tensorflow/core/common_runtime/executor.cc:1197] [/device:CPU:0] (DEBUG INFO) Executor start aborting (this does not indicate an error and you can ignore this message): INVALID_ARGUMENT: You must feed a value for placeholder tensor 'Placeholder/_1' with dtype int64 and shape [45]\n",
      "\t [[{{node Placeholder/_1}}]]\n"
     ]
    }
   ],
   "source": [
    "for digit in range(10): # range(10):\n",
    "    set_all_seeds(digit)\n",
    "    main(num=digit, popsize=10, xai_method=\"IntegratedGradients\", enable_timer=True)"
   ]
  },
  {
   "cell_type": "code",
   "execution_count": null,
   "id": "35fa0c9f-84cd-4e85-8bf8-9e270cb6774a",
   "metadata": {},
   "outputs": [],
   "source": []
  }
 ],
 "metadata": {
  "kernelspec": {
   "display_name": "Python 3 (ipykernel)",
   "language": "python",
   "name": "python3"
  },
  "language_info": {
   "codemirror_mode": {
    "name": "ipython",
    "version": 3
   },
   "file_extension": ".py",
   "mimetype": "text/x-python",
   "name": "python",
   "nbconvert_exporter": "python",
   "pygments_lexer": "ipython3",
   "version": "3.8.18"
  }
 },
 "nbformat": 4,
 "nbformat_minor": 5
}
