{
 "cells": [
  {
   "cell_type": "code",
   "id": "initial_id",
   "metadata": {
    "collapsed": true,
    "ExecuteTime": {
     "end_time": "2025-01-17T11:55:38.175076Z",
     "start_time": "2025-01-17T11:55:38.168807Z"
    }
   },
   "source": [
    "import os\n",
    "print(os.getcwd())\n",
    "result_xmutant = \"XMutant-MNIST/result/digits\"\n",
    "assert os.path.exists(result_xmutant), f\"result path {result_xmutant} does not exist\"\n",
    "model_path = \"XMutant-MNIST/model\"\n",
    "\n",
    "\n",
    "from adversarial_methods.predictor import Predictor\n"
   ],
   "outputs": [
    {
     "ename": "SyntaxError",
     "evalue": "invalid syntax (752953254.py, line 8)",
     "output_type": "error",
     "traceback": [
      "\u001B[0;36m  Cell \u001B[0;32mIn[3], line 8\u001B[0;36m\u001B[0m\n\u001B[0;31m    from XMutant-MNIST.predictor import Predictor\u001B[0m\n\u001B[0m                ^\u001B[0m\n\u001B[0;31mSyntaxError\u001B[0m\u001B[0;31m:\u001B[0m invalid syntax\n"
     ]
    }
   ],
   "execution_count": 3
  },
  {
   "metadata": {},
   "cell_type": "code",
   "outputs": [],
   "execution_count": null,
   "source": "from .XMutant_MNIST.predictor import Predictor",
   "id": "1606328c1d601952"
  }
 ],
 "metadata": {
  "kernelspec": {
   "display_name": "Python 3",
   "language": "python",
   "name": "python3"
  },
  "language_info": {
   "codemirror_mode": {
    "name": "ipython",
    "version": 2
   },
   "file_extension": ".py",
   "mimetype": "text/x-python",
   "name": "python",
   "nbconvert_exporter": "python",
   "pygments_lexer": "ipython2",
   "version": "2.7.6"
  }
 },
 "nbformat": 4,
 "nbformat_minor": 5
}
